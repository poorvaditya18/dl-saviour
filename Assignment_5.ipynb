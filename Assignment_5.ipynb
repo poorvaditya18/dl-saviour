{
 "cells": [
  {
   "cell_type": "markdown",
   "id": "bf5ab383",
   "metadata": {},
   "source": [
    "Importing Libraies"
   ]
  },
  {
   "cell_type": "code",
   "execution_count": 1,
   "id": "d80a3ae5",
   "metadata": {},
   "outputs": [],
   "source": [
    "import pandas as pd\n",
    "import numpy as np\n",
    "import collections\n",
    "import re"
   ]
  },
  {
   "cell_type": "code",
   "execution_count": 4,
   "id": "62508cc7",
   "metadata": {},
   "outputs": [],
   "source": [
    "f=open(\"text.txt\")\n",
    "doc1=f.read()\n",
    "f.close()"
   ]
  },
  {
   "cell_type": "code",
   "execution_count": 5,
   "id": "29cb067b",
   "metadata": {},
   "outputs": [
    {
     "data": {
      "text/plain": [
       "'It was the best of times,\\\\nit was the worst of times,\\\\nit was the age of wisdom,\\\\nit was the age of foolishness'"
      ]
     },
     "execution_count": 5,
     "metadata": {},
     "output_type": "execute_result"
    }
   ],
   "source": [
    "doc1"
   ]
  },
  {
   "cell_type": "code",
   "execution_count": 6,
   "id": "42104a06",
   "metadata": {},
   "outputs": [],
   "source": [
    "l_doc1 = re.sub(r\"[^a-zA-Z0-9]\", \" \", doc1.lower()).split()"
   ]
  },
  {
   "cell_type": "code",
   "execution_count": 7,
   "id": "d6465a0b",
   "metadata": {},
   "outputs": [
    {
     "data": {
      "text/plain": [
       "['it',\n",
       " 'was',\n",
       " 'the',\n",
       " 'best',\n",
       " 'of',\n",
       " 'times',\n",
       " 'nit',\n",
       " 'was',\n",
       " 'the',\n",
       " 'worst',\n",
       " 'of',\n",
       " 'times',\n",
       " 'nit',\n",
       " 'was',\n",
       " 'the',\n",
       " 'age',\n",
       " 'of',\n",
       " 'wisdom',\n",
       " 'nit',\n",
       " 'was',\n",
       " 'the',\n",
       " 'age',\n",
       " 'of',\n",
       " 'foolishness']"
      ]
     },
     "execution_count": 7,
     "metadata": {},
     "output_type": "execute_result"
    }
   ],
   "source": [
    "l_doc1"
   ]
  },
  {
   "cell_type": "code",
   "execution_count": 8,
   "id": "a97cc15c",
   "metadata": {},
   "outputs": [
    {
     "data": {
      "text/plain": [
       "['it',\n",
       " 'was',\n",
       " 'the',\n",
       " 'best',\n",
       " 'of',\n",
       " 'times',\n",
       " 'nit',\n",
       " 'was',\n",
       " 'the',\n",
       " 'worst',\n",
       " 'of',\n",
       " 'times',\n",
       " 'nit',\n",
       " 'was',\n",
       " 'the',\n",
       " 'age',\n",
       " 'of',\n",
       " 'wisdom',\n",
       " 'nit',\n",
       " 'was',\n",
       " 'the',\n",
       " 'age',\n",
       " 'of',\n",
       " 'foolishness']"
      ]
     },
     "execution_count": 8,
     "metadata": {},
     "output_type": "execute_result"
    }
   ],
   "source": [
    "l=l_doc1\n",
    "l"
   ]
  },
  {
   "cell_type": "code",
   "execution_count": 9,
   "id": "1c3ad36e",
   "metadata": {},
   "outputs": [],
   "source": [
    "wordset=set(l)"
   ]
  },
  {
   "cell_type": "code",
   "execution_count": 10,
   "id": "3685036a",
   "metadata": {},
   "outputs": [
    {
     "data": {
      "text/plain": [
       "{'age',\n",
       " 'best',\n",
       " 'foolishness',\n",
       " 'it',\n",
       " 'nit',\n",
       " 'of',\n",
       " 'the',\n",
       " 'times',\n",
       " 'was',\n",
       " 'wisdom',\n",
       " 'worst'}"
      ]
     },
     "execution_count": 10,
     "metadata": {},
     "output_type": "execute_result"
    }
   ],
   "source": [
    "wordset"
   ]
  },
  {
   "cell_type": "code",
   "execution_count": 11,
   "id": "6f303b4a",
   "metadata": {},
   "outputs": [],
   "source": [
    "def calculateBOW(wordset,l_doc):\n",
    "  tf_diz = dict.fromkeys(wordset,0)\n",
    "  for word in l_doc:\n",
    "      tf_diz[word]=l_doc.count(word)\n",
    "  return tf_diz"
   ]
  },
  {
   "cell_type": "code",
   "execution_count": 12,
   "id": "48237779",
   "metadata": {},
   "outputs": [
    {
     "data": {
      "text/html": [
       "<div>\n",
       "<style scoped>\n",
       "    .dataframe tbody tr th:only-of-type {\n",
       "        vertical-align: middle;\n",
       "    }\n",
       "\n",
       "    .dataframe tbody tr th {\n",
       "        vertical-align: top;\n",
       "    }\n",
       "\n",
       "    .dataframe thead th {\n",
       "        text-align: right;\n",
       "    }\n",
       "</style>\n",
       "<table border=\"1\" class=\"dataframe\">\n",
       "  <thead>\n",
       "    <tr style=\"text-align: right;\">\n",
       "      <th></th>\n",
       "      <th>the</th>\n",
       "      <th>times</th>\n",
       "      <th>nit</th>\n",
       "      <th>was</th>\n",
       "      <th>worst</th>\n",
       "      <th>best</th>\n",
       "      <th>age</th>\n",
       "      <th>wisdom</th>\n",
       "      <th>foolishness</th>\n",
       "      <th>of</th>\n",
       "      <th>it</th>\n",
       "    </tr>\n",
       "  </thead>\n",
       "  <tbody>\n",
       "    <tr>\n",
       "      <th>0</th>\n",
       "      <td>4</td>\n",
       "      <td>2</td>\n",
       "      <td>3</td>\n",
       "      <td>4</td>\n",
       "      <td>1</td>\n",
       "      <td>1</td>\n",
       "      <td>2</td>\n",
       "      <td>1</td>\n",
       "      <td>1</td>\n",
       "      <td>4</td>\n",
       "      <td>1</td>\n",
       "    </tr>\n",
       "  </tbody>\n",
       "</table>\n",
       "</div>"
      ],
      "text/plain": [
       "   the  times  nit  was  worst  best  age  wisdom  foolishness  of  it\n",
       "0    4      2    3    4      1     1    2       1            1   4   1"
      ]
     },
     "execution_count": 12,
     "metadata": {},
     "output_type": "execute_result"
    }
   ],
   "source": [
    "bow1 = calculateBOW(wordset,l_doc1)\n",
    "df_bow = pd.DataFrame([bow1])\n",
    "df_bow.head()"
   ]
  },
  {
   "cell_type": "code",
   "execution_count": 13,
   "id": "c5a164c9",
   "metadata": {},
   "outputs": [],
   "source": [
    "from sklearn.feature_extraction.text import CountVectorizer\n",
    "vectorizer = CountVectorizer()"
   ]
  },
  {
   "cell_type": "code",
   "execution_count": 14,
   "id": "d5047fcf",
   "metadata": {},
   "outputs": [
    {
     "data": {
      "text/html": [
       "<div>\n",
       "<style scoped>\n",
       "    .dataframe tbody tr th:only-of-type {\n",
       "        vertical-align: middle;\n",
       "    }\n",
       "\n",
       "    .dataframe tbody tr th {\n",
       "        vertical-align: top;\n",
       "    }\n",
       "\n",
       "    .dataframe thead th {\n",
       "        text-align: right;\n",
       "    }\n",
       "</style>\n",
       "<table border=\"1\" class=\"dataframe\">\n",
       "  <thead>\n",
       "    <tr style=\"text-align: right;\">\n",
       "      <th></th>\n",
       "      <th>age</th>\n",
       "      <th>best</th>\n",
       "      <th>foolishness</th>\n",
       "      <th>it</th>\n",
       "      <th>nit</th>\n",
       "      <th>of</th>\n",
       "      <th>the</th>\n",
       "      <th>times</th>\n",
       "      <th>was</th>\n",
       "      <th>wisdom</th>\n",
       "      <th>worst</th>\n",
       "    </tr>\n",
       "  </thead>\n",
       "  <tbody>\n",
       "    <tr>\n",
       "      <th>0</th>\n",
       "      <td>2</td>\n",
       "      <td>1</td>\n",
       "      <td>1</td>\n",
       "      <td>1</td>\n",
       "      <td>3</td>\n",
       "      <td>4</td>\n",
       "      <td>4</td>\n",
       "      <td>2</td>\n",
       "      <td>4</td>\n",
       "      <td>1</td>\n",
       "      <td>1</td>\n",
       "    </tr>\n",
       "  </tbody>\n",
       "</table>\n",
       "</div>"
      ],
      "text/plain": [
       "   age  best  foolishness  it  nit  of  the  times  was  wisdom  worst\n",
       "0    2     1            1   1    3   4    4      2    4       1      1"
      ]
     },
     "execution_count": 14,
     "metadata": {},
     "output_type": "execute_result"
    }
   ],
   "source": [
    "X = vectorizer.fit_transform([doc1])\n",
    "df_bow_sklearn = pd.DataFrame(X.toarray(),columns=vectorizer.get_feature_names_out())\n",
    "df_bow_sklearn.head()"
   ]
  },
  {
   "cell_type": "code",
   "execution_count": 15,
   "id": "692dabe6",
   "metadata": {},
   "outputs": [
    {
     "name": "stdout",
     "output_type": "stream",
     "text": [
      "['age' 'best' 'foolishness' 'it' 'nit' 'of' 'the' 'times' 'was' 'wisdom'\n",
      " 'worst']\n"
     ]
    }
   ],
   "source": [
    "print(vectorizer.get_feature_names_out())"
   ]
  },
  {
   "cell_type": "code",
   "execution_count": 16,
   "id": "152abc7e",
   "metadata": {},
   "outputs": [
    {
     "name": "stderr",
     "output_type": "stream",
     "text": [
      "[nltk_data] Downloading package punkt to\n",
      "[nltk_data]     C:\\Users\\Admin\\AppData\\Roaming\\nltk_data...\n",
      "[nltk_data]   Unzipping tokenizers\\punkt.zip.\n"
     ]
    }
   ],
   "source": [
    "import nltk\n",
    "nltk.download('punkt')\n",
    "import re\n",
    "import numpy as np\n",
    "\n",
    "f= open(\"text.txt\")\n",
    "text=f.read()\n",
    "f.close()\n",
    "dataset = nltk.sent_tokenize(text)\n",
    "for i in range(len(dataset)):\n",
    "    dataset[i] = dataset[i].lower()\n",
    "    dataset[i] = re.sub(r'\\W', ' ', dataset[i])\n",
    "    dataset[i] = re.sub(r'\\s+', ' ', dataset[i])"
   ]
  },
  {
   "cell_type": "code",
   "execution_count": 17,
   "id": "6ab50215",
   "metadata": {},
   "outputs": [
    {
     "name": "stdout",
     "output_type": "stream",
     "text": [
      "['it was the best of times nit was the worst of times nit was the age of wisdom nit was the age of foolishness']\n"
     ]
    }
   ],
   "source": [
    "print(dataset)"
   ]
  },
  {
   "cell_type": "code",
   "execution_count": 18,
   "id": "8f2839d4",
   "metadata": {},
   "outputs": [],
   "source": [
    "word2count = {}\n",
    "for data in dataset:\n",
    "    words = nltk.word_tokenize(data)\n",
    "    for word in words:\n",
    "        if word not in word2count.keys():\n",
    "            word2count[word] = 1\n",
    "        else:\n",
    "            word2count[word] += 1"
   ]
  },
  {
   "cell_type": "code",
   "execution_count": 19,
   "id": "63c65a42",
   "metadata": {},
   "outputs": [
    {
     "data": {
      "text/plain": [
       "{'it': 1,\n",
       " 'was': 4,\n",
       " 'the': 4,\n",
       " 'best': 1,\n",
       " 'of': 4,\n",
       " 'times': 2,\n",
       " 'nit': 3,\n",
       " 'worst': 1,\n",
       " 'age': 2,\n",
       " 'wisdom': 1,\n",
       " 'foolishness': 1}"
      ]
     },
     "execution_count": 19,
     "metadata": {},
     "output_type": "execute_result"
    }
   ],
   "source": [
    "word2count"
   ]
  },
  {
   "cell_type": "code",
   "execution_count": 20,
   "id": "c0502e6e",
   "metadata": {},
   "outputs": [
    {
     "data": {
      "text/plain": [
       "['it',\n",
       " 'was',\n",
       " 'the',\n",
       " 'best',\n",
       " 'of',\n",
       " 'times',\n",
       " 'nit',\n",
       " 'was',\n",
       " 'the',\n",
       " 'worst',\n",
       " 'of',\n",
       " 'times',\n",
       " 'nit',\n",
       " 'was',\n",
       " 'the',\n",
       " 'age',\n",
       " 'of',\n",
       " 'wisdom',\n",
       " 'nit',\n",
       " 'was',\n",
       " 'the',\n",
       " 'age',\n",
       " 'of',\n",
       " 'foolishness']"
      ]
     },
     "execution_count": 20,
     "metadata": {},
     "output_type": "execute_result"
    }
   ],
   "source": [
    "words"
   ]
  },
  {
   "cell_type": "code",
   "execution_count": 21,
   "id": "4f15831a",
   "metadata": {},
   "outputs": [
    {
     "data": {
      "text/plain": [
       "24"
      ]
     },
     "execution_count": 21,
     "metadata": {},
     "output_type": "execute_result"
    }
   ],
   "source": [
    "len(words)"
   ]
  },
  {
   "cell_type": "code",
   "execution_count": 22,
   "id": "16bde15f",
   "metadata": {},
   "outputs": [],
   "source": [
    "vocab_size = len(wordset)\n",
    "embed_dim = 10\n",
    "context_size = 4"
   ]
  },
  {
   "cell_type": "code",
   "execution_count": 23,
   "id": "b24262aa",
   "metadata": {},
   "outputs": [],
   "source": [
    "word_to_ix = {word: i for i, word in enumerate(wordset)}\n",
    "ix_to_word = {i: word for i, word in enumerate(wordset)}"
   ]
  },
  {
   "cell_type": "code",
   "execution_count": 24,
   "id": "7229d27f",
   "metadata": {},
   "outputs": [
    {
     "data": {
      "text/plain": [
       "{'the': 0,\n",
       " 'times': 1,\n",
       " 'nit': 2,\n",
       " 'was': 3,\n",
       " 'worst': 4,\n",
       " 'best': 5,\n",
       " 'age': 6,\n",
       " 'wisdom': 7,\n",
       " 'foolishness': 8,\n",
       " 'of': 9,\n",
       " 'it': 10}"
      ]
     },
     "execution_count": 24,
     "metadata": {},
     "output_type": "execute_result"
    }
   ],
   "source": [
    "word_to_ix"
   ]
  },
  {
   "cell_type": "code",
   "execution_count": 25,
   "id": "19a64d84",
   "metadata": {},
   "outputs": [
    {
     "data": {
      "text/plain": [
       "{0: 'the',\n",
       " 1: 'times',\n",
       " 2: 'nit',\n",
       " 3: 'was',\n",
       " 4: 'worst',\n",
       " 5: 'best',\n",
       " 6: 'age',\n",
       " 7: 'wisdom',\n",
       " 8: 'foolishness',\n",
       " 9: 'of',\n",
       " 10: 'it'}"
      ]
     },
     "execution_count": 25,
     "metadata": {},
     "output_type": "execute_result"
    }
   ],
   "source": [
    "ix_to_word"
   ]
  },
  {
   "cell_type": "code",
   "execution_count": 26,
   "id": "a33d9ae7",
   "metadata": {},
   "outputs": [
    {
     "name": "stdout",
     "output_type": "stream",
     "text": [
      "[(['it', 'was', 'best', 'of'], 'the'), (['was', 'the', 'of', 'times'], 'best'), (['the', 'best', 'times', 'nit'], 'of'), (['best', 'of', 'nit', 'was'], 'times'), (['of', 'times', 'was', 'the'], 'nit')]\n"
     ]
    }
   ],
   "source": [
    "data = []\n",
    "for i in range(2, len(words) - 2):\n",
    "    context = [words[i - 2], words[i - 1], words[i + 1], words[i + 2]]\n",
    "    target = words[i]\n",
    "    data.append((context, target))\n",
    "print(data[:5])"
   ]
  },
  {
   "cell_type": "code",
   "execution_count": 27,
   "id": "0d7a806b",
   "metadata": {},
   "outputs": [],
   "source": [
    "embeddings =  np.random.random_sample((vocab_size, embed_dim))"
   ]
  },
  {
   "cell_type": "code",
   "execution_count": 28,
   "id": "82680c55",
   "metadata": {},
   "outputs": [
    {
     "data": {
      "text/plain": [
       "array([[0.80991108, 0.79212024, 0.96189246, 0.41748161, 0.46977362,\n",
       "        0.63617215, 0.05528196, 0.52611399, 0.72555458, 0.60216679],\n",
       "       [0.04140279, 0.02278722, 0.39288355, 0.20050536, 0.35394869,\n",
       "        0.87357738, 0.97110444, 0.70954198, 0.89405054, 0.33550807],\n",
       "       [0.28396589, 0.82957823, 0.94486022, 0.35395631, 0.54228567,\n",
       "        0.45200838, 0.25473446, 0.11412732, 0.24145382, 0.5566958 ],\n",
       "       [0.97858097, 0.63104394, 0.50558383, 0.97983896, 0.41108143,\n",
       "        0.39451936, 0.95014208, 0.16944447, 0.21082386, 0.67882479],\n",
       "       [0.96977267, 0.62815756, 0.6050764 , 0.29753179, 0.23886104,\n",
       "        0.39283323, 0.65985717, 0.9211202 , 0.65455145, 0.19574797],\n",
       "       [0.36248116, 0.36375357, 0.42937242, 0.07869374, 0.98474128,\n",
       "        0.77539227, 0.67349228, 0.86065253, 0.59696505, 0.91795069],\n",
       "       [0.70615772, 0.99709091, 0.10336059, 0.71802669, 0.99534084,\n",
       "        0.21080822, 0.94063811, 0.89633222, 0.6310507 , 0.25444534],\n",
       "       [0.35057902, 0.96866762, 0.99701293, 0.16846236, 0.49441249,\n",
       "        0.40133597, 0.61425447, 0.40059508, 0.78565047, 0.90235731],\n",
       "       [0.60236255, 0.154973  , 0.36676386, 0.02597695, 0.12957591,\n",
       "        0.56102165, 0.89198785, 0.81945996, 0.47874696, 0.18972074],\n",
       "       [0.076634  , 0.04430484, 0.95122384, 0.83366058, 0.47344289,\n",
       "        0.96694303, 0.65323014, 0.43765114, 0.67336608, 0.76784024],\n",
       "       [0.86364203, 0.33411337, 0.26546824, 0.35666925, 0.47986273,\n",
       "        0.98986802, 0.28586862, 0.05001322, 0.67694646, 0.76099351]])"
      ]
     },
     "execution_count": 28,
     "metadata": {},
     "output_type": "execute_result"
    }
   ],
   "source": [
    "embeddings"
   ]
  },
  {
   "cell_type": "code",
   "execution_count": 29,
   "id": "c3b425f9",
   "metadata": {},
   "outputs": [],
   "source": [
    "def linear(m, theta):\n",
    "    w = theta\n",
    "    return m.dot(w)"
   ]
  },
  {
   "cell_type": "code",
   "execution_count": 30,
   "id": "f2a3aab9",
   "metadata": {},
   "outputs": [],
   "source": [
    "def log_softmax(x):\n",
    "    e_x = np.exp(x - np.max(x))\n",
    "    return np.log(e_x / e_x.sum())\n",
    "def NLLLoss(logs, targets):\n",
    "    out = logs[range(len(targets)), targets]\n",
    "    return -out.sum()/len(out)"
   ]
  },
  {
   "cell_type": "code",
   "execution_count": 31,
   "id": "694d1f94",
   "metadata": {},
   "outputs": [],
   "source": [
    "import tensorflow as tf\n",
    "import keras.backend as k\n",
    "from keras.models import Sequential\n",
    "from keras.layers import Dense, Embedding, Lambda"
   ]
  },
  {
   "cell_type": "code",
   "execution_count": 32,
   "id": "9af83ae2",
   "metadata": {},
   "outputs": [],
   "source": [
    "def log_softmax_crossentropy_with_logits(logits,target):\n",
    "\n",
    "    out = np.zeros_like(logits)\n",
    "    out[np.arange(len(logits)),target] = 1\n",
    "\n",
    "    softmax = np.exp(logits) / np.exp(logits).sum(axis=-1,keepdims=True)\n",
    "\n",
    "    return (- out + softmax) / logits.shape[0]"
   ]
  },
  {
   "cell_type": "code",
   "execution_count": 33,
   "id": "80682ff3",
   "metadata": {},
   "outputs": [],
   "source": [
    "def forward(context_idxs, theta):\n",
    "    m = embeddings[context_idxs].reshape(1, -1)\n",
    "    n = linear(m, theta)\n",
    "    o = log_softmax(n)\n",
    "\n",
    "    return m, n, o"
   ]
  },
  {
   "cell_type": "code",
   "execution_count": 34,
   "id": "2ac04b95",
   "metadata": {},
   "outputs": [],
   "source": [
    "def backward(preds, theta, target_idxs):\n",
    "    m, n, o = preds\n",
    "\n",
    "    dlog = log_softmax_crossentropy_with_logits(n, target_idxs)\n",
    "    dw = m.T.dot(dlog)\n",
    "\n",
    "    return dw"
   ]
  },
  {
   "cell_type": "code",
   "execution_count": 35,
   "id": "4e2b071a",
   "metadata": {},
   "outputs": [],
   "source": [
    "def optimize(theta, grad, lr=0.03):\n",
    "    theta -= grad * lr\n",
    "    return theta"
   ]
  },
  {
   "cell_type": "code",
   "execution_count": 36,
   "id": "bca2e6a2",
   "metadata": {},
   "outputs": [],
   "source": [
    "theta = np.random.uniform(-1, 1, ( context_size * embed_dim, vocab_size))"
   ]
  },
  {
   "cell_type": "code",
   "execution_count": 37,
   "id": "bf914045",
   "metadata": {},
   "outputs": [],
   "source": [
    "epoch_losses = {}\n",
    "\n",
    "for epoch in range(80):\n",
    "\n",
    "    losses =  []\n",
    "\n",
    "    for context, target in data:\n",
    "        context_idxs = np.array([word_to_ix[w] for w in context])\n",
    "        preds = forward(context_idxs, theta)\n",
    "\n",
    "        target_idxs = np.array([word_to_ix[target]])\n",
    "        loss = NLLLoss(preds[-1], target_idxs)\n",
    "\n",
    "        losses.append(loss)\n",
    "\n",
    "        grad = backward(preds, theta, target_idxs)\n",
    "        theta = optimize(theta, grad, lr=0.03)\n",
    "\n",
    "        epoch_losses[epoch] = losses"
   ]
  },
  {
   "cell_type": "code",
   "execution_count": 38,
   "id": "5ade81a6",
   "metadata": {},
   "outputs": [
    {
     "data": {
      "text/plain": [
       "Text(0, 0.5, 'Losses')"
      ]
     },
     "execution_count": 38,
     "metadata": {},
     "output_type": "execute_result"
    },
    {
     "data": {
      "image/png": "[encoded data removed]",
      "text/plain": [
       "<Figure size 640x480 with 1 Axes>"
      ]
     },
     "metadata": {},
     "output_type": "display_data"
    }
   ],
   "source": [
    "import matplotlib.pyplot as plt\n",
    "ix = np.arange(0,80)\n",
    "\n",
    "fig = plt.figure()\n",
    "fig.suptitle('Epoch/Losses', fontsize=20)\n",
    "plt.plot(ix,[epoch_losses[i][0] for i in ix])\n",
    "plt.xlabel('Epochs', fontsize=12)\n",
    "plt.ylabel('Losses', fontsize=12)"
   ]
  },
  {
   "cell_type": "code",
   "execution_count": 39,
   "id": "1ee88a9a",
   "metadata": {},
   "outputs": [
    {
     "data": {
      "text/plain": [
       "'the'"
      ]
     },
     "execution_count": 39,
     "metadata": {},
     "output_type": "execute_result"
    }
   ],
   "source": [
    "def predict(words):\n",
    "    context_idxs = np.array([word_to_ix[w] for w in words])\n",
    "    preds = forward(context_idxs, theta)\n",
    "    word = ix_to_word[np.argmax(preds[-1])]\n",
    "\n",
    "    return word\n",
    "predict(['it', 'was', 'best', 'of'])"
   ]
  },
  {
   "cell_type": "code",
   "execution_count": 40,
   "id": "47a99776",
   "metadata": {},
   "outputs": [
    {
     "data": {
      "text/plain": [
       "0.95"
      ]
     },
     "execution_count": 40,
     "metadata": {},
     "output_type": "execute_result"
    }
   ],
   "source": [
    "def accuracy():\n",
    "    wrong = 0\n",
    "\n",
    "    for context, target in data:\n",
    "        if(predict(context) != target):\n",
    "            wrong += 1\n",
    "\n",
    "    return (1 - (wrong / len(data)))\n",
    "accuracy()"
   ]
  },
  {
   "cell_type": "code",
   "execution_count": null,
   "id": "05a6bd90",
   "metadata": {},
   "outputs": [],
   "source": []
  }
 ],
 "metadata": {
  "kernelspec": {
   "display_name": "Python 3 (ipykernel)",
   "language": "python",
   "name": "python3"
  },
  "language_info": {
   "codemirror_mode": {
    "name": "ipython",
    "version": 3
   },
   "file_extension": ".py",
   "mimetype": "text/x-python",
   "name": "python",
   "nbconvert_exporter": "python",
   "pygments_lexer": "ipython3",
   "version": "3.9.12"
  }
 },
 "nbformat": 4,
 "nbformat_minor": 5
}
