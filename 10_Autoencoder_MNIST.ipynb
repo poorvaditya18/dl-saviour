{
 "cells": [
  {
   "cell_type": "code",
   "execution_count": 5,
   "id": "6882b7bf-5945-48b2-b7cb-0082a10ec550",
   "metadata": {},
   "outputs": [],
   "source": [
    "import pandas as pd\n",
    "import numpy as np\n",
    "import tensorflow as tf\n",
    "import matplotlib.pyplot as plt\n",
    "from tensorflow.keras.layers import Input, Dense\n",
    "from tensorflow.keras.models import Model\n",
    "from tensorflow.keras import regularizers\n",
    "from sklearn.model_selection import train_test_split"
   ]
  },
  {
   "cell_type": "code",
   "execution_count": 3,
   "id": "4887d0c7-f548-4b85-a513-cd25ec65ecbb",
   "metadata": {},
   "outputs": [
    {
     "data": {
      "text/html": [
       "<div>\n",
       "<style scoped>\n",
       "    .dataframe tbody tr th:only-of-type {\n",
       "        vertical-align: middle;\n",
       "    }\n",
       "\n",
       "    .dataframe tbody tr th {\n",
       "        vertical-align: top;\n",
       "    }\n",
       "\n",
       "    .dataframe thead th {\n",
       "        text-align: right;\n",
       "    }\n",
       "</style>\n",
       "<table border=\"1\" class=\"dataframe\">\n",
       "  <thead>\n",
       "    <tr style=\"text-align: right;\">\n",
       "      <th></th>\n",
       "      <th>pixel1</th>\n",
       "      <th>pixel2</th>\n",
       "      <th>pixel3</th>\n",
       "      <th>pixel4</th>\n",
       "      <th>pixel5</th>\n",
       "      <th>pixel6</th>\n",
       "      <th>pixel7</th>\n",
       "      <th>pixel8</th>\n",
       "      <th>pixel9</th>\n",
       "      <th>pixel10</th>\n",
       "      <th>...</th>\n",
       "      <th>pixel776</th>\n",
       "      <th>pixel777</th>\n",
       "      <th>pixel778</th>\n",
       "      <th>pixel779</th>\n",
       "      <th>pixel780</th>\n",
       "      <th>pixel781</th>\n",
       "      <th>pixel782</th>\n",
       "      <th>pixel783</th>\n",
       "      <th>pixel784</th>\n",
       "      <th>class</th>\n",
       "    </tr>\n",
       "  </thead>\n",
       "  <tbody>\n",
       "    <tr>\n",
       "      <th>0</th>\n",
       "      <td>0</td>\n",
       "      <td>0</td>\n",
       "      <td>0</td>\n",
       "      <td>0</td>\n",
       "      <td>0</td>\n",
       "      <td>0</td>\n",
       "      <td>0</td>\n",
       "      <td>0</td>\n",
       "      <td>0</td>\n",
       "      <td>0</td>\n",
       "      <td>...</td>\n",
       "      <td>0</td>\n",
       "      <td>0</td>\n",
       "      <td>0</td>\n",
       "      <td>0</td>\n",
       "      <td>0</td>\n",
       "      <td>0</td>\n",
       "      <td>0</td>\n",
       "      <td>0</td>\n",
       "      <td>0</td>\n",
       "      <td>5</td>\n",
       "    </tr>\n",
       "    <tr>\n",
       "      <th>1</th>\n",
       "      <td>0</td>\n",
       "      <td>0</td>\n",
       "      <td>0</td>\n",
       "      <td>0</td>\n",
       "      <td>0</td>\n",
       "      <td>0</td>\n",
       "      <td>0</td>\n",
       "      <td>0</td>\n",
       "      <td>0</td>\n",
       "      <td>0</td>\n",
       "      <td>...</td>\n",
       "      <td>0</td>\n",
       "      <td>0</td>\n",
       "      <td>0</td>\n",
       "      <td>0</td>\n",
       "      <td>0</td>\n",
       "      <td>0</td>\n",
       "      <td>0</td>\n",
       "      <td>0</td>\n",
       "      <td>0</td>\n",
       "      <td>0</td>\n",
       "    </tr>\n",
       "    <tr>\n",
       "      <th>2</th>\n",
       "      <td>0</td>\n",
       "      <td>0</td>\n",
       "      <td>0</td>\n",
       "      <td>0</td>\n",
       "      <td>0</td>\n",
       "      <td>0</td>\n",
       "      <td>0</td>\n",
       "      <td>0</td>\n",
       "      <td>0</td>\n",
       "      <td>0</td>\n",
       "      <td>...</td>\n",
       "      <td>0</td>\n",
       "      <td>0</td>\n",
       "      <td>0</td>\n",
       "      <td>0</td>\n",
       "      <td>0</td>\n",
       "      <td>0</td>\n",
       "      <td>0</td>\n",
       "      <td>0</td>\n",
       "      <td>0</td>\n",
       "      <td>4</td>\n",
       "    </tr>\n",
       "    <tr>\n",
       "      <th>3</th>\n",
       "      <td>0</td>\n",
       "      <td>0</td>\n",
       "      <td>0</td>\n",
       "      <td>0</td>\n",
       "      <td>0</td>\n",
       "      <td>0</td>\n",
       "      <td>0</td>\n",
       "      <td>0</td>\n",
       "      <td>0</td>\n",
       "      <td>0</td>\n",
       "      <td>...</td>\n",
       "      <td>0</td>\n",
       "      <td>0</td>\n",
       "      <td>0</td>\n",
       "      <td>0</td>\n",
       "      <td>0</td>\n",
       "      <td>0</td>\n",
       "      <td>0</td>\n",
       "      <td>0</td>\n",
       "      <td>0</td>\n",
       "      <td>1</td>\n",
       "    </tr>\n",
       "    <tr>\n",
       "      <th>4</th>\n",
       "      <td>0</td>\n",
       "      <td>0</td>\n",
       "      <td>0</td>\n",
       "      <td>0</td>\n",
       "      <td>0</td>\n",
       "      <td>0</td>\n",
       "      <td>0</td>\n",
       "      <td>0</td>\n",
       "      <td>0</td>\n",
       "      <td>0</td>\n",
       "      <td>...</td>\n",
       "      <td>0</td>\n",
       "      <td>0</td>\n",
       "      <td>0</td>\n",
       "      <td>0</td>\n",
       "      <td>0</td>\n",
       "      <td>0</td>\n",
       "      <td>0</td>\n",
       "      <td>0</td>\n",
       "      <td>0</td>\n",
       "      <td>9</td>\n",
       "    </tr>\n",
       "  </tbody>\n",
       "</table>\n",
       "<p>5 rows × 785 columns</p>\n",
       "</div>"
      ],
      "text/plain": [
       "   pixel1  pixel2  pixel3  pixel4  pixel5  pixel6  pixel7  pixel8  pixel9  \\\n",
       "0       0       0       0       0       0       0       0       0       0   \n",
       "1       0       0       0       0       0       0       0       0       0   \n",
       "2       0       0       0       0       0       0       0       0       0   \n",
       "3       0       0       0       0       0       0       0       0       0   \n",
       "4       0       0       0       0       0       0       0       0       0   \n",
       "\n",
       "   pixel10  ...  pixel776  pixel777  pixel778  pixel779  pixel780  pixel781  \\\n",
       "0        0  ...         0         0         0         0         0         0   \n",
       "1        0  ...         0         0         0         0         0         0   \n",
       "2        0  ...         0         0         0         0         0         0   \n",
       "3        0  ...         0         0         0         0         0         0   \n",
       "4        0  ...         0         0         0         0         0         0   \n",
       "\n",
       "   pixel782  pixel783  pixel784  class  \n",
       "0         0         0         0      5  \n",
       "1         0         0         0      0  \n",
       "2         0         0         0      4  \n",
       "3         0         0         0      1  \n",
       "4         0         0         0      9  \n",
       "\n",
       "[5 rows x 785 columns]"
      ]
     },
     "execution_count": 3,
     "metadata": {},
     "output_type": "execute_result"
    }
   ],
   "source": [
    "df = pd.read_csv(\"/Users/poorvadityabehre/Desktop/College/DL_FINAL/mnist_784_csv.csv\")\n",
    "df.head()"
   ]
  },
  {
   "cell_type": "code",
   "execution_count": 4,
   "id": "4e2a30a0-d70f-42b2-9704-602db5e505cd",
   "metadata": {},
   "outputs": [
    {
     "data": {
      "text/plain": [
       "(70000, 785)"
      ]
     },
     "execution_count": 4,
     "metadata": {},
     "output_type": "execute_result"
    }
   ],
   "source": [
    "df.shape"
   ]
  },
  {
   "cell_type": "code",
   "execution_count": 6,
   "id": "17130604-32b4-493e-be18-c30dd4011963",
   "metadata": {},
   "outputs": [],
   "source": [
    "X = df.iloc[:, :-1].values\n",
    "y = df.iloc[:, -1].values"
   ]
  },
  {
   "cell_type": "code",
   "execution_count": 7,
   "id": "7cd573fc-8c36-4f9f-9d68-0395abd11cab",
   "metadata": {},
   "outputs": [
    {
     "name": "stdout",
     "output_type": "stream",
     "text": [
      "[[0 0 0 ... 0 0 0]\n",
      " [0 0 0 ... 0 0 0]\n",
      " [0 0 0 ... 0 0 0]\n",
      " ...\n",
      " [0 0 0 ... 0 0 0]\n",
      " [0 0 0 ... 0 0 0]\n",
      " [0 0 0 ... 0 0 0]]\n"
     ]
    }
   ],
   "source": [
    "print(X)"
   ]
  },
  {
   "cell_type": "code",
   "execution_count": 8,
   "id": "87a37b58-7b89-4d99-8f78-02899a7fad63",
   "metadata": {},
   "outputs": [
    {
     "name": "stdout",
     "output_type": "stream",
     "text": [
      "[5 0 4 ... 4 5 6]\n"
     ]
    }
   ],
   "source": [
    "print(y)"
   ]
  },
  {
   "cell_type": "code",
   "execution_count": 9,
   "id": "a487eca0-bd38-4a5f-aa1a-aa0102c8e50d",
   "metadata": {},
   "outputs": [],
   "source": [
    "# split into train and test \n",
    "X_train, X_test, y_train, y_test = train_test_split(X, y, test_size=0.2,random_state=None)\n",
    "\n",
    "# normalise data \n",
    "X_train = X_train.astype('float32') / 255.0\n",
    "X_test = X_test.astype('float32') / 255.0\n",
    "\n",
    "# Flatten the images\n",
    "x_train = X_train.reshape((len(X_train), np.prod(X_train.shape[1:])))\n",
    "x_test = X_test.reshape((len(X_test), np.prod(X_test.shape[1:])))"
   ]
  },
  {
   "cell_type": "code",
   "execution_count": 10,
   "id": "85e45496-ae47-4f73-9c5e-8b4bbf4e99c5",
   "metadata": {},
   "outputs": [],
   "source": [
    "# make autoencoder architecture \n",
    "encoding_dim = 32 # Size of the encoded representations\n",
    "input_img = Input(shape=(784,))\n",
    "encoded = Dense(encoding_dim, activation='relu',activity_regularizer=regularizers.l1(10e-5))(input_img)\n",
    "decoded = Dense(784, activation='sigmoid')(encoded)"
   ]
  },
  {
   "cell_type": "code",
   "execution_count": 11,
   "id": "2102472c-2185-4ed2-825d-9669245c278f",
   "metadata": {},
   "outputs": [],
   "source": [
    "# get autoencoder model \n",
    "autoencoder = Model(input_img, decoded)"
   ]
  },
  {
   "cell_type": "code",
   "execution_count": 12,
   "id": "5d9337d7-af7d-4a16-9954-f2bbfbf7727f",
   "metadata": {},
   "outputs": [],
   "source": [
    "# compile \n",
    "autoencoder.compile(optimizer='adam', loss='binary_crossentropy')"
   ]
  },
  {
   "cell_type": "code",
   "execution_count": 13,
   "id": "696ddbb1-aba4-46d1-8eff-33ea46b1b479",
   "metadata": {},
   "outputs": [
    {
     "name": "stdout",
     "output_type": "stream",
     "text": [
      "Epoch 1/50\n",
      "219/219 [==============================] - 1s 3ms/step - loss: 0.2895 - val_loss: 0.2046\n",
      "Epoch 2/50\n",
      "219/219 [==============================] - 1s 2ms/step - loss: 0.1833 - val_loss: 0.1681\n",
      "Epoch 3/50\n",
      "219/219 [==============================] - 1s 2ms/step - loss: 0.1569 - val_loss: 0.1488\n",
      "Epoch 4/50\n",
      "219/219 [==============================] - 1s 2ms/step - loss: 0.1417 - val_loss: 0.1367\n",
      "Epoch 5/50\n",
      "219/219 [==============================] - 1s 2ms/step - loss: 0.1316 - val_loss: 0.1283\n",
      "Epoch 6/50\n",
      "219/219 [==============================] - 1s 2ms/step - loss: 0.1245 - val_loss: 0.1223\n",
      "Epoch 7/50\n",
      "219/219 [==============================] - 1s 3ms/step - loss: 0.1194 - val_loss: 0.1179\n",
      "Epoch 8/50\n",
      "219/219 [==============================] - 1s 3ms/step - loss: 0.1155 - val_loss: 0.1144\n",
      "Epoch 9/50\n",
      "219/219 [==============================] - 1s 2ms/step - loss: 0.1124 - val_loss: 0.1118\n",
      "Epoch 10/50\n",
      "219/219 [==============================] - 1s 2ms/step - loss: 0.1102 - val_loss: 0.1097\n",
      "Epoch 11/50\n",
      "219/219 [==============================] - 1s 2ms/step - loss: 0.1085 - val_loss: 0.1083\n",
      "Epoch 12/50\n",
      "219/219 [==============================] - 1s 3ms/step - loss: 0.1073 - val_loss: 0.1073\n",
      "Epoch 13/50\n",
      "219/219 [==============================] - 1s 3ms/step - loss: 0.1064 - val_loss: 0.1065\n",
      "Epoch 14/50\n",
      "219/219 [==============================] - 1s 3ms/step - loss: 0.1057 - val_loss: 0.1060\n",
      "Epoch 15/50\n",
      "219/219 [==============================] - 1s 3ms/step - loss: 0.1051 - val_loss: 0.1054\n",
      "Epoch 16/50\n",
      "219/219 [==============================] - 1s 3ms/step - loss: 0.1046 - val_loss: 0.1049\n",
      "Epoch 17/50\n",
      "219/219 [==============================] - 1s 3ms/step - loss: 0.1042 - val_loss: 0.1046\n",
      "Epoch 18/50\n",
      "219/219 [==============================] - 1s 3ms/step - loss: 0.1038 - val_loss: 0.1042\n",
      "Epoch 19/50\n",
      "219/219 [==============================] - 1s 3ms/step - loss: 0.1035 - val_loss: 0.1039\n",
      "Epoch 20/50\n",
      "219/219 [==============================] - 1s 3ms/step - loss: 0.1031 - val_loss: 0.1036\n",
      "Epoch 21/50\n",
      "219/219 [==============================] - 1s 2ms/step - loss: 0.1029 - val_loss: 0.1033\n",
      "Epoch 22/50\n",
      "219/219 [==============================] - 1s 3ms/step - loss: 0.1026 - val_loss: 0.1031\n",
      "Epoch 23/50\n",
      "219/219 [==============================] - 1s 3ms/step - loss: 0.1023 - val_loss: 0.1028\n",
      "Epoch 24/50\n",
      "219/219 [==============================] - 1s 3ms/step - loss: 0.1021 - val_loss: 0.1026\n",
      "Epoch 25/50\n",
      "219/219 [==============================] - 1s 3ms/step - loss: 0.1019 - val_loss: 0.1024\n",
      "Epoch 26/50\n",
      "219/219 [==============================] - 1s 2ms/step - loss: 0.1017 - val_loss: 0.1022\n",
      "Epoch 27/50\n",
      "219/219 [==============================] - 1s 2ms/step - loss: 0.1015 - val_loss: 0.1020\n",
      "Epoch 28/50\n",
      "219/219 [==============================] - 1s 3ms/step - loss: 0.1013 - val_loss: 0.1018\n",
      "Epoch 29/50\n",
      "219/219 [==============================] - 1s 3ms/step - loss: 0.1011 - val_loss: 0.1017\n",
      "Epoch 30/50\n",
      "219/219 [==============================] - 1s 3ms/step - loss: 0.1009 - val_loss: 0.1015\n",
      "Epoch 31/50\n",
      "219/219 [==============================] - 1s 3ms/step - loss: 0.1008 - val_loss: 0.1014\n",
      "Epoch 32/50\n",
      "219/219 [==============================] - 1s 2ms/step - loss: 0.1006 - val_loss: 0.1013\n",
      "Epoch 33/50\n",
      "219/219 [==============================] - 1s 3ms/step - loss: 0.1005 - val_loss: 0.1011\n",
      "Epoch 34/50\n",
      "219/219 [==============================] - 1s 3ms/step - loss: 0.1004 - val_loss: 0.1010\n",
      "Epoch 35/50\n",
      "219/219 [==============================] - 1s 3ms/step - loss: 0.1002 - val_loss: 0.1009\n",
      "Epoch 36/50\n",
      "219/219 [==============================] - 1s 3ms/step - loss: 0.1001 - val_loss: 0.1007\n",
      "Epoch 37/50\n",
      "219/219 [==============================] - 1s 2ms/step - loss: 0.1000 - val_loss: 0.1006\n",
      "Epoch 38/50\n",
      "219/219 [==============================] - 1s 2ms/step - loss: 0.0999 - val_loss: 0.1005\n",
      "Epoch 39/50\n",
      "219/219 [==============================] - 1s 2ms/step - loss: 0.0998 - val_loss: 0.1004\n",
      "Epoch 40/50\n",
      "219/219 [==============================] - 1s 2ms/step - loss: 0.0996 - val_loss: 0.1003\n",
      "Epoch 41/50\n",
      "219/219 [==============================] - 1s 2ms/step - loss: 0.0995 - val_loss: 0.1003\n",
      "Epoch 42/50\n",
      "219/219 [==============================] - 1s 2ms/step - loss: 0.0994 - val_loss: 0.1001\n",
      "Epoch 43/50\n",
      "219/219 [==============================] - 1s 2ms/step - loss: 0.0994 - val_loss: 0.1001\n",
      "Epoch 44/50\n",
      "219/219 [==============================] - 1s 2ms/step - loss: 0.0993 - val_loss: 0.1000\n",
      "Epoch 45/50\n",
      "219/219 [==============================] - 1s 3ms/step - loss: 0.0992 - val_loss: 0.0998\n",
      "Epoch 46/50\n",
      "219/219 [==============================] - 1s 2ms/step - loss: 0.0991 - val_loss: 0.0998\n",
      "Epoch 47/50\n",
      "219/219 [==============================] - 1s 2ms/step - loss: 0.0990 - val_loss: 0.0999\n",
      "Epoch 48/50\n",
      "219/219 [==============================] - 1s 2ms/step - loss: 0.0989 - val_loss: 0.0996\n",
      "Epoch 49/50\n",
      "219/219 [==============================] - 1s 2ms/step - loss: 0.0989 - val_loss: 0.0995\n",
      "Epoch 50/50\n",
      "219/219 [==============================] - 1s 2ms/step - loss: 0.0988 - val_loss: 0.0995\n"
     ]
    },
    {
     "data": {
      "text/plain": [
       "<keras.src.callbacks.History at 0x2962476d0>"
      ]
     },
     "execution_count": 13,
     "metadata": {},
     "output_type": "execute_result"
    }
   ],
   "source": [
    "# Train the autoencoder\n",
    "autoencoder.fit(x_train, x_train, epochs=50, batch_size=256, shuffle=True,validation_data=(x_test, x_test))"
   ]
  },
  {
   "cell_type": "code",
   "execution_count": 14,
   "id": "7272dadb-e389-4508-8ded-4dad5c18fd69",
   "metadata": {},
   "outputs": [
    {
     "name": "stdout",
     "output_type": "stream",
     "text": [
      "438/438 [==============================] - 0s 314us/step\n"
     ]
    }
   ],
   "source": [
    "# Encode and decode some digits\n",
    "encoded_imgs = autoencoder.predict(x_test)"
   ]
  },
  {
   "cell_type": "code",
   "execution_count": 15,
   "id": "6dc5389a-fb20-45da-b012-ae18b7425117",
   "metadata": {},
   "outputs": [
    {
     "data": {
      "image/png": "[encoded data removed]",
      "text/plain": [
       "<Figure size 2000x400 with 20 Axes>"
      ]
     },
     "metadata": {},
     "output_type": "display_data"
    }
   ],
   "source": [
    "# Plot the original and reconstructed images\n",
    "n = 10 # Number of digits to display\n",
    "plt.figure(figsize=(20, 4))\n",
    "for i in range(n):\n",
    "    # Original images\n",
    "    ax = plt.subplot(2, n, i + 1)\n",
    "    plt.imshow(x_test[i].reshape(28, 28))\n",
    "    plt.gray()\n",
    "    ax.get_xaxis().set_visible(False)\n",
    "    ax.get_yaxis().set_visible(False)\n",
    "    \n",
    "    # Reconstructed images\n",
    "    ax = plt.subplot(2, n, i + 1 + n)\n",
    "    plt.imshow(encoded_imgs[i].reshape(28, 28))\n",
    "    plt.gray()\n",
    "    ax.get_xaxis().set_visible(False)\n",
    "    ax.get_yaxis().set_visible(False)\n",
    "plt.show()"
   ]
  },
  {
   "cell_type": "code",
   "execution_count": null,
   "id": "84536396-bc13-4125-8636-86c050e17a01",
   "metadata": {},
   "outputs": [],
   "source": []
  },
  {
   "cell_type": "code",
   "execution_count": null,
   "id": "0689dc31-572f-40ac-8e13-5955e0e98f0a",
   "metadata": {},
   "outputs": [],
   "source": []
  },
  {
   "cell_type": "code",
   "execution_count": null,
   "id": "e69bf7ee-243c-4230-8fd2-b4e948ee3177",
   "metadata": {},
   "outputs": [],
   "source": []
  },
  {
   "cell_type": "code",
   "execution_count": null,
   "id": "548eaad1-28e2-40a5-bfbe-180434e8612d",
   "metadata": {},
   "outputs": [],
   "source": []
  },
  {
   "cell_type": "code",
   "execution_count": null,
   "id": "e1cf036f-b800-424b-b2dc-96a9d0caa99c",
   "metadata": {},
   "outputs": [],
   "source": []
  },
  {
   "cell_type": "code",
   "execution_count": null,
   "id": "79bcd1a0-5a60-4eeb-9370-3e4fab1701fc",
   "metadata": {},
   "outputs": [],
   "source": []
  },
  {
   "cell_type": "code",
   "execution_count": null,
   "id": "48c2b66d-6d6c-415e-ac89-667f8f08b4f7",
   "metadata": {},
   "outputs": [],
   "source": []
  },
  {
   "cell_type": "code",
   "execution_count": null,
   "id": "5eea5a24-be30-4eef-b17f-9f92d5ecf046",
   "metadata": {},
   "outputs": [],
   "source": []
  },
  {
   "cell_type": "code",
   "execution_count": null,
   "id": "c047748e-81fa-4d19-b734-b0c608028f56",
   "metadata": {},
   "outputs": [],
   "source": []
  }
 ],
 "metadata": {
  "kernelspec": {
   "display_name": "Python 3 (ipykernel)",
   "language": "python",
   "name": "python3"
  },
  "language_info": {
   "codemirror_mode": {
    "name": "ipython",
    "version": 3
   },
   "file_extension": ".py",
   "mimetype": "text/x-python",
   "name": "python",
   "nbconvert_exporter": "python",
   "pygments_lexer": "ipython3",
   "version": "3.10.9"
  }
 },
 "nbformat": 4,
 "nbformat_minor": 5
}
