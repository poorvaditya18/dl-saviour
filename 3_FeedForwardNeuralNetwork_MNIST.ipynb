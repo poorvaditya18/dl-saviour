{
 "cells": [
  {
   "cell_type": "code",
   "execution_count": 3,
   "id": "065f5dee-e093-4588-896f-fac5fdc78ca9",
   "metadata": {},
   "outputs": [],
   "source": [
    "# Problem Statement : Implement Feedforward neural networks with Keras and TensorFlow MNIST Digit dataset"
   ]
  },
  {
   "cell_type": "code",
   "execution_count": 8,
   "id": "dcb30e82-07d3-4387-a547-8be976c59439",
   "metadata": {},
   "outputs": [
    {
     "name": "stdout",
     "output_type": "stream",
     "text": [
      "Collecting scikit-learn\n",
      "  Downloading scikit_learn-1.3.2-cp310-cp310-macosx_12_0_arm64.whl (9.5 MB)\n",
      "\u001b[2K     \u001b[38;2;114;156;31m━━━━━━━━━━━━━━━━━━━━━━━━━━━━━━━━━━━━━━━━\u001b[0m \u001b[32m9.5/9.5 MB\u001b[0m \u001b[31m5.8 MB/s\u001b[0m eta \u001b[36m0:00:00\u001b[0mm eta \u001b[36m0:00:01\u001b[0m[36m0:00:01\u001b[0m\n",
      "\u001b[?25hCollecting matplotlib\n",
      "  Downloading matplotlib-3.8.2-cp310-cp310-macosx_11_0_arm64.whl (7.5 MB)\n",
      "\u001b[2K     \u001b[38;2;114;156;31m━━━━━━━━━━━━━━━━━━━━━━━━━━━━━━━━━━━━━━━━\u001b[0m \u001b[32m7.5/7.5 MB\u001b[0m \u001b[31m7.4 MB/s\u001b[0m eta \u001b[36m0:00:00\u001b[0mm eta \u001b[36m0:00:01\u001b[0m0:01\u001b[0m:01\u001b[0m\n",
      "\u001b[?25hCollecting threadpoolctl>=2.0.0\n",
      "  Using cached threadpoolctl-3.2.0-py3-none-any.whl (15 kB)\n",
      "Collecting scipy>=1.5.0\n",
      "  Downloading scipy-1.11.4-cp310-cp310-macosx_12_0_arm64.whl (29.8 MB)\n",
      "\u001b[2K     \u001b[38;2;114;156;31m━━━━━━━━━━━━━━━━━━━━━━━━━━━━━━━━━━━━━━━━\u001b[0m \u001b[32m29.8/29.8 MB\u001b[0m \u001b[31m6.3 MB/s\u001b[0m eta \u001b[36m0:00:00\u001b[0mm eta \u001b[36m0:00:01\u001b[0m[36m0:00:01\u001b[0m\n",
      "\u001b[?25hRequirement already satisfied: numpy<2.0,>=1.17.3 in ./lib/python3.10/site-packages (from scikit-learn) (1.26.2)\n",
      "Collecting joblib>=1.1.1\n",
      "  Using cached joblib-1.3.2-py3-none-any.whl (302 kB)\n",
      "Collecting contourpy>=1.0.1\n",
      "  Downloading contourpy-1.2.0-cp310-cp310-macosx_11_0_arm64.whl (242 kB)\n",
      "\u001b[2K     \u001b[38;2;114;156;31m━━━━━━━━━━━━━━━━━━━━━━━━━━━━━━━━━━━━━━━\u001b[0m \u001b[32m242.2/242.2 kB\u001b[0m \u001b[31m1.5 MB/s\u001b[0m eta \u001b[36m0:00:00\u001b[0m MB/s\u001b[0m eta \u001b[36m0:00:01\u001b[0m\n",
      "\u001b[?25hCollecting pillow>=8\n",
      "  Using cached Pillow-10.1.0-cp310-cp310-macosx_11_0_arm64.whl (3.3 MB)\n",
      "Collecting fonttools>=4.22.0\n",
      "  Downloading fonttools-4.44.3-cp310-cp310-macosx_10_9_universal2.whl (2.7 MB)\n",
      "\u001b[2K     \u001b[38;2;114;156;31m━━━━━━━━━━━━━━━━━━━━━━━━━━━━━━━━━━━━━━━━\u001b[0m \u001b[32m2.7/2.7 MB\u001b[0m \u001b[31m5.8 MB/s\u001b[0m eta \u001b[36m0:00:00\u001b[0mm eta \u001b[36m0:00:01\u001b[0m[36m0:00:01\u001b[0m\n",
      "\u001b[?25hRequirement already satisfied: packaging>=20.0 in ./lib/python3.10/site-packages (from matplotlib) (23.2)\n",
      "Collecting kiwisolver>=1.3.1\n",
      "  Using cached kiwisolver-1.4.5-cp310-cp310-macosx_11_0_arm64.whl (66 kB)\n",
      "Requirement already satisfied: python-dateutil>=2.7 in ./lib/python3.10/site-packages (from matplotlib) (2.8.2)\n",
      "Collecting cycler>=0.10\n",
      "  Using cached cycler-0.12.1-py3-none-any.whl (8.3 kB)\n",
      "Collecting pyparsing>=2.3.1\n",
      "  Using cached pyparsing-3.1.1-py3-none-any.whl (103 kB)\n",
      "Requirement already satisfied: six>=1.5 in ./lib/python3.10/site-packages (from python-dateutil>=2.7->matplotlib) (1.16.0)\n",
      "Installing collected packages: threadpoolctl, scipy, pyparsing, pillow, kiwisolver, joblib, fonttools, cycler, contourpy, scikit-learn, matplotlib\n",
      "Successfully installed contourpy-1.2.0 cycler-0.12.1 fonttools-4.44.3 joblib-1.3.2 kiwisolver-1.4.5 matplotlib-3.8.2 pillow-10.1.0 pyparsing-3.1.1 scikit-learn-1.3.2 scipy-1.11.4 threadpoolctl-3.2.0\n",
      "\n",
      "\u001b[1m[\u001b[0m\u001b[34;49mnotice\u001b[0m\u001b[1;39;49m]\u001b[0m\u001b[39;49m A new release of pip available: \u001b[0m\u001b[31;49m22.3.1\u001b[0m\u001b[39;49m -> \u001b[0m\u001b[32;49m23.3.1\u001b[0m\n",
      "\u001b[1m[\u001b[0m\u001b[34;49mnotice\u001b[0m\u001b[1;39;49m]\u001b[0m\u001b[39;49m To update, run: \u001b[0m\u001b[32;49mpip install --upgrade pip\u001b[0m\n"
     ]
    }
   ],
   "source": [
    "# install libraries\n",
    "!pip3 install scikit-learn matplotlib"
   ]
  },
  {
   "cell_type": "code",
   "execution_count": 9,
   "id": "17f04d27-8e9b-46bf-ac11-d83ca216d67e",
   "metadata": {},
   "outputs": [],
   "source": [
    "# import all the above libraries\n",
    "import numpy as np\n",
    "import pandas as pd\n",
    "import tensorflow as tf\n",
    "from sklearn.model_selection import train_test_split\n",
    "from tensorflow import keras\n",
    "import matplotlib.pyplot as plt\n",
    "import random"
   ]
  },
  {
   "cell_type": "code",
   "execution_count": 10,
   "id": "725ba561-10fd-4fd4-9d84-fe7fb645811c",
   "metadata": {},
   "outputs": [],
   "source": [
    "# read dataset \n",
    "\"\"\"\n",
    "or you can use this if you have downloaded the dataset locally\n",
    "NOTE : if you have mnist_784.csv : \n",
    "       in this dataset image are represented in as 1d array . \n",
    "       you need to reshape this into ( 28, 28 )\n",
    "\n",
    "1. df = pd.read_csv('mnist_784_csv.csv')\n",
    "\n",
    "2. x=df.drop(['class'], axis=1)\n",
    "   y=df['class'].values\n",
    "\n",
    "3. x_train, x_test, y_train, y_test = train_test_split(x, y, test_size=0.2, random_state=None)\n",
    "\n",
    "4. image_shape = (28,28)\n",
    "\n",
    "5.  BUILD : the model using keras.Sequential()\n",
    "\n",
    "    model = keras.Sequential([\n",
    "     keras.layers.Flatten(input_shape=(784,)),\n",
    "     keras.layers.Dense(256,activation='relu'),\n",
    "     keras.layers.Dense(128,activation='relu'),\n",
    "     keras.layers.Dense(32,activation='relu'),\n",
    "     keras.layers.Dense(10,activation='softmax')\n",
    "    ])\n",
    "\n",
    "6.  COMPILE :  \n",
    "    \n",
    "    model.compile(optimizer='sgd', loss=\"sparse_categorical_crossentropy\", metrics=[\"accuracy\"])\n",
    "\n",
    "7.  TRAIN : using train dataset x_train , y_train \n",
    "    \n",
    "    history = model.fit(x_train, y_train, epochs=10)\n",
    "\n",
    "    // history object have keys : loss , accuracy : these are w.r.t training data  \n",
    "    //                            val_loss , val_accuracy : these are w.r.t to testing data\n",
    "    \n",
    "8.  TEST : test the model using model.evaluate(x_test, y_test)\n",
    "    \n",
    "    test_loss, test_accuracy = model.evaluate(x_test,y_test)\n",
    "\n",
    "9.  Reshape the test data : since we want to plot to 2d \n",
    "    x_test_img = x_test.to_numpy().reshape(x_test.shape[0],28,28)\n",
    "    plt.imshow(x_test_img[0])\n",
    "\n",
    "10. PREDICT : from the random test value we will predict using the model.predict\n",
    "    n=random.randint(0,500)\n",
    "    plt.imshow(x_test_img[n])\n",
    "    predicted_value = model.predict(x_test)\n",
    "    print(np.argmax(predicted_value[n]))\n",
    "\n",
    "11. PLOT THE graph loss and accuracy : training data \n",
    "    plt.plot(history.history['loss'],label='loss',color='g')\n",
    "    plt.plot(history.history['accuracy'],label='accuracy',color='b')\n",
    "    plt.legend()\n",
    "    plt.show()\n",
    "\n",
    "CONCLUSION: AS MODEL EPOCHS INCREASES , MODEL ACCURACY INCREASE AND LOSS DECREASES. \n",
    "\n",
    "\"\"\"\n",
    "mnist = tf.keras.datasets.mnist\n",
    "\n",
    "# split into train and test \n",
    "(x_train, y_train), (x_test,y_test) = mnist.load_data()"
   ]
  },
  {
   "cell_type": "code",
   "execution_count": 13,
   "id": "03b4b0e9-246e-42c1-91de-ced0f76e8b0a",
   "metadata": {},
   "outputs": [
    {
     "name": "stdout",
     "output_type": "stream",
     "text": [
      "length of training dataset : 60000 and dimension of dataset (60000, 28, 28) \n",
      "length of testing dataset : 10000 and dimension of dataset (10000, 28, 28) \n"
     ]
    }
   ],
   "source": [
    "# describe dataset \n",
    "print(\"length of training dataset : {0} and dimension of dataset {1} \".format(len(x_train),x_train.shape)) \n",
    "print(\"length of testing dataset : {0} and dimension of dataset {1} \".format(len(x_test),x_test.shape)) \n"
   ]
  },
  {
   "cell_type": "code",
   "execution_count": 15,
   "id": "7bdef4a0-8b45-449d-b6ea-0174f8487d1c",
   "metadata": {},
   "outputs": [
    {
     "name": "stdout",
     "output_type": "stream",
     "text": [
      "[[  0   0   0   0   0   0   0   0   0   0   0   0   0   0   0   0   0   0\n",
      "    0   0   0   0   0   0   0   0   0   0]\n",
      " [  0   0   0   0   0   0   0   0   0   0   0   0   0   0   0   0   0   0\n",
      "    0   0   0   0   0   0   0   0   0   0]\n",
      " [  0   0   0   0   0   0   0   0   0   0   0   0   0   0   0   0   0   0\n",
      "    0   0   0   0   0   0   0   0   0   0]\n",
      " [  0   0   0   0   0   0   0   0   0   0   0   0   0   0   0   0   0   0\n",
      "    0   0   0   0   0   0   0   0   0   0]\n",
      " [  0   0   0   0   0   0   0   0   0   0   0   0   0   0   0   0   0   0\n",
      "    0   0   0   0   0   0   0   0   0   0]\n",
      " [  0   0   0   0   0   0   0   0   0   0   0   0   3  18  18  18 126 136\n",
      "  175  26 166 255 247 127   0   0   0   0]\n",
      " [  0   0   0   0   0   0   0   0  30  36  94 154 170 253 253 253 253 253\n",
      "  225 172 253 242 195  64   0   0   0   0]\n",
      " [  0   0   0   0   0   0   0  49 238 253 253 253 253 253 253 253 253 251\n",
      "   93  82  82  56  39   0   0   0   0   0]\n",
      " [  0   0   0   0   0   0   0  18 219 253 253 253 253 253 198 182 247 241\n",
      "    0   0   0   0   0   0   0   0   0   0]\n",
      " [  0   0   0   0   0   0   0   0  80 156 107 253 253 205  11   0  43 154\n",
      "    0   0   0   0   0   0   0   0   0   0]\n",
      " [  0   0   0   0   0   0   0   0   0  14   1 154 253  90   0   0   0   0\n",
      "    0   0   0   0   0   0   0   0   0   0]\n",
      " [  0   0   0   0   0   0   0   0   0   0   0 139 253 190   2   0   0   0\n",
      "    0   0   0   0   0   0   0   0   0   0]\n",
      " [  0   0   0   0   0   0   0   0   0   0   0  11 190 253  70   0   0   0\n",
      "    0   0   0   0   0   0   0   0   0   0]\n",
      " [  0   0   0   0   0   0   0   0   0   0   0   0  35 241 225 160 108   1\n",
      "    0   0   0   0   0   0   0   0   0   0]\n",
      " [  0   0   0   0   0   0   0   0   0   0   0   0   0  81 240 253 253 119\n",
      "   25   0   0   0   0   0   0   0   0   0]\n",
      " [  0   0   0   0   0   0   0   0   0   0   0   0   0   0  45 186 253 253\n",
      "  150  27   0   0   0   0   0   0   0   0]\n",
      " [  0   0   0   0   0   0   0   0   0   0   0   0   0   0   0  16  93 252\n",
      "  253 187   0   0   0   0   0   0   0   0]\n",
      " [  0   0   0   0   0   0   0   0   0   0   0   0   0   0   0   0   0 249\n",
      "  253 249  64   0   0   0   0   0   0   0]\n",
      " [  0   0   0   0   0   0   0   0   0   0   0   0   0   0  46 130 183 253\n",
      "  253 207   2   0   0   0   0   0   0   0]\n",
      " [  0   0   0   0   0   0   0   0   0   0   0   0  39 148 229 253 253 253\n",
      "  250 182   0   0   0   0   0   0   0   0]\n",
      " [  0   0   0   0   0   0   0   0   0   0  24 114 221 253 253 253 253 201\n",
      "   78   0   0   0   0   0   0   0   0   0]\n",
      " [  0   0   0   0   0   0   0   0  23  66 213 253 253 253 253 198  81   2\n",
      "    0   0   0   0   0   0   0   0   0   0]\n",
      " [  0   0   0   0   0   0  18 171 219 253 253 253 253 195  80   9   0   0\n",
      "    0   0   0   0   0   0   0   0   0   0]\n",
      " [  0   0   0   0  55 172 226 253 253 253 253 244 133  11   0   0   0   0\n",
      "    0   0   0   0   0   0   0   0   0   0]\n",
      " [  0   0   0   0 136 253 253 253 212 135 132  16   0   0   0   0   0   0\n",
      "    0   0   0   0   0   0   0   0   0   0]\n",
      " [  0   0   0   0   0   0   0   0   0   0   0   0   0   0   0   0   0   0\n",
      "    0   0   0   0   0   0   0   0   0   0]\n",
      " [  0   0   0   0   0   0   0   0   0   0   0   0   0   0   0   0   0   0\n",
      "    0   0   0   0   0   0   0   0   0   0]\n",
      " [  0   0   0   0   0   0   0   0   0   0   0   0   0   0   0   0   0   0\n",
      "    0   0   0   0   0   0   0   0   0   0]]\n"
     ]
    }
   ],
   "source": [
    "# check the first image \n",
    "print(x_train[0])"
   ]
  },
  {
   "cell_type": "code",
   "execution_count": 16,
   "id": "55101e0f-0f76-41f0-a287-38417ed173dd",
   "metadata": {},
   "outputs": [
    {
     "data": {
      "text/plain": [
       "<matplotlib.image.AxesImage at 0x28e3a95a0>"
      ]
     },
     "execution_count": 16,
     "metadata": {},
     "output_type": "execute_result"
    },
    {
     "data": {
      "image/png": "[encoded data removed]",
      "text/plain": [
       "<Figure size 480x480 with 1 Axes>"
      ]
     },
     "metadata": {},
     "output_type": "display_data"
    }
   ],
   "source": [
    "plt.matshow(x_train[0])"
   ]
  },
  {
   "cell_type": "code",
   "execution_count": 17,
   "id": "bae2af1d-2865-4a4c-8d6b-bfa94241957e",
   "metadata": {},
   "outputs": [],
   "source": [
    "# normalising the data \n",
    "x_train = x_train /255 \n",
    "x_test = x_test /255"
   ]
  },
  {
   "cell_type": "code",
   "execution_count": 20,
   "id": "3879a4d4-a21f-4330-ba5c-0100cb34adff",
   "metadata": {},
   "outputs": [],
   "source": [
    "# create model \n",
    "model = keras.Sequential([\n",
    "     keras.layers.Flatten(input_shape=(28,28)), # reshaping data from 2d to 1d \n",
    "     keras.layers.Dense(128,activation='relu'),\n",
    "     keras.layers.Dense(10,activation='softmax')\n",
    "    ])\n"
   ]
  },
  {
   "cell_type": "code",
   "execution_count": 21,
   "id": "78693fc7-298e-4676-bef8-0b526d24811e",
   "metadata": {},
   "outputs": [],
   "source": [
    "model = keras.Sequential([\n",
    " keras.layers.Flatten(input_shape=(28,28)), # first layer is the input layer where we are feeding the image. Flatten: we are reshaping the data from 2d to 1d.     \n",
    "  # dense layer : ensure that each neuron in the previous layer is connected to the each neuron to the next layer.\n",
    " keras.layers.Dense(128,activation='relu'), # dense layer \n",
    " keras.layers.Dense(10,activation='softmax') # output layer. \n",
    "])"
   ]
  },
  {
   "cell_type": "code",
   "execution_count": 22,
   "id": "7a145275-0805-41e9-aafd-af393a2db697",
   "metadata": {},
   "outputs": [],
   "source": [
    "model.compile(optimizer='sgd',\n",
    " loss=\"sparse_categorical_crossentropy\",\n",
    " metrics=[\"accuracy\"])"
   ]
  },
  {
   "cell_type": "code",
   "execution_count": 24,
   "id": "6b65220d-8f3c-443c-9433-b935af67abab",
   "metadata": {},
   "outputs": [
    {
     "name": "stdout",
     "output_type": "stream",
     "text": [
      "Epoch 1/10\n",
      "1875/1875 [==============================] - 1s 476us/step - loss: 0.3376 - accuracy: 0.9063 - val_loss: 0.2912 - val_accuracy: 0.9198\n",
      "Epoch 2/10\n",
      "1875/1875 [==============================] - 1s 462us/step - loss: 0.2884 - accuracy: 0.9195 - val_loss: 0.2602 - val_accuracy: 0.9261\n",
      "Epoch 3/10\n",
      "1875/1875 [==============================] - 1s 459us/step - loss: 0.2573 - accuracy: 0.9280 - val_loss: 0.2372 - val_accuracy: 0.9327\n",
      "Epoch 4/10\n",
      "1875/1875 [==============================] - 1s 468us/step - loss: 0.2337 - accuracy: 0.9348 - val_loss: 0.2186 - val_accuracy: 0.9388\n",
      "Epoch 5/10\n",
      "1875/1875 [==============================] - 1s 469us/step - loss: 0.2150 - accuracy: 0.9400 - val_loss: 0.2026 - val_accuracy: 0.9428\n",
      "Epoch 6/10\n",
      "1875/1875 [==============================] - 1s 476us/step - loss: 0.1993 - accuracy: 0.9447 - val_loss: 0.1908 - val_accuracy: 0.9464\n",
      "Epoch 7/10\n",
      "1875/1875 [==============================] - 1s 460us/step - loss: 0.1857 - accuracy: 0.9482 - val_loss: 0.1795 - val_accuracy: 0.9489\n",
      "Epoch 8/10\n",
      "1875/1875 [==============================] - 1s 463us/step - loss: 0.1740 - accuracy: 0.9511 - val_loss: 0.1702 - val_accuracy: 0.9523\n",
      "Epoch 9/10\n",
      "1875/1875 [==============================] - 1s 470us/step - loss: 0.1637 - accuracy: 0.9543 - val_loss: 0.1623 - val_accuracy: 0.9531\n",
      "Epoch 10/10\n",
      "1875/1875 [==============================] - 1s 486us/step - loss: 0.1546 - accuracy: 0.9569 - val_loss: 0.1543 - val_accuracy: 0.9552\n"
     ]
    }
   ],
   "source": [
    "# train the model \n",
    "history = model.fit(x_train , y_train, validation_data=(x_test,y_test),epochs = 10)"
   ]
  },
  {
   "cell_type": "code",
   "execution_count": 25,
   "id": "66f9e36b-0597-4bd5-926f-ca76db69a0c2",
   "metadata": {},
   "outputs": [
    {
     "name": "stdout",
     "output_type": "stream",
     "text": [
      "313/313 [==============================] - 0s 340us/step - loss: 0.1543 - accuracy: 0.9552\n",
      "Loss : 0.1543286293745041\n",
      "Accuracy: 0.9552000164985657\n"
     ]
    }
   ],
   "source": [
    "# evaluate the model \n",
    "test_loss , test_acc = model.evaluate(x_test,y_test)\n",
    "print(f\"Loss : {test_loss}\")\n",
    "print(f\"Accuracy: {test_acc}\")"
   ]
  },
  {
   "cell_type": "code",
   "execution_count": 32,
   "id": "5c50443f-8309-43d9-bee6-5abf27067145",
   "metadata": {},
   "outputs": [
    {
     "name": "stdout",
     "output_type": "stream",
     "text": [
      "value of n : 5515\n"
     ]
    },
    {
     "data": {
      "image/png": "[encoded data removed]",
      "text/plain": [
       "<Figure size 640x480 with 1 Axes>"
      ]
     },
     "metadata": {},
     "output_type": "display_data"
    }
   ],
   "source": [
    "# make prediction on new data \n",
    "n = random.randint(0,9999) # choose the random value from the testing data \n",
    "print(\"value of n : {}\".format(n))\n",
    "plt.imshow(x_test[n]) # this is the random test image \n",
    "plt.show()"
   ]
  },
  {
   "cell_type": "code",
   "execution_count": 34,
   "id": "d9174479-7d43-49a7-a1b5-2f682d0cbfbc",
   "metadata": {},
   "outputs": [
    {
     "name": "stdout",
     "output_type": "stream",
     "text": [
      "313/313 [==============================] - 0s 301us/step\n",
      "Handwritten number : 2\n"
     ]
    }
   ],
   "source": [
    "# predict the model using testing data  \n",
    "predicted_value = model.predict(x_test)\n",
    "# print(\"Predicted value array : {0}\".format(predicted_value))\n",
    "print(\"Handwritten number : %d\" %np.argmax(predicted_value[n]))"
   ]
  },
  {
   "cell_type": "code",
   "execution_count": 36,
   "id": "716ab7c4-634b-4b54-8c1b-ccaf2980a874",
   "metadata": {},
   "outputs": [
    {
     "data": {
      "image/png": "[encoded data removed]",
      "text/plain": [
       "<Figure size 640x480 with 1 Axes>"
      ]
     },
     "metadata": {},
     "output_type": "display_data"
    }
   ],
   "source": [
    "# plot the graph \n",
    "plt.plot(history.history['accuracy'])\n",
    "plt.plot(history.history['val_accuracy'])\n",
    "plt.plot(history.history['loss'])\n",
    "plt.plot(history.history['val_loss'])\n",
    "plt.title('Training Loss and accuracy')\n",
    "plt.ylabel('accuracy/Loss')\n",
    "plt.xlabel('epoch')\n",
    "plt.legend(['accuracy', 'val_accuracy','loss','val_loss'])\n",
    "plt.show()\n",
    "#------------------------- done ---------------------------"
   ]
  },
  {
   "cell_type": "code",
   "execution_count": null,
   "id": "fdc69248-5777-41f5-a154-b21ed5f13358",
   "metadata": {},
   "outputs": [],
   "source": [
    "# filter dataset \n",
    "# \"\"\"\n",
    "# - drop the \"class\" column and store inside the variable x .\n",
    "# - store the numpy array values of \"class\" column inside variable x. \n",
    "# \"\"\""
   ]
  },
  {
   "cell_type": "code",
   "execution_count": null,
   "id": "2d88f14d-b1cc-4a1d-9220-84627b2162bb",
   "metadata": {},
   "outputs": [],
   "source": [
    "# split into training and testing \n",
    "\n",
    "\n",
    "# NORMALIZING DATA : scale downing the value between (0-1)\n",
    "# This helps to speed up the training and reduces the chance of stuck in the local optimum."
   ]
  },
  {
   "cell_type": "code",
   "execution_count": null,
   "id": "ea2d30ac-6b81-4ba8-9afc-b35c0a1add4c",
   "metadata": {},
   "outputs": [],
   "source": [
    "# image shape "
   ]
  },
  {
   "cell_type": "code",
   "execution_count": null,
   "id": "3162146f-eada-4c8d-a5a1-c49902fbd5e2",
   "metadata": {},
   "outputs": [],
   "source": [
    "\n",
    "# \"\"\"\n",
    "# Sequential : allows to build model layer by layer. create network one after other. \n",
    "# \"\"\"\n",
    "# model = keras.Sequential([\n",
    "#  keras.layers.Flatten(input_shape=(28,28)), # first layer is the input layer where we are feeding the image. Flatten: we are reshaping the data from 2d to 1d.     \n",
    "#  keras.layers.Dense(256,activation='relu'), # dense layer : ensure that each neuron in the previous layer is connected to the each neuron to the next layer.\n",
    "#  keras.layers.Dense(128,activation='relu'), # dense layer \n",
    "#  keras.layers.Dense(32,activation='relu'),  # dense layer\n",
    "#  keras.layers.Dense(10,activation='softmax') # output layer. \n",
    "# ])"
   ]
  },
  {
   "cell_type": "code",
   "execution_count": null,
   "id": "4614b614-18a5-4583-89fa-80cc769a2923",
   "metadata": {},
   "outputs": [],
   "source": [
    "# compile code \n",
    "# OPTIMIZER : use stoichiomatic gradient descent, controls the learning rate.\n",
    "# It saves time and computation. uses single integer rather than whole vector.\n",
    "# Its lower the score means model is performing better. \n",
    "# model.compile(optimizer='sgd',\n",
    "#  loss=\"sparse_categorical_crossentropy\",\n",
    "#  metrics=[\"accuracy\"])"
   ]
  },
  {
   "cell_type": "code",
   "execution_count": null,
   "id": "ffb9e5c8-1c5c-4fb7-8914-4bdfa88cfad8",
   "metadata": {},
   "outputs": [],
   "source": [
    "# train model \n",
    "# using history = model.fit() method\n",
    "# history object will contain all the values such as loss and accuracy, etc.\n",
    "# set epochs = 10  :  EPOCHS : No of time the model will cycle through the data . (re-iterate)\n",
    "# more the number of epochs , less will be the error and model will improve. "
   ]
  },
  {
   "cell_type": "code",
   "execution_count": null,
   "id": "fce53990-cd6f-4402-90a6-6fd2337ce951",
   "metadata": {},
   "outputs": [],
   "source": [
    "# evaluate model\n",
    "# using \"model.evaluate()\", it will compute test loss and test accuracy on the testing dataset.\n",
    "# for evaluation : passing testing dataset\n",
    "# loss and accuracy "
   ]
  },
  {
   "cell_type": "code",
   "execution_count": null,
   "id": "d2dfa845-c6e9-4349-9a9f-8a34c1453b40",
   "metadata": {},
   "outputs": [],
   "source": [
    "# now we want to make prediction on new dataset \n",
    "\n",
    "# lets say we are generating new data \n",
    "\n",
    "# predicted_value =  model.predict() : is used to do the prediction on testing set .\n",
    "# np.argmax() : will choose the maximum value along the axis."
   ]
  },
  {
   "cell_type": "code",
   "execution_count": null,
   "id": "212bdbfc-d123-4da0-930a-7f0b8ecee4fc",
   "metadata": {},
   "outputs": [],
   "source": [
    "# Now , after this we want to plot the graph for ACCURACY and LOSS "
   ]
  },
  {
   "cell_type": "code",
   "execution_count": null,
   "id": "aa7ba099-3275-4563-a4fa-d621de82b17c",
   "metadata": {},
   "outputs": [],
   "source": [
    "# history object contains : [ loss, accuracy , val_loss , val_accuracy]\n",
    "# loss and accuracy : are w.r.t to training dataset\n",
    "# val_loss and val_accuracy : are w.r.t to testing dataset"
   ]
  },
  {
   "cell_type": "code",
   "execution_count": 4,
   "id": "3957e12b-8aff-45c5-aa5c-14eac7bbdb5f",
   "metadata": {},
   "outputs": [],
   "source": [
    "# plot : combine the graph "
   ]
  }
 ],
 "metadata": {
  "kernelspec": {
   "display_name": "Python 3 (ipykernel)",
   "language": "python",
   "name": "python3"
  },
  "language_info": {
   "codemirror_mode": {
    "name": "ipython",
    "version": 3
   },
   "file_extension": ".py",
   "mimetype": "text/x-python",
   "name": "python",
   "nbconvert_exporter": "python",
   "pygments_lexer": "ipython3",
   "version": "3.10.9"
  }
 },
 "nbformat": 4,
 "nbformat_minor": 5
}
