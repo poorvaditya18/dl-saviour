{
 "cells": [
  {
   "cell_type": "code",
   "execution_count": 48,
   "id": "b051f48b",
   "metadata": {
    "id": "b051f48b"
   },
   "outputs": [],
   "source": [
    "import pandas as pd\n",
    "import numpy as np\n",
    "import collections\n",
    "import re"
   ]
  },
  {
   "cell_type": "code",
   "execution_count": 49,
   "id": "9d4c5b52",
   "metadata": {
    "id": "9d4c5b52"
   },
   "outputs": [],
   "source": [
    "f=open(\"corona.txt\")\n",
    "doc1=f.read()\n",
    "f.close()"
   ]
  },
  {
   "cell_type": "code",
   "execution_count": 50,
   "id": "ca05e471",
   "metadata": {
    "id": "ca05e471",
    "outputId": "af835175-5ee0-4e0b-b93f-ece8f6e5577e",
    "scrolled": true
   },
   "outputs": [
    {
     "data": {
      "text/plain": [
       "'The speed of transmission is an important point of difference between the two viruses. Influenza has a shorter median incubation period (the time from infection to appearance of symptoms) and a shorter serial interval (the time between successive cases) than COVID-19 virus. The serial interval for COVID-19 virus is estimated to be 5-6 days, while for influenza virus, the serial interval is 3 days. This means that influenza can spread faster than COVID-19. \\n\\nFurther, transmission in the first 3-5 days of illness, or potentially pre-symptomatic transmission â€“transmission of the virus before the appearance of symptoms â€“ is a major driver of transmission for influenza. In contrast, while we are learning that there are people who can shed COVID-19 virus 24-48 hours prior to symptom onset, at present, this does not appear to be a major driver of transmission. \\n\\nThe reproductive number â€“ the number of secondary infections generated from one infected individual â€“ is understood to be between 2 and 2.5 for COVID-19 virus, higher than for influenza. However, estimates for both COVID-19 and influenza viruses are very context and time-specific, making direct comparisons more difficult.  '"
      ]
     },
     "execution_count": 50,
     "metadata": {},
     "output_type": "execute_result"
    }
   ],
   "source": [
    "doc1"
   ]
  },
  {
   "cell_type": "code",
   "execution_count": 51,
   "id": "83690756",
   "metadata": {
    "id": "83690756"
   },
   "outputs": [],
   "source": [
    "l_doc = re.sub(r\"[^a-zA-Z0-9]\", \" \", doc1.lower()).split()"
   ]
  },
  {
   "cell_type": "code",
   "execution_count": 52,
   "id": "11b2829a",
   "metadata": {},
   "outputs": [
    {
     "data": {
      "text/plain": [
       "['the',\n",
       " 'speed',\n",
       " 'of',\n",
       " 'transmission',\n",
       " 'is',\n",
       " 'an',\n",
       " 'important',\n",
       " 'point',\n",
       " 'of',\n",
       " 'difference',\n",
       " 'between',\n",
       " 'the',\n",
       " 'two',\n",
       " 'viruses',\n",
       " 'influenza',\n",
       " 'has',\n",
       " 'a',\n",
       " 'shorter',\n",
       " 'median',\n",
       " 'incubation',\n",
       " 'period',\n",
       " 'the',\n",
       " 'time',\n",
       " 'from',\n",
       " 'infection',\n",
       " 'to',\n",
       " 'appearance',\n",
       " 'of',\n",
       " 'symptoms',\n",
       " 'and',\n",
       " 'a',\n",
       " 'shorter',\n",
       " 'serial',\n",
       " 'interval',\n",
       " 'the',\n",
       " 'time',\n",
       " 'between',\n",
       " 'successive',\n",
       " 'cases',\n",
       " 'than',\n",
       " 'covid',\n",
       " '19',\n",
       " 'virus',\n",
       " 'the',\n",
       " 'serial',\n",
       " 'interval',\n",
       " 'for',\n",
       " 'covid',\n",
       " '19',\n",
       " 'virus',\n",
       " 'is',\n",
       " 'estimated',\n",
       " 'to',\n",
       " 'be',\n",
       " '5',\n",
       " '6',\n",
       " 'days',\n",
       " 'while',\n",
       " 'for',\n",
       " 'influenza',\n",
       " 'virus',\n",
       " 'the',\n",
       " 'serial',\n",
       " 'interval',\n",
       " 'is',\n",
       " '3',\n",
       " 'days',\n",
       " 'this',\n",
       " 'means',\n",
       " 'that',\n",
       " 'influenza',\n",
       " 'can',\n",
       " 'spread',\n",
       " 'faster',\n",
       " 'than',\n",
       " 'covid',\n",
       " '19',\n",
       " 'further',\n",
       " 'transmission',\n",
       " 'in',\n",
       " 'the',\n",
       " 'first',\n",
       " '3',\n",
       " '5',\n",
       " 'days',\n",
       " 'of',\n",
       " 'illness',\n",
       " 'or',\n",
       " 'potentially',\n",
       " 'pre',\n",
       " 'symptomatic',\n",
       " 'transmission',\n",
       " 'transmission',\n",
       " 'of',\n",
       " 'the',\n",
       " 'virus',\n",
       " 'before',\n",
       " 'the',\n",
       " 'appearance',\n",
       " 'of',\n",
       " 'symptoms',\n",
       " 'is',\n",
       " 'a',\n",
       " 'major',\n",
       " 'driver',\n",
       " 'of',\n",
       " 'transmission',\n",
       " 'for',\n",
       " 'influenza',\n",
       " 'in',\n",
       " 'contrast',\n",
       " 'while',\n",
       " 'we',\n",
       " 'are',\n",
       " 'learning',\n",
       " 'that',\n",
       " 'there',\n",
       " 'are',\n",
       " 'people',\n",
       " 'who',\n",
       " 'can',\n",
       " 'shed',\n",
       " 'covid',\n",
       " '19',\n",
       " 'virus',\n",
       " '24',\n",
       " '48',\n",
       " 'hours',\n",
       " 'prior',\n",
       " 'to',\n",
       " 'symptom',\n",
       " 'onset',\n",
       " 'at',\n",
       " 'present',\n",
       " 'this',\n",
       " 'does',\n",
       " 'not',\n",
       " 'appear',\n",
       " 'to',\n",
       " 'be',\n",
       " 'a',\n",
       " 'major',\n",
       " 'driver',\n",
       " 'of',\n",
       " 'transmission',\n",
       " 'the',\n",
       " 'reproductive',\n",
       " 'number',\n",
       " 'the',\n",
       " 'number',\n",
       " 'of',\n",
       " 'secondary',\n",
       " 'infections',\n",
       " 'generated',\n",
       " 'from',\n",
       " 'one',\n",
       " 'infected',\n",
       " 'individual',\n",
       " 'is',\n",
       " 'understood',\n",
       " 'to',\n",
       " 'be',\n",
       " 'between',\n",
       " '2',\n",
       " 'and',\n",
       " '2',\n",
       " '5',\n",
       " 'for',\n",
       " 'covid',\n",
       " '19',\n",
       " 'virus',\n",
       " 'higher',\n",
       " 'than',\n",
       " 'for',\n",
       " 'influenza',\n",
       " 'however',\n",
       " 'estimates',\n",
       " 'for',\n",
       " 'both',\n",
       " 'covid',\n",
       " '19',\n",
       " 'and',\n",
       " 'influenza',\n",
       " 'viruses',\n",
       " 'are',\n",
       " 'very',\n",
       " 'context',\n",
       " 'and',\n",
       " 'time',\n",
       " 'specific',\n",
       " 'making',\n",
       " 'direct',\n",
       " 'comparisons',\n",
       " 'more',\n",
       " 'difficult']"
      ]
     },
     "execution_count": 52,
     "metadata": {},
     "output_type": "execute_result"
    }
   ],
   "source": [
    "l_doc"
   ]
  },
  {
   "cell_type": "code",
   "execution_count": 53,
   "id": "b7da8186",
   "metadata": {
    "id": "b7da8186"
   },
   "outputs": [],
   "source": [
    "wordset=set(l_doc)"
   ]
  },
  {
   "cell_type": "code",
   "execution_count": 54,
   "id": "3fe06ad1",
   "metadata": {
    "id": "3fe06ad1",
    "outputId": "142c9618-0c14-4042-c5f1-c3f9941c0b5f",
    "scrolled": true
   },
   "outputs": [
    {
     "data": {
      "text/plain": [
       "{'19',\n",
       " '2',\n",
       " '24',\n",
       " '3',\n",
       " '48',\n",
       " '5',\n",
       " '6',\n",
       " 'a',\n",
       " 'an',\n",
       " 'and',\n",
       " 'appear',\n",
       " 'appearance',\n",
       " 'are',\n",
       " 'at',\n",
       " 'be',\n",
       " 'before',\n",
       " 'between',\n",
       " 'both',\n",
       " 'can',\n",
       " 'cases',\n",
       " 'comparisons',\n",
       " 'context',\n",
       " 'contrast',\n",
       " 'covid',\n",
       " 'days',\n",
       " 'difference',\n",
       " 'difficult',\n",
       " 'direct',\n",
       " 'does',\n",
       " 'driver',\n",
       " 'estimated',\n",
       " 'estimates',\n",
       " 'faster',\n",
       " 'first',\n",
       " 'for',\n",
       " 'from',\n",
       " 'further',\n",
       " 'generated',\n",
       " 'has',\n",
       " 'higher',\n",
       " 'hours',\n",
       " 'however',\n",
       " 'illness',\n",
       " 'important',\n",
       " 'in',\n",
       " 'incubation',\n",
       " 'individual',\n",
       " 'infected',\n",
       " 'infection',\n",
       " 'infections',\n",
       " 'influenza',\n",
       " 'interval',\n",
       " 'is',\n",
       " 'learning',\n",
       " 'major',\n",
       " 'making',\n",
       " 'means',\n",
       " 'median',\n",
       " 'more',\n",
       " 'not',\n",
       " 'number',\n",
       " 'of',\n",
       " 'one',\n",
       " 'onset',\n",
       " 'or',\n",
       " 'people',\n",
       " 'period',\n",
       " 'point',\n",
       " 'potentially',\n",
       " 'pre',\n",
       " 'present',\n",
       " 'prior',\n",
       " 'reproductive',\n",
       " 'secondary',\n",
       " 'serial',\n",
       " 'shed',\n",
       " 'shorter',\n",
       " 'specific',\n",
       " 'speed',\n",
       " 'spread',\n",
       " 'successive',\n",
       " 'symptom',\n",
       " 'symptomatic',\n",
       " 'symptoms',\n",
       " 'than',\n",
       " 'that',\n",
       " 'the',\n",
       " 'there',\n",
       " 'this',\n",
       " 'time',\n",
       " 'to',\n",
       " 'transmission',\n",
       " 'two',\n",
       " 'understood',\n",
       " 'very',\n",
       " 'virus',\n",
       " 'viruses',\n",
       " 'we',\n",
       " 'while',\n",
       " 'who'}"
      ]
     },
     "execution_count": 54,
     "metadata": {},
     "output_type": "execute_result"
    }
   ],
   "source": [
    "wordset"
   ]
  },
  {
   "cell_type": "code",
   "execution_count": 55,
   "id": "270262a1",
   "metadata": {
    "id": "270262a1"
   },
   "outputs": [],
   "source": [
    "def calculateBOW(wordset,l_doc):\n",
    "  tf_diz = dict.fromkeys(wordset,0)\n",
    "  for word in l_doc:\n",
    "      tf_diz[word]=l_doc.count(word)\n",
    "  return tf_diz"
   ]
  },
  {
   "cell_type": "code",
   "execution_count": 56,
   "id": "5b9de5b8",
   "metadata": {
    "id": "5b9de5b8",
    "outputId": "26d7d3ec-7994-4ef3-d861-90237a95fc05"
   },
   "outputs": [
    {
     "data": {
      "text/html": [
       "<div>\n",
       "<style scoped>\n",
       "    .dataframe tbody tr th:only-of-type {\n",
       "        vertical-align: middle;\n",
       "    }\n",
       "\n",
       "    .dataframe tbody tr th {\n",
       "        vertical-align: top;\n",
       "    }\n",
       "\n",
       "    .dataframe thead th {\n",
       "        text-align: right;\n",
       "    }\n",
       "</style>\n",
       "<table border=\"1\" class=\"dataframe\">\n",
       "  <thead>\n",
       "    <tr style=\"text-align: right;\">\n",
       "      <th></th>\n",
       "      <th>or</th>\n",
       "      <th>6</th>\n",
       "      <th>onset</th>\n",
       "      <th>hours</th>\n",
       "      <th>symptom</th>\n",
       "      <th>first</th>\n",
       "      <th>covid</th>\n",
       "      <th>does</th>\n",
       "      <th>than</th>\n",
       "      <th>days</th>\n",
       "      <th>...</th>\n",
       "      <th>understood</th>\n",
       "      <th>point</th>\n",
       "      <th>spread</th>\n",
       "      <th>shorter</th>\n",
       "      <th>an</th>\n",
       "      <th>shed</th>\n",
       "      <th>a</th>\n",
       "      <th>two</th>\n",
       "      <th>between</th>\n",
       "      <th>influenza</th>\n",
       "    </tr>\n",
       "  </thead>\n",
       "  <tbody>\n",
       "    <tr>\n",
       "      <th>0</th>\n",
       "      <td>1</td>\n",
       "      <td>1</td>\n",
       "      <td>1</td>\n",
       "      <td>1</td>\n",
       "      <td>1</td>\n",
       "      <td>1</td>\n",
       "      <td>6</td>\n",
       "      <td>1</td>\n",
       "      <td>3</td>\n",
       "      <td>3</td>\n",
       "      <td>...</td>\n",
       "      <td>1</td>\n",
       "      <td>1</td>\n",
       "      <td>1</td>\n",
       "      <td>2</td>\n",
       "      <td>1</td>\n",
       "      <td>1</td>\n",
       "      <td>4</td>\n",
       "      <td>1</td>\n",
       "      <td>3</td>\n",
       "      <td>6</td>\n",
       "    </tr>\n",
       "  </tbody>\n",
       "</table>\n",
       "<p>1 rows × 100 columns</p>\n",
       "</div>"
      ],
      "text/plain": [
       "   or  6  onset  hours  symptom  first  covid  does  than  days  ...  \\\n",
       "0   1  1      1      1        1      1      6     1     3     3  ...   \n",
       "\n",
       "   understood  point  spread  shorter  an  shed  a  two  between  influenza  \n",
       "0           1      1       1        2   1     1  4    1        3          6  \n",
       "\n",
       "[1 rows x 100 columns]"
      ]
     },
     "execution_count": 56,
     "metadata": {},
     "output_type": "execute_result"
    }
   ],
   "source": [
    "bow1 = calculateBOW(wordset,l_doc)\n",
    "df_bow = pd.DataFrame([bow1])\n",
    "df_bow.head()"
   ]
  },
  {
   "cell_type": "code",
   "execution_count": 57,
   "id": "4b9607a9",
   "metadata": {
    "id": "4b9607a9"
   },
   "outputs": [],
   "source": [
    "from sklearn.feature_extraction.text import CountVectorizer\n",
    "vectorizer = CountVectorizer()"
   ]
  },
  {
   "cell_type": "code",
   "execution_count": 58,
   "id": "83478fe7",
   "metadata": {
    "id": "83478fe7",
    "outputId": "7be845e2-999a-4e7c-8f41-869613b9182c"
   },
   "outputs": [
    {
     "data": {
      "text/html": [
       "<div>\n",
       "<style scoped>\n",
       "    .dataframe tbody tr th:only-of-type {\n",
       "        vertical-align: middle;\n",
       "    }\n",
       "\n",
       "    .dataframe tbody tr th {\n",
       "        vertical-align: top;\n",
       "    }\n",
       "\n",
       "    .dataframe thead th {\n",
       "        text-align: right;\n",
       "    }\n",
       "</style>\n",
       "<table border=\"1\" class=\"dataframe\">\n",
       "  <thead>\n",
       "    <tr style=\"text-align: right;\">\n",
       "      <th></th>\n",
       "      <th>19</th>\n",
       "      <th>24</th>\n",
       "      <th>48</th>\n",
       "      <th>an</th>\n",
       "      <th>and</th>\n",
       "      <th>appear</th>\n",
       "      <th>appearance</th>\n",
       "      <th>are</th>\n",
       "      <th>at</th>\n",
       "      <th>be</th>\n",
       "      <th>...</th>\n",
       "      <th>to</th>\n",
       "      <th>transmission</th>\n",
       "      <th>two</th>\n",
       "      <th>understood</th>\n",
       "      <th>very</th>\n",
       "      <th>virus</th>\n",
       "      <th>viruses</th>\n",
       "      <th>we</th>\n",
       "      <th>while</th>\n",
       "      <th>who</th>\n",
       "    </tr>\n",
       "  </thead>\n",
       "  <tbody>\n",
       "    <tr>\n",
       "      <th>0</th>\n",
       "      <td>6</td>\n",
       "      <td>1</td>\n",
       "      <td>1</td>\n",
       "      <td>1</td>\n",
       "      <td>4</td>\n",
       "      <td>1</td>\n",
       "      <td>2</td>\n",
       "      <td>3</td>\n",
       "      <td>1</td>\n",
       "      <td>3</td>\n",
       "      <td>...</td>\n",
       "      <td>5</td>\n",
       "      <td>6</td>\n",
       "      <td>1</td>\n",
       "      <td>1</td>\n",
       "      <td>1</td>\n",
       "      <td>6</td>\n",
       "      <td>2</td>\n",
       "      <td>1</td>\n",
       "      <td>2</td>\n",
       "      <td>1</td>\n",
       "    </tr>\n",
       "  </tbody>\n",
       "</table>\n",
       "<p>1 rows × 95 columns</p>\n",
       "</div>"
      ],
      "text/plain": [
       "   19  24  48  an  and  appear  appearance  are  at  be  ...  to  \\\n",
       "0   6   1   1   1    4       1           2    3   1   3  ...   5   \n",
       "\n",
       "   transmission  two  understood  very  virus  viruses  we  while  who  \n",
       "0             6    1           1     1      6        2   1      2    1  \n",
       "\n",
       "[1 rows x 95 columns]"
      ]
     },
     "execution_count": 58,
     "metadata": {},
     "output_type": "execute_result"
    }
   ],
   "source": [
    "X = vectorizer.fit_transform([doc1])\n",
    "df_bow_sklearn = pd.DataFrame(X.toarray(),columns=vectorizer.get_feature_names_out())\n",
    "df_bow_sklearn.head()"
   ]
  },
  {
   "cell_type": "code",
   "execution_count": 59,
   "id": "e486eeff",
   "metadata": {
    "id": "e486eeff",
    "outputId": "78bba8a0-85df-44f8-e6ef-848f2dfe40dd"
   },
   "outputs": [
    {
     "name": "stdout",
     "output_type": "stream",
     "text": [
      "['19' '24' '48' 'an' 'and' 'appear' 'appearance' 'are' 'at' 'be' 'before'\n",
      " 'between' 'both' 'can' 'cases' 'comparisons' 'context' 'contrast' 'covid'\n",
      " 'days' 'difference' 'difficult' 'direct' 'does' 'driver' 'estimated'\n",
      " 'estimates' 'faster' 'first' 'for' 'from' 'further' 'generated' 'has'\n",
      " 'higher' 'hours' 'however' 'illness' 'important' 'in' 'incubation'\n",
      " 'individual' 'infected' 'infection' 'infections' 'influenza' 'interval'\n",
      " 'is' 'learning' 'major' 'making' 'means' 'median' 'more' 'not' 'number'\n",
      " 'of' 'one' 'onset' 'or' 'people' 'period' 'point' 'potentially' 'pre'\n",
      " 'present' 'prior' 'reproductive' 'secondary' 'serial' 'shed' 'shorter'\n",
      " 'specific' 'speed' 'spread' 'successive' 'symptom' 'symptomatic'\n",
      " 'symptoms' 'than' 'that' 'the' 'there' 'this' 'time' 'to' 'transmission'\n",
      " 'two' 'understood' 'very' 'virus' 'viruses' 'we' 'while' 'who']\n"
     ]
    }
   ],
   "source": [
    "print(vectorizer.get_feature_names_out())"
   ]
  },
  {
   "cell_type": "code",
   "execution_count": 60,
   "id": "509a4989",
   "metadata": {
    "id": "509a4989",
    "outputId": "4d04ad26-c242-4771-f481-958ec9f884f1"
   },
   "outputs": [],
   "source": [
    "import nltk\n",
    "#nltk.download('punkt')\n",
    "import re\n",
    "import numpy as np\n",
    "\n",
    "f= open(\"corona.txt\")\n",
    "text=f.read()\n",
    "f.close()\n",
    "dataset = nltk.sent_tokenize(text)\n",
    "for i in range(len(dataset)):\n",
    "    dataset[i] = dataset[i].lower()\n",
    "    dataset[i] = re.sub(r'\\W', ' ', dataset[i])\n",
    "    dataset[i] = re.sub(r'\\s+', ' ', dataset[i])"
   ]
  },
  {
   "cell_type": "code",
   "execution_count": 61,
   "id": "298ffbed",
   "metadata": {
    "id": "298ffbed",
    "outputId": "1e11c1c8-32f8-4820-82b3-efeeafc68bbf"
   },
   "outputs": [
    {
     "name": "stdout",
     "output_type": "stream",
     "text": [
      "['the speed of transmission is an important point of difference between the two viruses ', 'influenza has a shorter median incubation period the time from infection to appearance of symptoms and a shorter serial interval the time between successive cases than covid 19 virus ', 'the serial interval for covid 19 virus is estimated to be 5 6 days while for influenza virus the serial interval is 3 days ', 'this means that influenza can spread faster than covid 19 ', 'further transmission in the first 3 5 days of illness or potentially pre symptomatic transmission â transmission of the virus before the appearance of symptoms â is a major driver of transmission for influenza ', 'in contrast while we are learning that there are people who can shed covid 19 virus 24 48 hours prior to symptom onset at present this does not appear to be a major driver of transmission ', 'the reproductive number â the number of secondary infections generated from one infected individual â is understood to be between 2 and 2 5 for covid 19 virus higher than for influenza ', 'however estimates for both covid 19 and influenza viruses are very context and time specific making direct comparisons more difficult ']\n"
     ]
    }
   ],
   "source": [
    "print(dataset)"
   ]
  },
  {
   "cell_type": "code",
   "execution_count": 62,
   "id": "9455f5b4",
   "metadata": {
    "id": "9455f5b4"
   },
   "outputs": [],
   "source": [
    "word2count = {}\n",
    "for data in dataset:\n",
    "    words = nltk.word_tokenize(data)\n",
    "    for word in words:\n",
    "        if word not in word2count.keys():\n",
    "            word2count[word] = 1\n",
    "        else:\n",
    "            word2count[word] += 1"
   ]
  },
  {
   "cell_type": "code",
   "execution_count": 63,
   "id": "eabfb0cc",
   "metadata": {
    "id": "eabfb0cc",
    "outputId": "f81ab81d-f2af-412d-8d03-bf8ce1ac35be",
    "scrolled": true
   },
   "outputs": [
    {
     "data": {
      "text/plain": [
       "{'the': 11,\n",
       " 'speed': 1,\n",
       " 'of': 9,\n",
       " 'transmission': 6,\n",
       " 'is': 5,\n",
       " 'an': 1,\n",
       " 'important': 1,\n",
       " 'point': 1,\n",
       " 'difference': 1,\n",
       " 'between': 3,\n",
       " 'two': 1,\n",
       " 'viruses': 2,\n",
       " 'influenza': 6,\n",
       " 'has': 1,\n",
       " 'a': 4,\n",
       " 'shorter': 2,\n",
       " 'median': 1,\n",
       " 'incubation': 1,\n",
       " 'period': 1,\n",
       " 'time': 3,\n",
       " 'from': 2,\n",
       " 'infection': 1,\n",
       " 'to': 5,\n",
       " 'appearance': 2,\n",
       " 'symptoms': 2,\n",
       " 'and': 4,\n",
       " 'serial': 3,\n",
       " 'interval': 3,\n",
       " 'successive': 1,\n",
       " 'cases': 1,\n",
       " 'than': 3,\n",
       " 'covid': 6,\n",
       " '19': 6,\n",
       " 'virus': 6,\n",
       " 'for': 6,\n",
       " 'estimated': 1,\n",
       " 'be': 3,\n",
       " '5': 3,\n",
       " '6': 1,\n",
       " 'days': 3,\n",
       " 'while': 2,\n",
       " '3': 2,\n",
       " 'this': 2,\n",
       " 'means': 1,\n",
       " 'that': 2,\n",
       " 'can': 2,\n",
       " 'spread': 1,\n",
       " 'faster': 1,\n",
       " 'further': 1,\n",
       " 'in': 2,\n",
       " 'first': 1,\n",
       " 'illness': 1,\n",
       " 'or': 1,\n",
       " 'potentially': 1,\n",
       " 'pre': 1,\n",
       " 'symptomatic': 1,\n",
       " 'â': 4,\n",
       " 'before': 1,\n",
       " 'major': 2,\n",
       " 'driver': 2,\n",
       " 'contrast': 1,\n",
       " 'we': 1,\n",
       " 'are': 3,\n",
       " 'learning': 1,\n",
       " 'there': 1,\n",
       " 'people': 1,\n",
       " 'who': 1,\n",
       " 'shed': 1,\n",
       " '24': 1,\n",
       " '48': 1,\n",
       " 'hours': 1,\n",
       " 'prior': 1,\n",
       " 'symptom': 1,\n",
       " 'onset': 1,\n",
       " 'at': 1,\n",
       " 'present': 1,\n",
       " 'does': 1,\n",
       " 'not': 1,\n",
       " 'appear': 1,\n",
       " 'reproductive': 1,\n",
       " 'number': 2,\n",
       " 'secondary': 1,\n",
       " 'infections': 1,\n",
       " 'generated': 1,\n",
       " 'one': 1,\n",
       " 'infected': 1,\n",
       " 'individual': 1,\n",
       " 'understood': 1,\n",
       " '2': 2,\n",
       " 'higher': 1,\n",
       " 'however': 1,\n",
       " 'estimates': 1,\n",
       " 'both': 1,\n",
       " 'very': 1,\n",
       " 'context': 1,\n",
       " 'specific': 1,\n",
       " 'making': 1,\n",
       " 'direct': 1,\n",
       " 'comparisons': 1,\n",
       " 'more': 1,\n",
       " 'difficult': 1}"
      ]
     },
     "execution_count": 63,
     "metadata": {},
     "output_type": "execute_result"
    }
   ],
   "source": [
    "word2count"
   ]
  },
  {
   "cell_type": "code",
   "execution_count": 64,
   "id": "82c41af9",
   "metadata": {
    "id": "82c41af9",
    "outputId": "540358a8-e55e-486f-cf5b-5b214d3e30c9",
    "scrolled": true
   },
   "outputs": [
    {
     "data": {
      "text/plain": [
       "['however',\n",
       " 'estimates',\n",
       " 'for',\n",
       " 'both',\n",
       " 'covid',\n",
       " '19',\n",
       " 'and',\n",
       " 'influenza',\n",
       " 'viruses',\n",
       " 'are',\n",
       " 'very',\n",
       " 'context',\n",
       " 'and',\n",
       " 'time',\n",
       " 'specific',\n",
       " 'making',\n",
       " 'direct',\n",
       " 'comparisons',\n",
       " 'more',\n",
       " 'difficult']"
      ]
     },
     "execution_count": 64,
     "metadata": {},
     "output_type": "execute_result"
    }
   ],
   "source": [
    "words"
   ]
  },
  {
   "cell_type": "code",
   "execution_count": 65,
   "id": "c00c6e33",
   "metadata": {
    "id": "c00c6e33",
    "outputId": "4e399fc4-e552-4c9d-9ed8-24a15261dce2"
   },
   "outputs": [
    {
     "data": {
      "text/plain": [
       "20"
      ]
     },
     "execution_count": 65,
     "metadata": {},
     "output_type": "execute_result"
    }
   ],
   "source": [
    "len(words)"
   ]
  },
  {
   "cell_type": "code",
   "execution_count": 66,
   "id": "d902df29",
   "metadata": {
    "id": "d902df29"
   },
   "outputs": [],
   "source": [
    "vocab_size = len(wordset)\n",
    "embed_dim = 10\n",
    "context_size = 4"
   ]
  },
  {
   "cell_type": "code",
   "execution_count": 67,
   "id": "1d2baf67",
   "metadata": {
    "id": "1d2baf67"
   },
   "outputs": [],
   "source": [
    "word_to_ix = {word: i for i, word in enumerate(wordset)}\n",
    "ix_to_word = {i: word for i, word in enumerate(wordset)}"
   ]
  },
  {
   "cell_type": "code",
   "execution_count": 68,
   "id": "f7c3a477",
   "metadata": {
    "id": "f7c3a477",
    "outputId": "30893465-1cc4-43ba-cef2-98c42258ffda",
    "scrolled": true
   },
   "outputs": [
    {
     "data": {
      "text/plain": [
       "{'or': 0,\n",
       " '6': 1,\n",
       " 'onset': 2,\n",
       " 'hours': 3,\n",
       " 'symptom': 4,\n",
       " 'first': 5,\n",
       " 'covid': 6,\n",
       " 'does': 7,\n",
       " 'than': 8,\n",
       " 'days': 9,\n",
       " 'serial': 10,\n",
       " 'further': 11,\n",
       " '3': 12,\n",
       " 'before': 13,\n",
       " 'comparisons': 14,\n",
       " 'number': 15,\n",
       " 'in': 16,\n",
       " 'appearance': 17,\n",
       " 'interval': 18,\n",
       " 'means': 19,\n",
       " 'specific': 20,\n",
       " 'and': 21,\n",
       " 'more': 22,\n",
       " 'one': 23,\n",
       " '2': 24,\n",
       " 'estimates': 25,\n",
       " 'who': 26,\n",
       " '5': 27,\n",
       " 'both': 28,\n",
       " 'of': 29,\n",
       " 'period': 30,\n",
       " 'pre': 31,\n",
       " 'be': 32,\n",
       " 'potentially': 33,\n",
       " 'we': 34,\n",
       " 'driver': 35,\n",
       " 'difficult': 36,\n",
       " 'contrast': 37,\n",
       " 'estimated': 38,\n",
       " 'while': 39,\n",
       " '19': 40,\n",
       " 'however': 41,\n",
       " 'learning': 42,\n",
       " 'reproductive': 43,\n",
       " 'very': 44,\n",
       " 'major': 45,\n",
       " 'making': 46,\n",
       " 'generated': 47,\n",
       " 'symptoms': 48,\n",
       " 'virus': 49,\n",
       " 'important': 50,\n",
       " 'has': 51,\n",
       " 'incubation': 52,\n",
       " 'present': 53,\n",
       " 'infections': 54,\n",
       " 'appear': 55,\n",
       " 'from': 56,\n",
       " 'higher': 57,\n",
       " 'at': 58,\n",
       " 'difference': 59,\n",
       " 'symptomatic': 60,\n",
       " 'infected': 61,\n",
       " 'viruses': 62,\n",
       " 'not': 63,\n",
       " 'successive': 64,\n",
       " 'direct': 65,\n",
       " 'this': 66,\n",
       " 'median': 67,\n",
       " 'for': 68,\n",
       " 'cases': 69,\n",
       " 'time': 70,\n",
       " 'the': 71,\n",
       " 'are': 72,\n",
       " 'prior': 73,\n",
       " 'to': 74,\n",
       " 'can': 75,\n",
       " 'illness': 76,\n",
       " 'is': 77,\n",
       " 'there': 78,\n",
       " 'transmission': 79,\n",
       " 'secondary': 80,\n",
       " 'that': 81,\n",
       " '48': 82,\n",
       " 'speed': 83,\n",
       " 'individual': 84,\n",
       " '24': 85,\n",
       " 'context': 86,\n",
       " 'infection': 87,\n",
       " 'faster': 88,\n",
       " 'people': 89,\n",
       " 'understood': 90,\n",
       " 'point': 91,\n",
       " 'spread': 92,\n",
       " 'shorter': 93,\n",
       " 'an': 94,\n",
       " 'shed': 95,\n",
       " 'a': 96,\n",
       " 'two': 97,\n",
       " 'between': 98,\n",
       " 'influenza': 99}"
      ]
     },
     "execution_count": 68,
     "metadata": {},
     "output_type": "execute_result"
    }
   ],
   "source": [
    "word_to_ix"
   ]
  },
  {
   "cell_type": "code",
   "execution_count": 69,
   "id": "17e9f7e9",
   "metadata": {
    "id": "17e9f7e9",
    "outputId": "daaec6f8-3187-4982-af9c-8580e6eeffe4",
    "scrolled": true
   },
   "outputs": [
    {
     "data": {
      "text/plain": [
       "{0: 'or',\n",
       " 1: '6',\n",
       " 2: 'onset',\n",
       " 3: 'hours',\n",
       " 4: 'symptom',\n",
       " 5: 'first',\n",
       " 6: 'covid',\n",
       " 7: 'does',\n",
       " 8: 'than',\n",
       " 9: 'days',\n",
       " 10: 'serial',\n",
       " 11: 'further',\n",
       " 12: '3',\n",
       " 13: 'before',\n",
       " 14: 'comparisons',\n",
       " 15: 'number',\n",
       " 16: 'in',\n",
       " 17: 'appearance',\n",
       " 18: 'interval',\n",
       " 19: 'means',\n",
       " 20: 'specific',\n",
       " 21: 'and',\n",
       " 22: 'more',\n",
       " 23: 'one',\n",
       " 24: '2',\n",
       " 25: 'estimates',\n",
       " 26: 'who',\n",
       " 27: '5',\n",
       " 28: 'both',\n",
       " 29: 'of',\n",
       " 30: 'period',\n",
       " 31: 'pre',\n",
       " 32: 'be',\n",
       " 33: 'potentially',\n",
       " 34: 'we',\n",
       " 35: 'driver',\n",
       " 36: 'difficult',\n",
       " 37: 'contrast',\n",
       " 38: 'estimated',\n",
       " 39: 'while',\n",
       " 40: '19',\n",
       " 41: 'however',\n",
       " 42: 'learning',\n",
       " 43: 'reproductive',\n",
       " 44: 'very',\n",
       " 45: 'major',\n",
       " 46: 'making',\n",
       " 47: 'generated',\n",
       " 48: 'symptoms',\n",
       " 49: 'virus',\n",
       " 50: 'important',\n",
       " 51: 'has',\n",
       " 52: 'incubation',\n",
       " 53: 'present',\n",
       " 54: 'infections',\n",
       " 55: 'appear',\n",
       " 56: 'from',\n",
       " 57: 'higher',\n",
       " 58: 'at',\n",
       " 59: 'difference',\n",
       " 60: 'symptomatic',\n",
       " 61: 'infected',\n",
       " 62: 'viruses',\n",
       " 63: 'not',\n",
       " 64: 'successive',\n",
       " 65: 'direct',\n",
       " 66: 'this',\n",
       " 67: 'median',\n",
       " 68: 'for',\n",
       " 69: 'cases',\n",
       " 70: 'time',\n",
       " 71: 'the',\n",
       " 72: 'are',\n",
       " 73: 'prior',\n",
       " 74: 'to',\n",
       " 75: 'can',\n",
       " 76: 'illness',\n",
       " 77: 'is',\n",
       " 78: 'there',\n",
       " 79: 'transmission',\n",
       " 80: 'secondary',\n",
       " 81: 'that',\n",
       " 82: '48',\n",
       " 83: 'speed',\n",
       " 84: 'individual',\n",
       " 85: '24',\n",
       " 86: 'context',\n",
       " 87: 'infection',\n",
       " 88: 'faster',\n",
       " 89: 'people',\n",
       " 90: 'understood',\n",
       " 91: 'point',\n",
       " 92: 'spread',\n",
       " 93: 'shorter',\n",
       " 94: 'an',\n",
       " 95: 'shed',\n",
       " 96: 'a',\n",
       " 97: 'two',\n",
       " 98: 'between',\n",
       " 99: 'influenza'}"
      ]
     },
     "execution_count": 69,
     "metadata": {},
     "output_type": "execute_result"
    }
   ],
   "source": [
    "ix_to_word"
   ]
  },
  {
   "cell_type": "code",
   "execution_count": 70,
   "id": "bcd8c11d",
   "metadata": {
    "id": "bcd8c11d",
    "outputId": "e3533bcb-bb9d-4c1c-9956-b839637feaf8"
   },
   "outputs": [
    {
     "name": "stdout",
     "output_type": "stream",
     "text": [
      "[(['however', 'estimates', 'both', 'covid'], 'for'), (['estimates', 'for', 'covid', '19'], 'both'), (['for', 'both', '19', 'and'], 'covid'), (['both', 'covid', 'and', 'influenza'], '19'), (['covid', '19', 'influenza', 'viruses'], 'and')]\n"
     ]
    }
   ],
   "source": [
    "data = []\n",
    "for i in range(2, len(words) - 2):\n",
    "    context = [words[i - 2], words[i - 1], words[i + 1], words[i + 2]]\n",
    "    target = words[i]\n",
    "    data.append((context, target))\n",
    "print(data[:5])"
   ]
  },
  {
   "cell_type": "code",
   "execution_count": 71,
   "id": "c5db665f",
   "metadata": {
    "id": "c5db665f"
   },
   "outputs": [],
   "source": [
    "embeddings =  np.random.random_sample((vocab_size, embed_dim))"
   ]
  },
  {
   "cell_type": "code",
   "execution_count": 72,
   "id": "50435d07",
   "metadata": {
    "id": "50435d07",
    "outputId": "04704052-f375-4dcd-e0b1-69ab20807aa6"
   },
   "outputs": [
    {
     "data": {
      "text/plain": [
       "array([[2.29633185e-01, 8.89631151e-01, 9.56260228e-01, 8.41966170e-01,\n",
       "        4.89724267e-01, 5.81578522e-01, 3.76407100e-01, 2.76300934e-01,\n",
       "        3.12578845e-01, 5.70384020e-01],\n",
       "       [7.47909598e-01, 5.27645220e-01, 7.75689772e-01, 1.61452287e-01,\n",
       "        9.65985857e-01, 3.10552352e-01, 2.77740247e-01, 9.26931160e-01,\n",
       "        4.67820266e-01, 5.57182447e-01],\n",
       "       [8.31351288e-01, 5.53906718e-01, 1.94974641e-01, 8.94897436e-01,\n",
       "        2.12779836e-01, 4.21612384e-01, 5.24627866e-01, 2.84221154e-01,\n",
       "        9.42213723e-01, 2.12964941e-01],\n",
       "       [7.63031763e-01, 6.13602872e-01, 4.15528243e-01, 3.15879601e-01,\n",
       "        4.47636202e-01, 3.47228958e-01, 5.66563186e-01, 4.22857778e-01,\n",
       "        5.70773259e-01, 7.56112233e-01],\n",
       "       [9.40156788e-01, 4.58240181e-01, 6.60409949e-01, 4.71924930e-01,\n",
       "        2.72679387e-02, 3.16803778e-01, 9.67432929e-01, 3.79514906e-01,\n",
       "        8.41057068e-02, 6.12404063e-01],\n",
       "       [6.71286724e-01, 1.75725999e-01, 6.18180753e-01, 5.99979028e-01,\n",
       "        7.89427153e-02, 7.40714084e-01, 3.55217065e-01, 9.19091775e-01,\n",
       "        8.89447887e-01, 1.99989165e-01],\n",
       "       [4.39859009e-01, 1.38374947e-01, 7.21955501e-01, 4.99740214e-01,\n",
       "        6.37665315e-01, 2.91810418e-01, 8.16613004e-02, 3.47769541e-01,\n",
       "        8.69989520e-01, 2.74573980e-01],\n",
       "       [8.18390044e-01, 2.43104461e-01, 1.71458276e-01, 1.93937603e-01,\n",
       "        1.67679027e-01, 7.21190742e-02, 7.49528054e-01, 7.42699099e-01,\n",
       "        8.02965819e-01, 2.58666202e-01],\n",
       "       [4.10231629e-01, 7.18404432e-01, 1.14288635e-01, 9.08758360e-01,\n",
       "        4.56380548e-02, 8.89006500e-01, 5.92288324e-01, 5.21727697e-01,\n",
       "        1.61559876e-01, 5.93131286e-01],\n",
       "       [9.23429422e-01, 7.73913468e-01, 1.32752610e-01, 6.99036839e-01,\n",
       "        8.08886304e-01, 7.58166345e-01, 4.84582915e-02, 2.50536626e-01,\n",
       "        2.51479140e-01, 1.41891642e-02],\n",
       "       [3.62784141e-01, 4.95818787e-01, 6.66635493e-01, 3.74236480e-01,\n",
       "        1.43595171e-01, 4.56553833e-01, 7.23041134e-01, 1.89248141e-01,\n",
       "        1.83459796e-01, 4.69120148e-01],\n",
       "       [8.27904799e-01, 9.48518915e-01, 8.16322270e-01, 1.29013601e-01,\n",
       "        5.63182080e-01, 4.30802956e-01, 3.85614591e-01, 5.96140295e-02,\n",
       "        9.55331186e-01, 2.44606647e-01],\n",
       "       [6.43967095e-01, 5.92964822e-01, 2.33730397e-01, 9.93230523e-01,\n",
       "        4.46406667e-01, 5.84491561e-01, 9.63081734e-02, 5.54083347e-01,\n",
       "        5.29709036e-02, 2.00283249e-01],\n",
       "       [4.65581173e-01, 6.78750984e-01, 7.74688558e-01, 4.75230652e-01,\n",
       "        2.66129985e-01, 9.35566522e-01, 2.91282563e-01, 4.30495272e-01,\n",
       "        6.92786599e-01, 5.86406630e-01],\n",
       "       [4.82665957e-01, 6.09692395e-01, 4.29760474e-01, 9.72142295e-01,\n",
       "        9.22639467e-01, 3.47720725e-01, 2.11740887e-01, 3.54115233e-01,\n",
       "        9.80958561e-02, 3.86997473e-01],\n",
       "       [2.47783003e-01, 6.02104843e-01, 5.81928239e-01, 4.72420206e-01,\n",
       "        8.93629781e-01, 3.03573440e-01, 6.71465852e-01, 1.60728871e-01,\n",
       "        2.74014446e-01, 2.57655413e-01],\n",
       "       [7.95148121e-01, 4.06690649e-01, 1.43079968e-01, 5.86660374e-01,\n",
       "        4.39319650e-01, 6.73142591e-01, 3.32530897e-01, 1.38203315e-01,\n",
       "        9.15876360e-01, 5.68788616e-01],\n",
       "       [2.45536211e-01, 1.49133400e-01, 1.71216426e-01, 3.64211552e-01,\n",
       "        8.96378480e-01, 3.14757781e-01, 4.80976661e-03, 6.28936941e-01,\n",
       "        6.58314661e-01, 8.35466616e-03],\n",
       "       [2.52327755e-01, 7.35085224e-01, 9.40747064e-01, 9.97437841e-01,\n",
       "        3.61425547e-01, 3.67981183e-01, 7.41658487e-01, 9.56214675e-01,\n",
       "        9.94716432e-01, 4.55972244e-01],\n",
       "       [6.62230972e-01, 6.11776893e-01, 4.18929416e-01, 6.05974214e-01,\n",
       "        2.48179087e-01, 9.00020571e-01, 3.95942583e-01, 9.17463145e-01,\n",
       "        6.76716696e-01, 9.24389615e-02],\n",
       "       [7.54993265e-01, 4.99004099e-01, 9.29721508e-01, 6.31402844e-01,\n",
       "        1.32960412e-01, 6.16255570e-02, 7.99930859e-01, 1.57138321e-01,\n",
       "        5.66854550e-01, 9.50685061e-01],\n",
       "       [7.03217597e-01, 4.58158983e-01, 5.60960733e-01, 7.63794684e-01,\n",
       "        7.40986962e-02, 5.27000139e-01, 2.99721468e-01, 4.86772103e-01,\n",
       "        3.77431550e-02, 3.12228995e-01],\n",
       "       [7.05016648e-01, 3.59259915e-01, 9.00873034e-01, 5.47681152e-01,\n",
       "        3.83004116e-01, 9.18927246e-02, 2.00119016e-01, 7.68838381e-01,\n",
       "        7.32044963e-01, 1.47657417e-01],\n",
       "       [5.55072572e-01, 6.79980862e-02, 6.44795562e-01, 6.24203048e-02,\n",
       "        4.72242947e-01, 5.76893303e-01, 3.53003660e-01, 5.45849906e-01,\n",
       "        7.90415553e-01, 1.91162719e-01],\n",
       "       [7.34298920e-01, 1.43205593e-01, 2.17791215e-02, 5.42722275e-01,\n",
       "        7.07870835e-01, 5.11494458e-01, 1.39604394e-01, 6.43804233e-01,\n",
       "        8.01933256e-01, 6.23609561e-01],\n",
       "       [3.55485987e-01, 8.23803482e-01, 8.19453740e-01, 5.30435688e-01,\n",
       "        5.87553224e-01, 6.58319196e-01, 5.66511857e-01, 9.78745844e-01,\n",
       "        7.88379303e-01, 9.30517945e-02],\n",
       "       [8.14817061e-01, 2.77033772e-01, 6.10908717e-01, 5.29628194e-01,\n",
       "        8.69460409e-01, 6.76368801e-01, 7.97507801e-01, 3.05405361e-01,\n",
       "        5.28103444e-02, 9.09424974e-01],\n",
       "       [1.17898500e-01, 3.23426571e-01, 9.72505595e-01, 7.10723851e-02,\n",
       "        1.31975899e-01, 8.78979254e-01, 4.97809528e-01, 6.85396273e-01,\n",
       "        7.19433365e-01, 7.43228486e-01],\n",
       "       [2.16297878e-01, 4.25203221e-01, 4.96686745e-01, 8.46340626e-01,\n",
       "        5.34403736e-01, 4.22373090e-01, 6.81816464e-01, 8.47449895e-01,\n",
       "        1.41569378e-01, 4.49115938e-01],\n",
       "       [2.97063626e-01, 3.27201647e-01, 1.26316555e-01, 7.53440230e-01,\n",
       "        1.19558480e-01, 8.07116044e-01, 7.23249021e-01, 5.78440561e-01,\n",
       "        2.14635818e-01, 8.62924094e-01],\n",
       "       [5.85072187e-01, 3.98209123e-01, 4.38668796e-01, 4.99929443e-02,\n",
       "        1.49190682e-01, 6.97439957e-01, 8.85037688e-01, 3.66285149e-01,\n",
       "        4.06184721e-01, 9.12195079e-01],\n",
       "       [6.10302127e-02, 3.23955949e-01, 1.20431062e-02, 3.33473892e-01,\n",
       "        2.07401368e-01, 9.12293426e-01, 8.10832347e-01, 6.51652892e-01,\n",
       "        6.37254479e-01, 4.81131978e-01],\n",
       "       [5.35746508e-01, 2.36462408e-01, 3.43964842e-01, 7.88754069e-01,\n",
       "        7.58549594e-01, 5.63400572e-01, 6.81225721e-01, 1.67806170e-01,\n",
       "        2.80002571e-01, 9.68101407e-01],\n",
       "       [6.40427062e-01, 7.59973034e-01, 3.32328614e-01, 2.83046740e-01,\n",
       "        7.83124953e-01, 9.83145647e-01, 7.26715551e-01, 2.58009573e-01,\n",
       "        9.33338740e-01, 8.42277780e-01],\n",
       "       [1.50217720e-01, 7.83141343e-01, 1.17543379e-01, 6.39519245e-01,\n",
       "        4.72254662e-01, 6.44127361e-01, 3.12023159e-01, 5.59873208e-02,\n",
       "        8.18751430e-01, 6.27252288e-01],\n",
       "       [6.62533839e-01, 7.82423636e-01, 7.58890878e-01, 3.53692225e-01,\n",
       "        9.21571966e-01, 7.47025411e-01, 3.97152964e-01, 4.93981118e-02,\n",
       "        8.45136573e-01, 4.07203753e-01],\n",
       "       [6.72478208e-01, 5.80479422e-01, 9.08186853e-01, 7.48175287e-01,\n",
       "        4.45554559e-01, 6.73272189e-02, 3.56862814e-01, 9.94281125e-01,\n",
       "        9.95272586e-01, 1.71630862e-01],\n",
       "       [2.46297018e-01, 8.78341392e-01, 1.89522751e-01, 5.97059076e-01,\n",
       "        7.93982146e-02, 1.93642844e-01, 6.91381980e-01, 2.94392413e-01,\n",
       "        9.29855365e-01, 4.00530181e-01],\n",
       "       [4.27204278e-01, 1.00508755e-01, 8.59651430e-01, 4.12130014e-01,\n",
       "        5.28389851e-02, 3.22688596e-01, 1.96305020e-01, 4.66806722e-01,\n",
       "        1.86558842e-01, 4.15890510e-01],\n",
       "       [2.70276854e-01, 3.99734288e-01, 7.21693442e-01, 6.65164363e-01,\n",
       "        4.10538011e-01, 6.80216758e-01, 2.79553499e-03, 5.51536922e-01,\n",
       "        9.54315599e-02, 6.15460430e-01],\n",
       "       [4.66695513e-01, 8.60354129e-02, 1.11519746e-01, 6.14767066e-01,\n",
       "        7.26896774e-01, 7.17709216e-01, 8.09292181e-01, 4.84501298e-01,\n",
       "        7.75602117e-01, 6.32919143e-01],\n",
       "       [3.82600983e-01, 9.00903836e-01, 7.62170345e-01, 8.10468764e-01,\n",
       "        8.53201408e-02, 1.52475353e-01, 5.25571290e-01, 6.00715970e-01,\n",
       "        7.38558074e-01, 5.32693619e-01],\n",
       "       [7.86274094e-01, 5.16751205e-01, 9.66335263e-01, 9.95685199e-01,\n",
       "        9.99911365e-01, 7.97307505e-01, 6.09760558e-01, 2.72317078e-01,\n",
       "        2.18601348e-01, 8.62271803e-01],\n",
       "       [2.71599171e-01, 6.96712793e-01, 4.99985736e-02, 2.96038893e-01,\n",
       "        3.22249514e-01, 8.02352819e-01, 3.80404048e-01, 2.11677308e-01,\n",
       "        4.32535812e-01, 3.74369844e-01],\n",
       "       [5.58041863e-01, 2.66901229e-01, 6.77259491e-01, 1.98100635e-01,\n",
       "        8.72132295e-01, 6.26134776e-01, 2.63397170e-01, 9.74904719e-01,\n",
       "        2.20590339e-01, 7.18459181e-02],\n",
       "       [8.97137286e-01, 8.01441468e-02, 6.99480753e-01, 8.47928224e-01,\n",
       "        1.30813955e-01, 6.66584760e-01, 9.69540308e-02, 9.46600642e-01,\n",
       "        8.16570524e-01, 3.98858558e-02],\n",
       "       [2.56743784e-01, 5.36215526e-01, 5.35287272e-01, 2.43867762e-01,\n",
       "        7.71828697e-01, 8.47733662e-01, 4.07939592e-01, 8.58543064e-01,\n",
       "        3.85396689e-01, 2.12866598e-01],\n",
       "       [2.93990062e-01, 6.80678895e-01, 6.37778484e-01, 7.42955418e-01,\n",
       "        2.56925997e-01, 3.74158647e-01, 1.77758768e-01, 9.45280871e-01,\n",
       "        6.27080893e-01, 4.29005776e-01],\n",
       "       [4.47861842e-01, 4.63968626e-01, 2.89832501e-03, 7.80762900e-01,\n",
       "        3.19913331e-01, 2.79632953e-01, 4.96675314e-02, 5.18538062e-01,\n",
       "        8.10336426e-01, 2.68300954e-01],\n",
       "       [9.43330544e-01, 8.45404546e-01, 5.01711774e-01, 4.21692926e-01,\n",
       "        7.32026177e-01, 5.98796086e-02, 3.43995175e-01, 1.73398604e-01,\n",
       "        2.49995360e-01, 5.69433288e-01],\n",
       "       [4.95336897e-01, 1.35339040e-01, 1.54880979e-01, 6.92692000e-01,\n",
       "        3.48532840e-01, 8.44784602e-01, 1.34183008e-01, 8.69747753e-01,\n",
       "        1.61017179e-01, 6.44901716e-01],\n",
       "       [6.76933150e-01, 5.69719659e-01, 6.51829778e-01, 7.05235443e-01,\n",
       "        2.63405235e-02, 3.43637234e-01, 7.35757298e-01, 3.08486475e-01,\n",
       "        4.06700740e-01, 5.91596778e-01],\n",
       "       [5.81400795e-01, 4.68788866e-01, 3.59179094e-01, 5.90154754e-01,\n",
       "        9.81596674e-01, 4.77886327e-01, 7.98596204e-01, 3.52696681e-01,\n",
       "        9.81338394e-01, 3.34482531e-01],\n",
       "       [5.99660833e-02, 7.07768475e-01, 8.17224273e-01, 6.02948343e-02,\n",
       "        5.97463696e-01, 7.90124535e-01, 1.83129239e-01, 4.79996790e-01,\n",
       "        8.96562709e-01, 5.22878690e-01],\n",
       "       [9.09635408e-01, 1.85919715e-01, 2.56873008e-01, 2.99034969e-01,\n",
       "        6.78321622e-01, 3.49888478e-01, 3.98805190e-01, 4.75429561e-01,\n",
       "        8.47147796e-01, 1.24533512e-01],\n",
       "       [6.14642572e-01, 1.39487514e-01, 1.57868275e-01, 5.00462077e-01,\n",
       "        5.76860457e-01, 5.37868121e-01, 7.03380028e-03, 4.42918269e-01,\n",
       "        5.47506865e-01, 9.28299994e-01],\n",
       "       [5.55825795e-01, 9.63803039e-01, 1.24244010e-01, 2.81670374e-01,\n",
       "        1.10099323e-01, 6.41394365e-01, 9.92153392e-02, 1.82754835e-01,\n",
       "        1.35399547e-01, 3.74780650e-01],\n",
       "       [2.74067390e-01, 1.30718623e-01, 4.82550211e-01, 4.52244331e-02,\n",
       "        3.37975767e-01, 7.12466278e-01, 9.84709150e-01, 6.25265548e-01,\n",
       "        6.96329208e-01, 5.66499973e-01],\n",
       "       [6.81185354e-01, 6.90477280e-01, 6.04778394e-01, 4.90362919e-01,\n",
       "        1.93260377e-01, 5.77348147e-01, 4.79348015e-01, 6.34200665e-01,\n",
       "        1.75550948e-02, 9.95156085e-01],\n",
       "       [1.10650464e-01, 9.74098617e-01, 7.25025668e-01, 4.20822892e-02,\n",
       "        5.10862275e-01, 9.74326235e-01, 3.34431173e-01, 2.30384411e-02,\n",
       "        2.66360735e-01, 6.30507153e-01],\n",
       "       [6.43118959e-02, 1.58965940e-01, 8.13056712e-01, 2.95077496e-01,\n",
       "        5.65146382e-01, 1.59172263e-01, 4.65993797e-01, 1.50931256e-01,\n",
       "        2.81010768e-01, 1.62279212e-01],\n",
       "       [7.66521629e-01, 3.61935862e-01, 8.28512158e-01, 5.90680005e-01,\n",
       "        1.68209193e-03, 6.69728175e-02, 5.59520150e-01, 5.34614216e-01,\n",
       "        8.67464109e-01, 6.64689695e-01],\n",
       "       [6.34484916e-01, 5.40409760e-01, 1.90228030e-01, 9.85161488e-01,\n",
       "        9.73317424e-03, 8.25371027e-01, 6.24542959e-01, 3.74281409e-01,\n",
       "        7.34215110e-01, 5.04683160e-05],\n",
       "       [5.34073183e-02, 1.55884024e-01, 4.99964927e-02, 2.44925618e-01,\n",
       "        6.93695074e-01, 2.15434341e-02, 4.31708314e-01, 7.11498009e-01,\n",
       "        3.79578123e-01, 3.83751345e-01],\n",
       "       [6.96638746e-01, 4.59622124e-01, 1.16640261e-01, 3.86290141e-01,\n",
       "        9.56359350e-01, 6.06945783e-01, 6.88281187e-01, 7.97156959e-01,\n",
       "        9.83042200e-01, 6.77604080e-01],\n",
       "       [2.22762818e-01, 6.44932900e-01, 6.81852466e-01, 3.63215815e-01,\n",
       "        9.46117287e-01, 5.97910688e-01, 3.27197690e-01, 7.13328327e-01,\n",
       "        4.91357234e-01, 8.68691912e-01],\n",
       "       [8.36986750e-01, 5.27657505e-01, 7.56275203e-01, 3.20288515e-01,\n",
       "        1.95982995e-01, 4.68224858e-01, 8.90973138e-01, 9.24092591e-01,\n",
       "        3.85588483e-01, 7.23568098e-01],\n",
       "       [3.89687082e-01, 4.28357140e-01, 6.92961176e-01, 2.46153765e-01,\n",
       "        9.15859623e-02, 9.31406174e-01, 2.68743553e-01, 9.36912030e-01,\n",
       "        4.01620349e-01, 4.44160401e-01],\n",
       "       [9.86651967e-02, 9.75431400e-01, 7.24537795e-01, 8.71676493e-01,\n",
       "        6.71293240e-01, 6.94768101e-01, 4.74732445e-01, 5.74253288e-02,\n",
       "        7.20317916e-03, 5.75439986e-03],\n",
       "       [6.30691333e-01, 1.77747092e-01, 6.88431936e-01, 9.82957677e-01,\n",
       "        6.60376654e-02, 3.54041543e-01, 5.69907306e-01, 6.43566885e-01,\n",
       "        9.73738652e-01, 9.51007813e-01],\n",
       "       [8.04347786e-01, 2.56003322e-01, 2.51982696e-02, 6.60917301e-02,\n",
       "        9.85827674e-01, 5.43789686e-01, 1.57386949e-01, 8.79479365e-01,\n",
       "        6.22740132e-01, 7.75860971e-01],\n",
       "       [5.35934102e-01, 1.77340351e-01, 7.74280437e-01, 9.26415839e-01,\n",
       "        4.82949143e-01, 7.18589360e-01, 7.70014237e-01, 1.50785671e-01,\n",
       "        6.91717366e-01, 8.98384753e-01],\n",
       "       [6.75171366e-02, 6.87136857e-01, 8.32760253e-01, 8.46549316e-01,\n",
       "        6.70230944e-01, 4.76802918e-01, 7.87034590e-01, 1.25584451e-01,\n",
       "        9.02703713e-01, 6.07046859e-01],\n",
       "       [8.28203875e-01, 7.78222520e-01, 6.17628060e-01, 9.35918753e-02,\n",
       "        2.57968728e-01, 3.24911576e-01, 9.04817288e-01, 6.57261067e-01,\n",
       "        3.68489643e-01, 6.31918259e-01],\n",
       "       [1.22650228e-02, 1.92977890e-01, 6.86807246e-01, 8.35328321e-01,\n",
       "        9.07637945e-01, 1.67131711e-01, 3.36067622e-01, 4.65499133e-01,\n",
       "        8.22707642e-01, 7.97239755e-01],\n",
       "       [5.12099160e-01, 7.81385340e-01, 5.72735548e-01, 5.34297946e-01,\n",
       "        6.45361642e-02, 1.35798397e-01, 6.41367256e-01, 9.21288951e-01,\n",
       "        3.64239074e-03, 2.59119829e-01],\n",
       "       [6.05247331e-01, 2.52786023e-01, 2.83895358e-01, 5.51617010e-01,\n",
       "        9.33789661e-01, 4.22555969e-01, 9.53256846e-01, 5.27753568e-01,\n",
       "        1.31452994e-01, 6.89780703e-01],\n",
       "       [7.31985502e-01, 9.47697621e-01, 2.04948981e-01, 1.21542261e-01,\n",
       "        9.25193833e-01, 4.04451296e-02, 5.90357353e-01, 8.95000835e-01,\n",
       "        4.63342355e-01, 8.10996339e-01],\n",
       "       [8.24813702e-01, 9.28505353e-01, 7.68109651e-01, 6.34387791e-01,\n",
       "        4.56301831e-01, 7.15881876e-01, 7.16084468e-01, 3.05972336e-01,\n",
       "        6.65970901e-01, 4.87538051e-01],\n",
       "       [5.05302688e-02, 4.22779425e-01, 7.34483785e-01, 1.86301306e-01,\n",
       "        1.45670814e-01, 7.64589250e-01, 5.54059800e-01, 7.06427923e-01,\n",
       "        2.62936009e-02, 2.24353143e-01],\n",
       "       [7.06916744e-01, 3.89069556e-01, 6.66771678e-01, 9.98378909e-01,\n",
       "        7.17892340e-01, 8.37204524e-01, 3.44312512e-01, 2.53530047e-02,\n",
       "        9.94462948e-01, 8.77875848e-02],\n",
       "       [4.12969716e-01, 3.03110760e-01, 5.55826537e-01, 8.38757323e-02,\n",
       "        5.71052430e-01, 8.32750852e-01, 5.40596273e-01, 8.09508737e-02,\n",
       "        7.20816549e-01, 7.28554298e-01],\n",
       "       [1.12717542e-01, 4.93369803e-01, 1.90384365e-01, 6.15873374e-01,\n",
       "        6.50746134e-01, 5.68398889e-01, 9.60252035e-01, 9.70194949e-01,\n",
       "        3.32257896e-01, 3.89886250e-01],\n",
       "       [3.93243791e-01, 2.70401344e-02, 3.44350242e-01, 1.63765467e-01,\n",
       "        3.76441855e-02, 6.45289631e-01, 9.94736482e-01, 3.97945104e-02,\n",
       "        4.63245791e-01, 3.42739880e-01],\n",
       "       [9.04522951e-01, 5.26019868e-02, 1.58618019e-01, 2.09080168e-02,\n",
       "        1.23681825e-02, 9.45752498e-01, 7.75251838e-01, 4.21226050e-02,\n",
       "        2.26447658e-01, 2.21209435e-02],\n",
       "       [1.91114367e-01, 4.52370468e-01, 2.37313330e-01, 7.77702701e-01,\n",
       "        4.79414892e-01, 6.21784568e-01, 5.99552229e-01, 8.87426217e-01,\n",
       "        9.69572268e-01, 9.54001376e-01],\n",
       "       [3.10334245e-01, 1.87794082e-01, 6.99629431e-01, 1.69299029e-01,\n",
       "        4.39458350e-02, 7.82512420e-01, 1.58442663e-01, 7.96690685e-01,\n",
       "        5.75778039e-01, 1.41111758e-01],\n",
       "       [3.48461453e-02, 4.44588224e-01, 2.34062420e-01, 3.96345016e-01,\n",
       "        6.82953853e-01, 2.96651442e-02, 8.48515086e-01, 9.62214774e-01,\n",
       "        5.23138266e-01, 2.81126597e-01],\n",
       "       [1.17880626e-01, 2.87744711e-02, 6.06790634e-01, 2.75471442e-01,\n",
       "        1.53764997e-01, 4.89977953e-01, 9.23915666e-01, 9.15843961e-01,\n",
       "        6.51090724e-01, 4.56366273e-01],\n",
       "       [1.12914347e-01, 1.73794445e-01, 7.62904402e-01, 6.36115864e-01,\n",
       "        3.88849266e-01, 3.61651485e-01, 3.05928150e-01, 4.11675412e-01,\n",
       "        6.56681532e-01, 2.30576562e-01],\n",
       "       [4.48786191e-01, 6.19012887e-01, 1.52211833e-01, 1.17300294e-01,\n",
       "        6.03034217e-01, 2.79048663e-01, 8.37702844e-01, 4.93872139e-01,\n",
       "        1.64609706e-01, 1.86649550e-01],\n",
       "       [4.16203778e-01, 6.46255355e-01, 9.44892940e-01, 3.21278143e-01,\n",
       "        5.30843164e-01, 8.47967274e-01, 8.66401287e-01, 6.99103148e-01,\n",
       "        2.03442336e-01, 1.28141402e-01],\n",
       "       [1.56204648e-01, 9.59758358e-01, 9.22968980e-01, 2.83828290e-02,\n",
       "        9.64233846e-01, 5.49137680e-01, 5.29066166e-01, 9.93465244e-01,\n",
       "        9.43481164e-02, 6.69859169e-01],\n",
       "       [7.86227029e-02, 1.19829240e-01, 6.99961147e-01, 1.46956090e-01,\n",
       "        1.38906896e-02, 8.41578646e-01, 6.27875734e-01, 4.40770862e-01,\n",
       "        9.98478677e-01, 3.77855251e-03],\n",
       "       [2.25483430e-01, 3.74474227e-01, 1.79974287e-01, 1.09080040e-01,\n",
       "        6.68218918e-01, 7.22231857e-01, 8.12155160e-01, 4.59713374e-01,\n",
       "        5.08171011e-01, 5.65866672e-01],\n",
       "       [5.07292544e-01, 7.90776404e-01, 3.97622065e-01, 4.74139338e-01,\n",
       "        3.91642852e-01, 6.96568270e-01, 8.81915403e-02, 6.38837180e-01,\n",
       "        3.20045656e-02, 1.28282742e-01],\n",
       "       [2.56264010e-01, 6.42345602e-01, 8.60137039e-01, 1.13820020e-01,\n",
       "        8.09795204e-01, 3.07538803e-01, 7.93004491e-01, 9.59255558e-01,\n",
       "        5.29116630e-01, 9.44461813e-01],\n",
       "       [8.34316402e-01, 8.63618270e-01, 6.68398315e-01, 3.30946687e-01,\n",
       "        6.49516962e-01, 3.21180888e-01, 8.81028869e-01, 6.65976330e-01,\n",
       "        3.17454438e-01, 3.11947735e-01],\n",
       "       [6.54648094e-01, 1.91421526e-01, 1.21156472e-01, 2.94424899e-01,\n",
       "        6.44081579e-01, 4.54572469e-01, 4.94558659e-01, 8.18214999e-01,\n",
       "        7.17657346e-01, 4.40301533e-01],\n",
       "       [6.87241413e-01, 6.45134179e-01, 9.33491675e-01, 5.27140857e-01,\n",
       "        2.71183147e-01, 7.98391451e-01, 1.58790042e-01, 7.02559894e-01,\n",
       "        1.62475784e-02, 4.40025675e-01]])"
      ]
     },
     "execution_count": 72,
     "metadata": {},
     "output_type": "execute_result"
    }
   ],
   "source": [
    "embeddings"
   ]
  },
  {
   "cell_type": "code",
   "execution_count": 73,
   "id": "b5f4b918",
   "metadata": {
    "id": "b5f4b918"
   },
   "outputs": [],
   "source": [
    "def linear(m, theta):\n",
    "    w = theta\n",
    "    return m.dot(w)"
   ]
  },
  {
   "cell_type": "code",
   "execution_count": 74,
   "id": "f37e96cd",
   "metadata": {
    "id": "f37e96cd"
   },
   "outputs": [],
   "source": [
    "def log_softmax(x):\n",
    "    e_x = np.exp(x - np.max(x))\n",
    "    return np.log(e_x / e_x.sum())\n",
    "def NLLLoss(logs, targets):\n",
    "    out = logs[range(len(targets)), targets]\n",
    "    return -out.sum()/len(out)"
   ]
  },
  {
   "cell_type": "code",
   "execution_count": 75,
   "id": "b68247dd",
   "metadata": {
    "id": "b68247dd"
   },
   "outputs": [],
   "source": [
    "import tensorflow as tf\n",
    "import keras.backend as k\n",
    "from keras.models import Sequential\n",
    "from keras.layers import Dense, Embedding, Lambda"
   ]
  },
  {
   "cell_type": "code",
   "execution_count": 76,
   "id": "85b84445",
   "metadata": {
    "id": "85b84445"
   },
   "outputs": [],
   "source": [
    "def log_softmax_crossentropy_with_logits(logits,target):\n",
    "\n",
    "    out = np.zeros_like(logits)\n",
    "    out[np.arange(len(logits)),target] = 1\n",
    "\n",
    "    softmax = np.exp(logits) / np.exp(logits).sum(axis=-1,keepdims=True)\n",
    "\n",
    "    return (- out + softmax) / logits.shape[0]"
   ]
  },
  {
   "cell_type": "code",
   "execution_count": 77,
   "id": "821ca3b1",
   "metadata": {
    "id": "821ca3b1"
   },
   "outputs": [],
   "source": [
    "def forward(context_idxs, theta):\n",
    "    m = embeddings[context_idxs].reshape(1, -1)\n",
    "    n = linear(m, theta)\n",
    "    o = log_softmax(n)\n",
    "\n",
    "    return m, n, o"
   ]
  },
  {
   "cell_type": "code",
   "execution_count": 78,
   "id": "bc8a0957",
   "metadata": {
    "id": "bc8a0957"
   },
   "outputs": [],
   "source": [
    "def backward(preds, theta, target_idxs):\n",
    "    m, n, o = preds\n",
    "\n",
    "    dlog = log_softmax_crossentropy_with_logits(n, target_idxs)\n",
    "    dw = m.T.dot(dlog)\n",
    "\n",
    "    return dw"
   ]
  },
  {
   "cell_type": "code",
   "execution_count": 79,
   "id": "da36e4f2",
   "metadata": {
    "id": "da36e4f2"
   },
   "outputs": [],
   "source": [
    "def optimize(theta, grad, lr=0.03):\n",
    "    theta -= grad * lr\n",
    "    return theta"
   ]
  },
  {
   "cell_type": "code",
   "execution_count": 80,
   "id": "4bf069cc",
   "metadata": {
    "id": "4bf069cc"
   },
   "outputs": [],
   "source": [
    "theta = np.random.uniform(-1, 1, ( context_size * embed_dim, vocab_size))"
   ]
  },
  {
   "cell_type": "code",
   "execution_count": 81,
   "id": "1a24acf7",
   "metadata": {
    "id": "1a24acf7"
   },
   "outputs": [],
   "source": [
    "epoch_losses = {}\n",
    "\n",
    "for epoch in range(80):\n",
    "\n",
    "    losses =  []\n",
    "\n",
    "    for context, target in data:\n",
    "        context_idxs = np.array([word_to_ix[w] for w in context])\n",
    "        preds = forward(context_idxs, theta)\n",
    "\n",
    "        target_idxs = np.array([word_to_ix[target]])\n",
    "        loss = NLLLoss(preds[-1], target_idxs)\n",
    "\n",
    "        losses.append(loss)\n",
    "\n",
    "        grad = backward(preds, theta, target_idxs)\n",
    "        theta = optimize(theta, grad, lr=0.03)\n",
    "\n",
    "        epoch_losses[epoch] = losses"
   ]
  },
  {
   "cell_type": "code",
   "execution_count": 82,
   "id": "6ab62843",
   "metadata": {
    "id": "6ab62843",
    "outputId": "2fad5968-70b0-4b6c-9b2f-4b74a7e09712",
    "scrolled": true
   },
   "outputs": [
    {
     "data": {
      "text/plain": [
       "Text(0, 0.5, 'Losses')"
      ]
     },
     "execution_count": 82,
     "metadata": {},
     "output_type": "execute_result"
    },
    {
     "data": {
      "image/png": "[encoded data removed]",
      "text/plain": [
       "<Figure size 432x288 with 1 Axes>"
      ]
     },
     "metadata": {
      "needs_background": "light"
     },
     "output_type": "display_data"
    }
   ],
   "source": [
    "import matplotlib.pyplot as plt\n",
    "ix = np.arange(0,80)\n",
    "\n",
    "fig = plt.figure()\n",
    "fig.suptitle('Epoch/Losses', fontsize=20)\n",
    "plt.plot(ix,[epoch_losses[i][0] for i in ix])\n",
    "plt.xlabel('Epochs', fontsize=12)\n",
    "plt.ylabel('Losses', fontsize=12)"
   ]
  },
  {
   "cell_type": "code",
   "execution_count": 83,
   "id": "9d3f08dd",
   "metadata": {
    "id": "9d3f08dd",
    "outputId": "2dae2472-c0d0-4405-83d0-4157d3337ecd",
    "scrolled": true
   },
   "outputs": [
    {
     "data": {
      "text/plain": [
       "'comparisons'"
      ]
     },
     "execution_count": 83,
     "metadata": {},
     "output_type": "execute_result"
    }
   ],
   "source": [
    "def predict(words):\n",
    "    context_idxs = np.array([word_to_ix[w] for w in words])\n",
    "    preds = forward(context_idxs, theta)\n",
    "    word = ix_to_word[np.argmax(preds[-1])]\n",
    "\n",
    "    return word\n",
    "predict(['is', 'not', 'one', 'first'])"
   ]
  },
  {
   "cell_type": "code",
   "execution_count": 84,
   "id": "c9898b5c",
   "metadata": {
    "id": "c9898b5c",
    "outputId": "13e59210-fc7a-416a-9194-289cf5d93890"
   },
   "outputs": [
    {
     "data": {
      "text/plain": [
       "1.0"
      ]
     },
     "execution_count": 84,
     "metadata": {},
     "output_type": "execute_result"
    }
   ],
   "source": [
    "def accuracy():\n",
    "    wrong = 0\n",
    "\n",
    "    for context, target in data:\n",
    "        if(predict(context) != target):\n",
    "            wrong += 1\n",
    "\n",
    "    return (1 - (wrong / len(data)))\n",
    "accuracy()"
   ]
  }
 ],
 "metadata": {
  "colab": {
   "provenance": []
  },
  "kernelspec": {
   "display_name": "Python 3 (ipykernel)",
   "language": "python",
   "name": "python3"
  },
  "language_info": {
   "codemirror_mode": {
    "name": "ipython",
    "version": 3
   },
   "file_extension": ".py",
   "mimetype": "text/x-python",
   "name": "python",
   "nbconvert_exporter": "python",
   "pygments_lexer": "ipython3",
   "version": "3.9.12"
  }
 },
 "nbformat": 4,
 "nbformat_minor": 5
}
