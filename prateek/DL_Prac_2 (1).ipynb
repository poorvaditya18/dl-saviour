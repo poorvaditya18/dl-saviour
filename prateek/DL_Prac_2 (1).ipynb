{
 "cells": [
  {
   "cell_type": "markdown",
   "id": "2eba16e2",
   "metadata": {
    "id": "2eba16e2"
   },
   "source": [
    "# Feedforward neural network using Keras and Tensorflow MNIST digit dataset"
   ]
  },
  {
   "cell_type": "markdown",
   "id": "2ff1db98",
   "metadata": {
    "id": "2ff1db98"
   },
   "source": [
    "## a. Import the necessary packages\n"
   ]
  },
  {
   "cell_type": "code",
   "execution_count": 1,
   "id": "1e3df09a",
   "metadata": {
    "id": "1e3df09a"
   },
   "outputs": [],
   "source": [
    "import tensorflow\n",
    "import numpy as np\n",
    "from tensorflow.keras.layers import Dense\n",
    "from tensorflow.keras.models import Sequential\n",
    "from tensorflow.keras.datasets import mnist\n",
    "import matplotlib.pyplot as plt\n",
    "from sklearn.metrics import classification_report, confusion_matrix"
   ]
  },
  {
   "cell_type": "markdown",
   "id": "b6a66fe6",
   "metadata": {
    "id": "b6a66fe6"
   },
   "source": [
    "## b. Load the training and testing data"
   ]
  },
  {
   "cell_type": "code",
   "execution_count": 2,
   "id": "98493bad",
   "metadata": {
    "id": "98493bad"
   },
   "outputs": [],
   "source": [
    "(x_train, y_train), (x_test, y_test) = mnist.load_data()"
   ]
  },
  {
   "cell_type": "code",
   "execution_count": 3,
   "id": "281a2233",
   "metadata": {
    "id": "281a2233",
    "outputId": "fe6aee00-b44e-435a-8e0b-34f2b5455c2e"
   },
   "outputs": [
    {
     "data": {
      "text/plain": [
       "(((60000, 28, 28), (60000,)), ((10000, 28, 28), (10000,)))"
      ]
     },
     "execution_count": 3,
     "metadata": {},
     "output_type": "execute_result"
    }
   ],
   "source": [
    "(x_train.shape, y_train.shape), (x_test.shape, y_test.shape)"
   ]
  },
  {
   "cell_type": "code",
   "execution_count": 4,
   "id": "c622c569",
   "metadata": {
    "id": "c622c569",
    "outputId": "b732f6cc-dcf5-4632-bb83-07c21a193149"
   },
   "outputs": [
    {
     "data": {
      "text/plain": [
       "<matplotlib.image.AxesImage at 0x196729521c0>"
      ]
     },
     "execution_count": 4,
     "metadata": {},
     "output_type": "execute_result"
    },
    {
     "data": {
      "image/png": "[encoded data removed]",
      "text/plain": [
       "<Figure size 432x288 with 1 Axes>"
      ]
     },
     "metadata": {
      "needs_background": "light"
     },
     "output_type": "display_data"
    }
   ],
   "source": [
    "plt.imshow(x_train[0], cmap=\"gray\")"
   ]
  },
  {
   "cell_type": "code",
   "execution_count": 5,
   "id": "e01063da",
   "metadata": {
    "id": "e01063da",
    "outputId": "1b95b605-0509-41e1-9a0c-61c1dfe5495a"
   },
   "outputs": [
    {
     "data": {
      "text/plain": [
       "5"
      ]
     },
     "execution_count": 5,
     "metadata": {},
     "output_type": "execute_result"
    }
   ],
   "source": [
    "y_train[0]"
   ]
  },
  {
   "cell_type": "code",
   "execution_count": 7,
   "id": "acecdf1c",
   "metadata": {
    "id": "acecdf1c"
   },
   "outputs": [],
   "source": [
    "# converting it in the range of 0 to 1\n",
    "\n",
    "x_train = x_train/255\n",
    "x_test = x_test/255"
   ]
  },
  {
   "cell_type": "code",
   "execution_count": 9,
   "id": "4055a042",
   "metadata": {
    "id": "4055a042"
   },
   "outputs": [],
   "source": [
    "# reshaping the training and testing data from 2D to 1D\n",
    "\n",
    "x_train = x_train.reshape((x_train.shape[0], 1*28*28))\n",
    "x_test = x_test.reshape((x_test.shape[0], 1*28*28))"
   ]
  },
  {
   "cell_type": "code",
   "execution_count": 10,
   "id": "1bbfd6cb",
   "metadata": {
    "id": "1bbfd6cb",
    "outputId": "dab127be-ac8b-4cd3-a29a-a1d0cbdb6eec"
   },
   "outputs": [
    {
     "data": {
      "text/plain": [
       "(((60000, 784), (60000,)), ((10000, 784), (10000,)))"
      ]
     },
     "execution_count": 10,
     "metadata": {},
     "output_type": "execute_result"
    }
   ],
   "source": [
    "(x_train.shape, y_train.shape), (x_test.shape, y_test.shape)"
   ]
  },
  {
   "cell_type": "markdown",
   "id": "1159cbff",
   "metadata": {
    "id": "1159cbff"
   },
   "source": [
    "## c. Define network architecture using Keras"
   ]
  },
  {
   "cell_type": "code",
   "execution_count": 11,
   "id": "bcdb58a4",
   "metadata": {
    "id": "bcdb58a4"
   },
   "outputs": [],
   "source": [
    "model = Sequential()"
   ]
  },
  {
   "cell_type": "code",
   "execution_count": 12,
   "id": "d0301611",
   "metadata": {
    "id": "d0301611"
   },
   "outputs": [],
   "source": [
    "#first layer\n",
    "model.add(Dense(256, input_shape=(784,), activation='relu'))\n",
    "model.add(Dense(128, activation='relu'))\n",
    "model.add(Dense(32, activation='relu'))\n",
    "#last layer\n",
    "model.add(Dense(10, activation='sigmoid'))\n"
   ]
  },
  {
   "cell_type": "markdown",
   "id": "2209bc87",
   "metadata": {
    "id": "2209bc87"
   },
   "source": [
    "## d. Train the model using SGD"
   ]
  },
  {
   "cell_type": "code",
   "execution_count": 13,
   "id": "679708b5",
   "metadata": {
    "id": "679708b5"
   },
   "outputs": [],
   "source": [
    "model.compile(optimizer='sgd', loss='sparse_categorical_crossentropy', metrics=['accuracy'])"
   ]
  },
  {
   "cell_type": "code",
   "execution_count": 14,
   "id": "73e5e4c4",
   "metadata": {
    "id": "73e5e4c4",
    "outputId": "802bb2a6-4704-4b54-de3c-ecb3b3e107a3"
   },
   "outputs": [
    {
     "name": "stdout",
     "output_type": "stream",
     "text": [
      "Model: \"sequential\"\n",
      "_________________________________________________________________\n",
      " Layer (type)                Output Shape              Param #   \n",
      "=================================================================\n",
      " dense (Dense)               (None, 256)               200960    \n",
      "                                                                 \n",
      " dense_1 (Dense)             (None, 128)               32896     \n",
      "                                                                 \n",
      " dense_2 (Dense)             (None, 32)                4128      \n",
      "                                                                 \n",
      " dense_3 (Dense)             (None, 10)                330       \n",
      "                                                                 \n",
      "=================================================================\n",
      "Total params: 238,314\n",
      "Trainable params: 238,314\n",
      "Non-trainable params: 0\n",
      "_________________________________________________________________\n"
     ]
    }
   ],
   "source": [
    "model.summary()"
   ]
  },
  {
   "cell_type": "code",
   "execution_count": 15,
   "id": "5d8095c6",
   "metadata": {
    "id": "5d8095c6",
    "outputId": "05b57de6-0090-41a1-9a50-0e581ec80b0f",
    "scrolled": true
   },
   "outputs": [
    {
     "name": "stdout",
     "output_type": "stream",
     "text": [
      "Epoch 1/30\n",
      "1688/1688 [==============================] - 2s 1ms/step - loss: 0.6536 - accuracy: 0.8197 - val_loss: 0.2716 - val_accuracy: 0.9227\n",
      "Epoch 2/30\n",
      "1688/1688 [==============================] - 2s 1ms/step - loss: 0.2698 - accuracy: 0.9228 - val_loss: 0.2000 - val_accuracy: 0.9407\n",
      "Epoch 3/30\n",
      "1688/1688 [==============================] - 2s 1ms/step - loss: 0.2078 - accuracy: 0.9400 - val_loss: 0.1580 - val_accuracy: 0.9578\n",
      "Epoch 4/30\n",
      "1688/1688 [==============================] - 2s 1ms/step - loss: 0.1720 - accuracy: 0.9501 - val_loss: 0.1314 - val_accuracy: 0.9635\n",
      "Epoch 5/30\n",
      "1688/1688 [==============================] - 2s 1ms/step - loss: 0.1457 - accuracy: 0.9579 - val_loss: 0.1262 - val_accuracy: 0.9643\n",
      "Epoch 6/30\n",
      "1688/1688 [==============================] - 2s 1ms/step - loss: 0.1266 - accuracy: 0.9628 - val_loss: 0.1143 - val_accuracy: 0.9672\n",
      "Epoch 7/30\n",
      "1688/1688 [==============================] - 2s 1ms/step - loss: 0.1112 - accuracy: 0.9667 - val_loss: 0.1009 - val_accuracy: 0.9710\n",
      "Epoch 8/30\n",
      "1688/1688 [==============================] - 2s 1ms/step - loss: 0.0991 - accuracy: 0.9711 - val_loss: 0.1114 - val_accuracy: 0.9685\n",
      "Epoch 9/30\n",
      "1688/1688 [==============================] - 2s 1ms/step - loss: 0.0885 - accuracy: 0.9743 - val_loss: 0.0920 - val_accuracy: 0.9728\n",
      "Epoch 10/30\n",
      "1688/1688 [==============================] - 2s 1ms/step - loss: 0.0798 - accuracy: 0.9769 - val_loss: 0.0946 - val_accuracy: 0.9723\n",
      "Epoch 11/30\n",
      "1688/1688 [==============================] - 2s 1ms/step - loss: 0.0721 - accuracy: 0.9786 - val_loss: 0.0854 - val_accuracy: 0.9760\n",
      "Epoch 12/30\n",
      "1688/1688 [==============================] - 2s 1ms/step - loss: 0.0651 - accuracy: 0.9814 - val_loss: 0.0843 - val_accuracy: 0.9765\n",
      "Epoch 13/30\n",
      "1688/1688 [==============================] - 2s 1ms/step - loss: 0.0587 - accuracy: 0.9832 - val_loss: 0.0873 - val_accuracy: 0.9765\n",
      "Epoch 14/30\n",
      "1688/1688 [==============================] - 2s 1ms/step - loss: 0.0534 - accuracy: 0.9847 - val_loss: 0.0902 - val_accuracy: 0.9737\n",
      "Epoch 15/30\n",
      "1688/1688 [==============================] - 2s 1ms/step - loss: 0.0489 - accuracy: 0.9858 - val_loss: 0.0786 - val_accuracy: 0.9777\n",
      "Epoch 16/30\n",
      "1688/1688 [==============================] - 2s 1ms/step - loss: 0.0440 - accuracy: 0.9880 - val_loss: 0.0767 - val_accuracy: 0.9782\n",
      "Epoch 17/30\n",
      "1688/1688 [==============================] - 2s 1ms/step - loss: 0.0402 - accuracy: 0.9891 - val_loss: 0.0765 - val_accuracy: 0.9792\n",
      "Epoch 18/30\n",
      "1688/1688 [==============================] - 2s 1ms/step - loss: 0.0360 - accuracy: 0.9906 - val_loss: 0.0756 - val_accuracy: 0.9793\n",
      "Epoch 19/30\n",
      "1688/1688 [==============================] - 2s 1ms/step - loss: 0.0326 - accuracy: 0.9916 - val_loss: 0.0763 - val_accuracy: 0.9790\n",
      "Epoch 20/30\n",
      "1688/1688 [==============================] - 2s 1ms/step - loss: 0.0299 - accuracy: 0.9922 - val_loss: 0.0811 - val_accuracy: 0.9785\n",
      "Epoch 21/30\n",
      "1688/1688 [==============================] - 2s 1ms/step - loss: 0.0265 - accuracy: 0.9933 - val_loss: 0.0751 - val_accuracy: 0.9807\n",
      "Epoch 22/30\n",
      "1688/1688 [==============================] - 2s 1ms/step - loss: 0.0236 - accuracy: 0.9944 - val_loss: 0.0730 - val_accuracy: 0.9827\n",
      "Epoch 23/30\n",
      "1688/1688 [==============================] - 2s 1ms/step - loss: 0.0214 - accuracy: 0.9950 - val_loss: 0.0795 - val_accuracy: 0.9780\n",
      "Epoch 24/30\n",
      "1688/1688 [==============================] - 2s 1ms/step - loss: 0.0196 - accuracy: 0.9958 - val_loss: 0.0776 - val_accuracy: 0.9808\n",
      "Epoch 25/30\n",
      "1688/1688 [==============================] - 2s 1ms/step - loss: 0.0173 - accuracy: 0.9967 - val_loss: 0.0752 - val_accuracy: 0.9820\n",
      "Epoch 26/30\n",
      "1688/1688 [==============================] - 2s 1ms/step - loss: 0.0154 - accuracy: 0.9971 - val_loss: 0.0749 - val_accuracy: 0.9813\n",
      "Epoch 27/30\n",
      "1688/1688 [==============================] - 2s 1ms/step - loss: 0.0139 - accuracy: 0.9974 - val_loss: 0.0772 - val_accuracy: 0.9810\n",
      "Epoch 28/30\n",
      "1688/1688 [==============================] - 2s 1ms/step - loss: 0.0124 - accuracy: 0.9980 - val_loss: 0.0758 - val_accuracy: 0.9823\n",
      "Epoch 29/30\n",
      "1688/1688 [==============================] - 2s 1ms/step - loss: 0.0111 - accuracy: 0.9984 - val_loss: 0.0787 - val_accuracy: 0.9812\n",
      "Epoch 30/30\n",
      "1688/1688 [==============================] - 2s 1ms/step - loss: 0.0101 - accuracy: 0.9986 - val_loss: 0.0771 - val_accuracy: 0.9817\n"
     ]
    }
   ],
   "source": [
    "trained_MNIST = model.fit(x_train, y_train, validation_split = 0.1, epochs=30)"
   ]
  },
  {
   "cell_type": "markdown",
   "id": "46444e3f",
   "metadata": {
    "id": "46444e3f"
   },
   "source": [
    "## e. Evaluate the network"
   ]
  },
  {
   "cell_type": "code",
   "execution_count": 16,
   "id": "c3456c88",
   "metadata": {
    "id": "c3456c88",
    "outputId": "27ec9b46-c9e1-40c8-881a-87a62078bfc0"
   },
   "outputs": [
    {
     "name": "stdout",
     "output_type": "stream",
     "text": [
      "313/313 [==============================] - 0s 795us/step - loss: 0.0784 - accuracy: 0.9772\n",
      "0.0783684179186821\n",
      "0.9771999716758728\n"
     ]
    }
   ],
   "source": [
    "test_loss, accuracy = model.evaluate(x_test, y_test)\n",
    "print(test_loss)\n",
    "print(accuracy)"
   ]
  },
  {
   "cell_type": "code",
   "execution_count": 17,
   "id": "c53b1f93",
   "metadata": {
    "id": "c53b1f93",
    "outputId": "391dbf13-b862-4f87-930e-28be42ba22b2"
   },
   "outputs": [
    {
     "name": "stdout",
     "output_type": "stream",
     "text": [
      "313/313 [==============================] - 0s 760us/step\n"
     ]
    }
   ],
   "source": [
    "y_pred = model.predict(x_test)"
   ]
  },
  {
   "cell_type": "code",
   "execution_count": 18,
   "id": "7c4e1aa0",
   "metadata": {
    "id": "7c4e1aa0",
    "outputId": "2a76f7ab-46a0-4cc0-eae3-ae9ac898000d"
   },
   "outputs": [
    {
     "data": {
      "text/plain": [
       "array([[1.09001376e-01, 9.83277243e-03, 7.92647898e-01, ...,\n",
       "        9.99999523e-01, 4.96228456e-01, 8.95290136e-01],\n",
       "       [5.81809700e-01, 9.98916805e-01, 1.00000000e+00, ...,\n",
       "        1.00998000e-06, 8.43464792e-01, 1.01976578e-08],\n",
       "       [5.05286381e-02, 9.99894202e-01, 4.88580495e-01, ...,\n",
       "        3.90141666e-01, 8.94059598e-01, 1.67805068e-02],\n",
       "       ...,\n",
       "       [6.26578345e-04, 6.67672604e-04, 8.11920166e-02, ...,\n",
       "        9.77469444e-01, 9.31783855e-01, 9.96618986e-01],\n",
       "       [2.26422727e-01, 1.06544219e-04, 1.55799444e-05, ...,\n",
       "        1.79749280e-02, 9.99917746e-01, 1.35280879e-03],\n",
       "       [9.98561025e-01, 7.04251826e-01, 2.02956811e-01, ...,\n",
       "        1.17197021e-06, 7.21211851e-01, 3.43266111e-05]], dtype=float32)"
      ]
     },
     "execution_count": 18,
     "metadata": {},
     "output_type": "execute_result"
    }
   ],
   "source": [
    "y_pred"
   ]
  },
  {
   "cell_type": "code",
   "execution_count": 19,
   "id": "ebdfd1f2",
   "metadata": {
    "id": "ebdfd1f2",
    "outputId": "5be7da38-f731-4139-a26d-83602c819e3e"
   },
   "outputs": [
    {
     "data": {
      "text/plain": [
       "array([7, 2, 1, ..., 4, 5, 6], dtype=uint8)"
      ]
     },
     "execution_count": 19,
     "metadata": {},
     "output_type": "execute_result"
    }
   ],
   "source": [
    "y_test"
   ]
  },
  {
   "cell_type": "code",
   "execution_count": 22,
   "id": "751c31e8",
   "metadata": {
    "id": "751c31e8"
   },
   "outputs": [],
   "source": [
    "pred = np.argmax(y_pred, axis=1)"
   ]
  },
  {
   "cell_type": "code",
   "execution_count": 23,
   "id": "2e270c9a",
   "metadata": {
    "id": "2e270c9a",
    "outputId": "ad12f03c-62f1-44c6-ace6-8608c60c4d82"
   },
   "outputs": [
    {
     "data": {
      "text/plain": [
       "array([7, 2, 1, ..., 4, 5, 6], dtype=int64)"
      ]
     },
     "execution_count": 23,
     "metadata": {},
     "output_type": "execute_result"
    }
   ],
   "source": [
    "pred"
   ]
  },
  {
   "cell_type": "code",
   "execution_count": 24,
   "id": "5a561743",
   "metadata": {
    "id": "5a561743",
    "outputId": "2c7347e9-f5dd-4891-91ed-3f945ade5a71"
   },
   "outputs": [
    {
     "name": "stdout",
     "output_type": "stream",
     "text": [
      "\n",
      " The Classification report is \n",
      "\n",
      "              precision    recall  f1-score   support\n",
      "\n",
      "           0       0.97      0.99      0.98       980\n",
      "           1       0.99      0.99      0.99      1135\n",
      "           2       0.98      0.98      0.98      1032\n",
      "           3       0.95      0.98      0.97      1010\n",
      "           4       0.97      0.98      0.98       982\n",
      "           5       0.99      0.95      0.97       892\n",
      "           6       0.98      0.98      0.98       958\n",
      "           7       0.97      0.98      0.97      1028\n",
      "           8       0.97      0.97      0.97       974\n",
      "           9       0.98      0.96      0.97      1009\n",
      "\n",
      "    accuracy                           0.98     10000\n",
      "   macro avg       0.98      0.98      0.98     10000\n",
      "weighted avg       0.98      0.98      0.98     10000\n",
      "\n",
      "\n",
      " The Confusion Matrix is \n",
      "\n",
      "[[ 972    0    1    0    1    0    4    0    1    1]\n",
      " [   0 1124    3    1    0    1    2    1    3    0]\n",
      " [   2    0 1009    3    3    0    3    7    5    0]\n",
      " [   1    1    1  990    1    2    0    6    5    3]\n",
      " [   1    0    4    0  964    0    3    2    1    7]\n",
      " [   5    0    0   25    2  851    4    1    4    0]\n",
      " [   7    2    0    1    5    5  935    0    3    0]\n",
      " [   1    1   10    2    0    0    0 1003    4    7]\n",
      " [   4    0    4    7    4    2    1    3  945    4]\n",
      " [   4    2    0    9   12    2    0    9    3  968]]\n"
     ]
    }
   ],
   "source": [
    "print(\"\\n The Classification report is \\n\")\n",
    "print(classification_report(y_test, pred))\n",
    "print(\"\\n The Confusion Matrix is \\n\")\n",
    "print(confusion_matrix(y_test, pred))"
   ]
  },
  {
   "cell_type": "markdown",
   "id": "239c65bf",
   "metadata": {
    "id": "239c65bf"
   },
   "source": [
    "## f. Plot the training loss and accuracy"
   ]
  },
  {
   "cell_type": "code",
   "execution_count": 25,
   "id": "cccb1b6b",
   "metadata": {
    "id": "cccb1b6b",
    "outputId": "2490f1eb-e6e4-4303-9c3c-24f6560b196a"
   },
   "outputs": [
    {
     "data": {
      "image/png": "[encoded data removed]",
      "text/plain": [
       "<Figure size 1080x720 with 2 Axes>"
      ]
     },
     "metadata": {
      "needs_background": "light"
     },
     "output_type": "display_data"
    }
   ],
   "source": [
    "accuracy = trained_MNIST.history['accuracy']\n",
    "val_accuracy  = trained_MNIST.history['val_accuracy']\n",
    "\n",
    "loss = trained_MNIST.history['loss']\n",
    "val_loss = trained_MNIST.history['val_loss']\n",
    "\n",
    "plt.figure(figsize=(15,10))\n",
    "\n",
    "plt.subplot(2, 2, 1)\n",
    "plt.plot(accuracy, label = \"Training accuracy\")\n",
    "plt.plot(val_accuracy, label=\"Validation accuracy\")\n",
    "plt.legend()\n",
    "plt.title(\"Training vs validation accuracy\")\n",
    "\n",
    "\n",
    "plt.subplot(2,2,2)\n",
    "plt.plot(loss, label = \"Training loss\")\n",
    "plt.plot(val_loss, label=\"Validation loss\")\n",
    "plt.legend()\n",
    "plt.title(\"Training vs validation loss\")\n",
    "\n",
    "plt.show()"
   ]
  }
 ],
 "metadata": {
  "colab": {
   "provenance": []
  },
  "kernelspec": {
   "display_name": "Python 3 (ipykernel)",
   "language": "python",
   "name": "python3"
  },
  "language_info": {
   "codemirror_mode": {
    "name": "ipython",
    "version": 3
   },
   "file_extension": ".py",
   "mimetype": "text/x-python",
   "name": "python",
   "nbconvert_exporter": "python",
   "pygments_lexer": "ipython3",
   "version": "3.9.12"
  }
 },
 "nbformat": 4,
 "nbformat_minor": 5
}
