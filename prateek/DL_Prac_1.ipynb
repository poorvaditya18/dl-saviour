{
 "cells": [
  {
   "cell_type": "markdown",
   "metadata": {
    "id": "HuW4yieDG_ku"
   },
   "source": [
    "# Tensorflow"
   ]
  },
  {
   "cell_type": "code",
   "execution_count": 3,
   "metadata": {},
   "outputs": [
    {
     "name": "stdout",
     "output_type": "stream",
     "text": [
      "tf.Tensor(35, shape=(), dtype=int32)\n"
     ]
    }
   ],
   "source": [
    "import numpy as np\n",
    "import tensorflow as tf \n",
    "a=tf.constant(15)\n",
    "b=tf.constant(20)\n",
    "print(a+b)"
   ]
  },
  {
   "cell_type": "code",
   "execution_count": 4,
   "metadata": {
    "colab": {
     "base_uri": "https://localhost:8080/"
    },
    "id": "ohAoqEKYBjfc",
    "outputId": "aaeab81c-d3b4-444e-b208-b9082d143995"
   },
   "outputs": [
    {
     "name": "stdout",
     "output_type": "stream",
     "text": [
      "[0.96572423 0.34497866 0.7421628  0.17897393 0.23823911 0.7735159\n",
      " 0.67752653 0.22286783 0.14112815 0.11118194 0.15020266 0.5419511\n",
      " 0.38106441 0.2715826  0.91285676 0.16911468 0.85728663 0.6019359\n",
      " 0.9156174  0.43641478 0.68027425 0.76000667 0.7877019  0.5619625\n",
      " 0.803183   0.27096313 0.35265404 0.65533084 0.6049436  0.9451219\n",
      " 0.5846114  0.98555493 0.30043384 0.6747333  0.7790742  0.34337983\n",
      " 0.04212314 0.23591276 0.17679708 0.48841745 0.69354916 0.01765083\n",
      " 0.13986777 0.8733419  0.70061177 0.5837639  0.4762527  0.40829223\n",
      " 0.5016815  0.47364157 0.7576067  0.7994594  0.88537097 0.8876027\n",
      " 0.44569737 0.7500926  0.66051596 0.8484728  0.16211471 0.6540168\n",
      " 0.192994   0.4530486  0.13519813 0.5122175  0.9851944  0.43465433\n",
      " 0.7370678  0.6376797  0.28316924 0.33704066 0.96453166 0.76420593\n",
      " 0.43593797 0.45172146 0.6309972  0.46034926 0.37453735 0.3517094\n",
      " 0.86007065 0.8217896  0.6722369  0.2802551  0.65724504 0.34168872\n",
      " 0.07407109 0.9487521  0.00920665 0.5820032  0.42697185 0.68221545\n",
      " 0.55885184 0.5637304  0.10745507 0.24288397 0.19472428 0.5584827\n",
      " 0.52640957 0.34464684 0.92337644 0.1837638 ]\n"
     ]
    }
   ],
   "source": [
    "x=np.random.rand(100).astype(np.float32)\n",
    "print(x)"
   ]
  },
  {
   "cell_type": "code",
   "execution_count": 5,
   "metadata": {
    "id": "p3fBo1GSCZn1"
   },
   "outputs": [],
   "source": [
    "y=x*0.2+0.2\n",
    "W=tf.Variable(tf.random.normal([1]))\n",
    "b=tf.Variable(tf.zeros([1]))"
   ]
  },
  {
   "cell_type": "code",
   "execution_count": 6,
   "metadata": {
    "id": "U0O-jED6DTd1"
   },
   "outputs": [],
   "source": [
    "def mse_loss():\n",
    "  ypred=W* x+b\n",
    "  loss=tf.reduce_mean(tf.square(ypred-y))\n",
    "  return loss"
   ]
  },
  {
   "cell_type": "code",
   "execution_count": 7,
   "metadata": {
    "colab": {
     "base_uri": "https://localhost:8080/"
    },
    "id": "fJ51TxugERil",
    "outputId": "8cd62059-e7b8-4000-fb2e-2fddd92abfa4",
    "scrolled": true
   },
   "outputs": [
    {
     "name": "stdout",
     "output_type": "stream",
     "text": [
      "0 [-1.1331582] [0.001]\n",
      "500 [-0.7290962] [0.39096424]\n",
      "1000 [-0.51823914] [0.5399393]\n",
      "1500 [-0.40944546] [0.5366595]\n",
      "2000 [-0.3154979] [0.4890532]\n",
      "2500 [-0.21537457] [0.43294856]\n",
      "3000 [-0.11351237] [0.37574932]\n",
      "3500 [-0.01790558] [0.32210943]\n",
      "4000 [0.06365212] [0.27638653]\n",
      "4500 [0.12547484] [0.24174517]\n"
     ]
    }
   ],
   "source": [
    "optimizer=tf.keras.optimizers.Adam()\n",
    "for step in range(5000):\n",
    "  optimizer.minimize(mse_loss, var_list=[W,b])\n",
    "  if step % 500 == 0:\n",
    "    print(step, W.numpy(),b.numpy())"
   ]
  },
  {
   "cell_type": "markdown",
   "metadata": {},
   "source": [
    "# Keras"
   ]
  },
  {
   "cell_type": "code",
   "execution_count": 8,
   "metadata": {
    "id": "Qd31melpHMiW"
   },
   "outputs": [],
   "source": [
    "from tensorflow.keras.models import Sequential\n",
    "from tensorflow.keras.layers import Dense\n",
    "import pandas as pd"
   ]
  },
  {
   "cell_type": "code",
   "execution_count": 9,
   "metadata": {},
   "outputs": [
    {
     "data": {
      "text/html": [
       "<div>\n",
       "<style scoped>\n",
       "    .dataframe tbody tr th:only-of-type {\n",
       "        vertical-align: middle;\n",
       "    }\n",
       "\n",
       "    .dataframe tbody tr th {\n",
       "        vertical-align: top;\n",
       "    }\n",
       "\n",
       "    .dataframe thead th {\n",
       "        text-align: right;\n",
       "    }\n",
       "</style>\n",
       "<table border=\"1\" class=\"dataframe\">\n",
       "  <thead>\n",
       "    <tr style=\"text-align: right;\">\n",
       "      <th></th>\n",
       "      <th>Pregnancies</th>\n",
       "      <th>Glucose</th>\n",
       "      <th>BloodPressure</th>\n",
       "      <th>SkinThickness</th>\n",
       "      <th>Insulin</th>\n",
       "      <th>BMI</th>\n",
       "      <th>DiabetesPedigreeFunction</th>\n",
       "      <th>Age</th>\n",
       "      <th>Outcome</th>\n",
       "    </tr>\n",
       "  </thead>\n",
       "  <tbody>\n",
       "    <tr>\n",
       "      <th>0</th>\n",
       "      <td>6</td>\n",
       "      <td>148</td>\n",
       "      <td>72</td>\n",
       "      <td>35</td>\n",
       "      <td>0</td>\n",
       "      <td>33.6</td>\n",
       "      <td>0.627</td>\n",
       "      <td>50</td>\n",
       "      <td>1</td>\n",
       "    </tr>\n",
       "    <tr>\n",
       "      <th>1</th>\n",
       "      <td>1</td>\n",
       "      <td>85</td>\n",
       "      <td>66</td>\n",
       "      <td>29</td>\n",
       "      <td>0</td>\n",
       "      <td>26.6</td>\n",
       "      <td>0.351</td>\n",
       "      <td>31</td>\n",
       "      <td>0</td>\n",
       "    </tr>\n",
       "    <tr>\n",
       "      <th>2</th>\n",
       "      <td>8</td>\n",
       "      <td>183</td>\n",
       "      <td>64</td>\n",
       "      <td>0</td>\n",
       "      <td>0</td>\n",
       "      <td>23.3</td>\n",
       "      <td>0.672</td>\n",
       "      <td>32</td>\n",
       "      <td>1</td>\n",
       "    </tr>\n",
       "    <tr>\n",
       "      <th>3</th>\n",
       "      <td>1</td>\n",
       "      <td>89</td>\n",
       "      <td>66</td>\n",
       "      <td>23</td>\n",
       "      <td>94</td>\n",
       "      <td>28.1</td>\n",
       "      <td>0.167</td>\n",
       "      <td>21</td>\n",
       "      <td>0</td>\n",
       "    </tr>\n",
       "    <tr>\n",
       "      <th>4</th>\n",
       "      <td>0</td>\n",
       "      <td>137</td>\n",
       "      <td>40</td>\n",
       "      <td>35</td>\n",
       "      <td>168</td>\n",
       "      <td>43.1</td>\n",
       "      <td>2.288</td>\n",
       "      <td>33</td>\n",
       "      <td>1</td>\n",
       "    </tr>\n",
       "    <tr>\n",
       "      <th>...</th>\n",
       "      <td>...</td>\n",
       "      <td>...</td>\n",
       "      <td>...</td>\n",
       "      <td>...</td>\n",
       "      <td>...</td>\n",
       "      <td>...</td>\n",
       "      <td>...</td>\n",
       "      <td>...</td>\n",
       "      <td>...</td>\n",
       "    </tr>\n",
       "    <tr>\n",
       "      <th>763</th>\n",
       "      <td>10</td>\n",
       "      <td>101</td>\n",
       "      <td>76</td>\n",
       "      <td>48</td>\n",
       "      <td>180</td>\n",
       "      <td>32.9</td>\n",
       "      <td>0.171</td>\n",
       "      <td>63</td>\n",
       "      <td>0</td>\n",
       "    </tr>\n",
       "    <tr>\n",
       "      <th>764</th>\n",
       "      <td>2</td>\n",
       "      <td>122</td>\n",
       "      <td>70</td>\n",
       "      <td>27</td>\n",
       "      <td>0</td>\n",
       "      <td>36.8</td>\n",
       "      <td>0.340</td>\n",
       "      <td>27</td>\n",
       "      <td>0</td>\n",
       "    </tr>\n",
       "    <tr>\n",
       "      <th>765</th>\n",
       "      <td>5</td>\n",
       "      <td>121</td>\n",
       "      <td>72</td>\n",
       "      <td>23</td>\n",
       "      <td>112</td>\n",
       "      <td>26.2</td>\n",
       "      <td>0.245</td>\n",
       "      <td>30</td>\n",
       "      <td>0</td>\n",
       "    </tr>\n",
       "    <tr>\n",
       "      <th>766</th>\n",
       "      <td>1</td>\n",
       "      <td>126</td>\n",
       "      <td>60</td>\n",
       "      <td>0</td>\n",
       "      <td>0</td>\n",
       "      <td>30.1</td>\n",
       "      <td>0.349</td>\n",
       "      <td>47</td>\n",
       "      <td>1</td>\n",
       "    </tr>\n",
       "    <tr>\n",
       "      <th>767</th>\n",
       "      <td>1</td>\n",
       "      <td>93</td>\n",
       "      <td>70</td>\n",
       "      <td>31</td>\n",
       "      <td>0</td>\n",
       "      <td>30.4</td>\n",
       "      <td>0.315</td>\n",
       "      <td>23</td>\n",
       "      <td>0</td>\n",
       "    </tr>\n",
       "  </tbody>\n",
       "</table>\n",
       "<p>768 rows × 9 columns</p>\n",
       "</div>"
      ],
      "text/plain": [
       "     Pregnancies  Glucose  BloodPressure  SkinThickness  Insulin   BMI  \\\n",
       "0              6      148             72             35        0  33.6   \n",
       "1              1       85             66             29        0  26.6   \n",
       "2              8      183             64              0        0  23.3   \n",
       "3              1       89             66             23       94  28.1   \n",
       "4              0      137             40             35      168  43.1   \n",
       "..           ...      ...            ...            ...      ...   ...   \n",
       "763           10      101             76             48      180  32.9   \n",
       "764            2      122             70             27        0  36.8   \n",
       "765            5      121             72             23      112  26.2   \n",
       "766            1      126             60              0        0  30.1   \n",
       "767            1       93             70             31        0  30.4   \n",
       "\n",
       "     DiabetesPedigreeFunction  Age  Outcome  \n",
       "0                       0.627   50        1  \n",
       "1                       0.351   31        0  \n",
       "2                       0.672   32        1  \n",
       "3                       0.167   21        0  \n",
       "4                       2.288   33        1  \n",
       "..                        ...  ...      ...  \n",
       "763                     0.171   63        0  \n",
       "764                     0.340   27        0  \n",
       "765                     0.245   30        0  \n",
       "766                     0.349   47        1  \n",
       "767                     0.315   23        0  \n",
       "\n",
       "[768 rows x 9 columns]"
      ]
     },
     "execution_count": 9,
     "metadata": {},
     "output_type": "execute_result"
    }
   ],
   "source": [
    "dataset =  pd.read_csv('diabetes.csv', delimiter=',')\n",
    "dataset"
   ]
  },
  {
   "cell_type": "code",
   "execution_count": 10,
   "metadata": {
    "scrolled": false
   },
   "outputs": [
    {
     "name": "stdout",
     "output_type": "stream",
     "text": [
      "(768, 8)\n",
      "0      1\n",
      "1      0\n",
      "2      1\n",
      "3      0\n",
      "4      1\n",
      "      ..\n",
      "763    0\n",
      "764    0\n",
      "765    0\n",
      "766    1\n",
      "767    0\n",
      "Name: Outcome, Length: 768, dtype: int64\n"
     ]
    }
   ],
   "source": [
    "x = dataset.iloc[:,0:8]\n",
    "print(x.shape)\n",
    "y = dataset.iloc[:,8]\n",
    "print(y)"
   ]
  },
  {
   "cell_type": "code",
   "execution_count": 11,
   "metadata": {},
   "outputs": [],
   "source": [
    "model = Sequential()"
   ]
  },
  {
   "cell_type": "code",
   "execution_count": 12,
   "metadata": {},
   "outputs": [],
   "source": [
    "model.add(Dense(12,input_shape=(8,),activation='relu'))"
   ]
  },
  {
   "cell_type": "code",
   "execution_count": 13,
   "metadata": {},
   "outputs": [],
   "source": [
    "model.add(Dense(8, activation='relu'))"
   ]
  },
  {
   "cell_type": "code",
   "execution_count": 14,
   "metadata": {},
   "outputs": [],
   "source": [
    "model.add(Dense(1,activation='sigmoid'))"
   ]
  },
  {
   "cell_type": "code",
   "execution_count": 15,
   "metadata": {},
   "outputs": [],
   "source": [
    "model.compile(loss='binary_crossentropy', optimizer='adam', metrics=['accuracy'])"
   ]
  },
  {
   "cell_type": "code",
   "execution_count": 16,
   "metadata": {},
   "outputs": [
    {
     "name": "stdout",
     "output_type": "stream",
     "text": [
      "Epoch 1/150\n",
      "77/77 [==============================] - 0s 679us/step - loss: 12.7038 - accuracy: 0.6510\n",
      "Epoch 2/150\n",
      "77/77 [==============================] - 0s 645us/step - loss: 2.8632 - accuracy: 0.6211\n",
      "Epoch 3/150\n",
      "77/77 [==============================] - 0s 645us/step - loss: 0.9607 - accuracy: 0.5859\n",
      "Epoch 4/150\n",
      "77/77 [==============================] - 0s 605us/step - loss: 0.7851 - accuracy: 0.5651\n",
      "Epoch 5/150\n",
      "77/77 [==============================] - 0s 618us/step - loss: 0.7017 - accuracy: 0.5924\n",
      "Epoch 6/150\n",
      "77/77 [==============================] - 0s 605us/step - loss: 0.6715 - accuracy: 0.6107\n",
      "Epoch 7/150\n",
      "77/77 [==============================] - 0s 605us/step - loss: 0.6474 - accuracy: 0.6315\n",
      "Epoch 8/150\n",
      "77/77 [==============================] - 0s 592us/step - loss: 0.6395 - accuracy: 0.6471\n",
      "Epoch 9/150\n",
      "77/77 [==============================] - 0s 618us/step - loss: 0.6353 - accuracy: 0.6354\n",
      "Epoch 10/150\n",
      "77/77 [==============================] - 0s 605us/step - loss: 0.6257 - accuracy: 0.6523\n",
      "Epoch 11/150\n",
      "77/77 [==============================] - 0s 618us/step - loss: 0.6198 - accuracy: 0.6523\n",
      "Epoch 12/150\n",
      "77/77 [==============================] - 0s 632us/step - loss: 0.6238 - accuracy: 0.6758\n",
      "Epoch 13/150\n",
      "77/77 [==============================] - 0s 632us/step - loss: 0.6270 - accuracy: 0.6497\n",
      "Epoch 14/150\n",
      "77/77 [==============================] - 0s 619us/step - loss: 0.6189 - accuracy: 0.6784\n",
      "Epoch 15/150\n",
      "77/77 [==============================] - 0s 632us/step - loss: 0.6254 - accuracy: 0.6315\n",
      "Epoch 16/150\n",
      "77/77 [==============================] - 0s 632us/step - loss: 0.6180 - accuracy: 0.6510\n",
      "Epoch 17/150\n",
      "77/77 [==============================] - 0s 682us/step - loss: 0.6097 - accuracy: 0.6510\n",
      "Epoch 18/150\n",
      "77/77 [==============================] - 0s 619us/step - loss: 0.6169 - accuracy: 0.6510\n",
      "Epoch 19/150\n",
      "77/77 [==============================] - 0s 632us/step - loss: 0.6118 - accuracy: 0.6510\n",
      "Epoch 20/150\n",
      "77/77 [==============================] - 0s 632us/step - loss: 0.6097 - accuracy: 0.6510\n",
      "Epoch 21/150\n",
      "77/77 [==============================] - 0s 645us/step - loss: 0.6164 - accuracy: 0.6510\n",
      "Epoch 22/150\n",
      "77/77 [==============================] - 0s 632us/step - loss: 0.6136 - accuracy: 0.6510\n",
      "Epoch 23/150\n",
      "77/77 [==============================] - 0s 632us/step - loss: 0.6159 - accuracy: 0.6497\n",
      "Epoch 24/150\n",
      "77/77 [==============================] - 0s 645us/step - loss: 0.6170 - accuracy: 0.6510\n",
      "Epoch 25/150\n",
      "77/77 [==============================] - 0s 645us/step - loss: 0.6123 - accuracy: 0.6510\n",
      "Epoch 26/150\n",
      "77/77 [==============================] - 0s 619us/step - loss: 0.6082 - accuracy: 0.6497\n",
      "Epoch 27/150\n",
      "77/77 [==============================] - 0s 619us/step - loss: 0.6094 - accuracy: 0.6510\n",
      "Epoch 28/150\n",
      "77/77 [==============================] - 0s 605us/step - loss: 0.6097 - accuracy: 0.6497\n",
      "Epoch 29/150\n",
      "77/77 [==============================] - 0s 632us/step - loss: 0.6078 - accuracy: 0.6510\n",
      "Epoch 30/150\n",
      "77/77 [==============================] - 0s 605us/step - loss: 0.6058 - accuracy: 0.6497\n",
      "Epoch 31/150\n",
      "77/77 [==============================] - 0s 605us/step - loss: 0.6195 - accuracy: 0.6510\n",
      "Epoch 32/150\n",
      "77/77 [==============================] - 0s 632us/step - loss: 0.6055 - accuracy: 0.6523\n",
      "Epoch 33/150\n",
      "77/77 [==============================] - 0s 645us/step - loss: 0.6020 - accuracy: 0.6497\n",
      "Epoch 34/150\n",
      "77/77 [==============================] - 0s 645us/step - loss: 0.6015 - accuracy: 0.6510\n",
      "Epoch 35/150\n",
      "77/77 [==============================] - 0s 605us/step - loss: 0.6123 - accuracy: 0.6510\n",
      "Epoch 36/150\n",
      "77/77 [==============================] - 0s 605us/step - loss: 0.6027 - accuracy: 0.6510\n",
      "Epoch 37/150\n",
      "77/77 [==============================] - 0s 619us/step - loss: 0.6021 - accuracy: 0.6510\n",
      "Epoch 38/150\n",
      "77/77 [==============================] - 0s 605us/step - loss: 0.6096 - accuracy: 0.6510\n",
      "Epoch 39/150\n",
      "77/77 [==============================] - 0s 632us/step - loss: 0.6070 - accuracy: 0.6497\n",
      "Epoch 40/150\n",
      "77/77 [==============================] - 0s 618us/step - loss: 0.6107 - accuracy: 0.6510\n",
      "Epoch 41/150\n",
      "77/77 [==============================] - 0s 605us/step - loss: 0.6080 - accuracy: 0.6510\n",
      "Epoch 42/150\n",
      "77/77 [==============================] - 0s 632us/step - loss: 0.6037 - accuracy: 0.6510\n",
      "Epoch 43/150\n",
      "77/77 [==============================] - 0s 645us/step - loss: 0.6046 - accuracy: 0.6510\n",
      "Epoch 44/150\n",
      "77/77 [==============================] - 0s 618us/step - loss: 0.6049 - accuracy: 0.6510\n",
      "Epoch 45/150\n",
      "77/77 [==============================] - 0s 619us/step - loss: 0.6017 - accuracy: 0.6510\n",
      "Epoch 46/150\n",
      "77/77 [==============================] - 0s 645us/step - loss: 0.5987 - accuracy: 0.6510\n",
      "Epoch 47/150\n",
      "77/77 [==============================] - 0s 632us/step - loss: 0.6030 - accuracy: 0.6510\n",
      "Epoch 48/150\n",
      "77/77 [==============================] - 0s 632us/step - loss: 0.5996 - accuracy: 0.6510\n",
      "Epoch 49/150\n",
      "77/77 [==============================] - 0s 645us/step - loss: 0.6017 - accuracy: 0.6510\n",
      "Epoch 50/150\n",
      "77/77 [==============================] - 0s 618us/step - loss: 0.6013 - accuracy: 0.6510\n",
      "Epoch 51/150\n",
      "77/77 [==============================] - 0s 632us/step - loss: 0.5914 - accuracy: 0.6510\n",
      "Epoch 52/150\n",
      "77/77 [==============================] - 0s 645us/step - loss: 0.5983 - accuracy: 0.6510\n",
      "Epoch 53/150\n",
      "77/77 [==============================] - 0s 618us/step - loss: 0.5955 - accuracy: 0.6510\n",
      "Epoch 54/150\n",
      "77/77 [==============================] - 0s 605us/step - loss: 0.6015 - accuracy: 0.6510\n",
      "Epoch 55/150\n",
      "77/77 [==============================] - 0s 592us/step - loss: 0.6000 - accuracy: 0.6484\n",
      "Epoch 56/150\n",
      "77/77 [==============================] - 0s 592us/step - loss: 0.6062 - accuracy: 0.6510\n",
      "Epoch 57/150\n",
      "77/77 [==============================] - 0s 605us/step - loss: 0.5982 - accuracy: 0.6510\n",
      "Epoch 58/150\n",
      "77/77 [==============================] - 0s 605us/step - loss: 0.6031 - accuracy: 0.6510\n",
      "Epoch 59/150\n",
      "77/77 [==============================] - 0s 592us/step - loss: 0.5992 - accuracy: 0.6510\n",
      "Epoch 60/150\n",
      "77/77 [==============================] - 0s 618us/step - loss: 0.5959 - accuracy: 0.6497\n",
      "Epoch 61/150\n",
      "77/77 [==============================] - 0s 645us/step - loss: 0.6027 - accuracy: 0.6510\n",
      "Epoch 62/150\n",
      "77/77 [==============================] - 0s 619us/step - loss: 0.6080 - accuracy: 0.6510\n",
      "Epoch 63/150\n",
      "77/77 [==============================] - 0s 632us/step - loss: 0.5989 - accuracy: 0.6523\n",
      "Epoch 64/150\n",
      "77/77 [==============================] - 0s 632us/step - loss: 0.5960 - accuracy: 0.6523\n",
      "Epoch 65/150\n",
      "77/77 [==============================] - 0s 645us/step - loss: 0.6077 - accuracy: 0.6510\n",
      "Epoch 66/150\n",
      "77/77 [==============================] - 0s 632us/step - loss: 0.5963 - accuracy: 0.6510\n",
      "Epoch 67/150\n",
      "77/77 [==============================] - 0s 632us/step - loss: 0.5945 - accuracy: 0.6523\n",
      "Epoch 68/150\n",
      "77/77 [==============================] - 0s 618us/step - loss: 0.5929 - accuracy: 0.6523\n",
      "Epoch 69/150\n",
      "77/77 [==============================] - 0s 618us/step - loss: 0.6093 - accuracy: 0.6510\n",
      "Epoch 70/150\n",
      "77/77 [==============================] - 0s 605us/step - loss: 0.5998 - accuracy: 0.6510\n",
      "Epoch 71/150\n",
      "77/77 [==============================] - 0s 605us/step - loss: 0.5842 - accuracy: 0.6523\n",
      "Epoch 72/150\n",
      "77/77 [==============================] - 0s 618us/step - loss: 0.5924 - accuracy: 0.6523\n",
      "Epoch 73/150\n",
      "77/77 [==============================] - 0s 618us/step - loss: 0.6016 - accuracy: 0.6523\n",
      "Epoch 74/150\n",
      "77/77 [==============================] - 0s 605us/step - loss: 0.5925 - accuracy: 0.6523\n",
      "Epoch 75/150\n",
      "77/77 [==============================] - 0s 618us/step - loss: 0.5955 - accuracy: 0.6510\n",
      "Epoch 76/150\n",
      "77/77 [==============================] - 0s 592us/step - loss: 0.5934 - accuracy: 0.6510\n",
      "Epoch 77/150\n",
      "77/77 [==============================] - 0s 619us/step - loss: 0.5942 - accuracy: 0.6523\n",
      "Epoch 78/150\n",
      "77/77 [==============================] - 0s 618us/step - loss: 0.5908 - accuracy: 0.6523\n",
      "Epoch 79/150\n",
      "77/77 [==============================] - 0s 605us/step - loss: 0.5917 - accuracy: 0.6510\n",
      "Epoch 80/150\n",
      "77/77 [==============================] - 0s 605us/step - loss: 0.5960 - accuracy: 0.6523\n",
      "Epoch 81/150\n",
      "77/77 [==============================] - 0s 605us/step - loss: 0.5974 - accuracy: 0.6510\n",
      "Epoch 82/150\n",
      "77/77 [==============================] - 0s 619us/step - loss: 0.5993 - accuracy: 0.6510\n",
      "Epoch 83/150\n",
      "77/77 [==============================] - 0s 618us/step - loss: 0.5986 - accuracy: 0.6510\n",
      "Epoch 84/150\n",
      "77/77 [==============================] - 0s 592us/step - loss: 0.5994 - accuracy: 0.6523\n",
      "Epoch 85/150\n",
      "77/77 [==============================] - 0s 592us/step - loss: 0.6018 - accuracy: 0.6523\n",
      "Epoch 86/150\n",
      "77/77 [==============================] - 0s 605us/step - loss: 0.5987 - accuracy: 0.6523\n",
      "Epoch 87/150\n",
      "77/77 [==============================] - 0s 592us/step - loss: 0.5934 - accuracy: 0.6510\n",
      "Epoch 88/150\n",
      "77/77 [==============================] - 0s 605us/step - loss: 0.5959 - accuracy: 0.6510\n",
      "Epoch 89/150\n",
      "77/77 [==============================] - 0s 645us/step - loss: 0.5987 - accuracy: 0.6510\n",
      "Epoch 90/150\n",
      "77/77 [==============================] - 0s 605us/step - loss: 0.5936 - accuracy: 0.6510\n",
      "Epoch 91/150\n",
      "77/77 [==============================] - 0s 592us/step - loss: 0.5885 - accuracy: 0.6510\n",
      "Epoch 92/150\n",
      "77/77 [==============================] - 0s 605us/step - loss: 0.5826 - accuracy: 0.6510\n",
      "Epoch 93/150\n",
      "77/77 [==============================] - 0s 592us/step - loss: 0.5870 - accuracy: 0.6523\n",
      "Epoch 94/150\n",
      "77/77 [==============================] - 0s 619us/step - loss: 0.5901 - accuracy: 0.6523\n",
      "Epoch 95/150\n",
      "77/77 [==============================] - 0s 605us/step - loss: 0.5829 - accuracy: 0.6510\n",
      "Epoch 96/150\n",
      "77/77 [==============================] - 0s 658us/step - loss: 0.5855 - accuracy: 0.6510\n",
      "Epoch 97/150\n",
      "77/77 [==============================] - 0s 592us/step - loss: 0.5832 - accuracy: 0.6510\n",
      "Epoch 98/150\n",
      "77/77 [==============================] - 0s 618us/step - loss: 0.5938 - accuracy: 0.6523\n",
      "Epoch 99/150\n",
      "77/77 [==============================] - 0s 618us/step - loss: 0.5950 - accuracy: 0.6510\n",
      "Epoch 100/150\n",
      "77/77 [==============================] - 0s 618us/step - loss: 0.5932 - accuracy: 0.6510\n",
      "Epoch 101/150\n",
      "77/77 [==============================] - 0s 605us/step - loss: 0.5887 - accuracy: 0.6510\n",
      "Epoch 102/150\n",
      "77/77 [==============================] - 0s 605us/step - loss: 0.5872 - accuracy: 0.6523\n",
      "Epoch 103/150\n",
      "77/77 [==============================] - 0s 605us/step - loss: 0.5797 - accuracy: 0.6510\n",
      "Epoch 104/150\n",
      "77/77 [==============================] - 0s 605us/step - loss: 0.5822 - accuracy: 0.6523\n",
      "Epoch 105/150\n",
      "77/77 [==============================] - 0s 605us/step - loss: 0.5828 - accuracy: 0.6523\n",
      "Epoch 106/150\n",
      "77/77 [==============================] - 0s 605us/step - loss: 0.5799 - accuracy: 0.6510\n",
      "Epoch 107/150\n",
      "77/77 [==============================] - 0s 592us/step - loss: 0.5993 - accuracy: 0.6523\n",
      "Epoch 108/150\n",
      "77/77 [==============================] - 0s 592us/step - loss: 0.5877 - accuracy: 0.6523\n",
      "Epoch 109/150\n",
      "77/77 [==============================] - 0s 619us/step - loss: 0.5830 - accuracy: 0.6523\n",
      "Epoch 110/150\n",
      "77/77 [==============================] - 0s 619us/step - loss: 0.5756 - accuracy: 0.6523\n",
      "Epoch 111/150\n",
      "77/77 [==============================] - 0s 618us/step - loss: 0.5778 - accuracy: 0.6680\n",
      "Epoch 112/150\n",
      "77/77 [==============================] - 0s 605us/step - loss: 0.5763 - accuracy: 0.7174\n",
      "Epoch 113/150\n",
      "77/77 [==============================] - 0s 605us/step - loss: 0.5711 - accuracy: 0.7083\n",
      "Epoch 114/150\n",
      "77/77 [==============================] - 0s 605us/step - loss: 0.5833 - accuracy: 0.7070\n",
      "Epoch 115/150\n",
      "77/77 [==============================] - 0s 618us/step - loss: 0.5717 - accuracy: 0.7122\n",
      "Epoch 116/150\n",
      "77/77 [==============================] - 0s 605us/step - loss: 0.5760 - accuracy: 0.7122\n",
      "Epoch 117/150\n",
      "77/77 [==============================] - 0s 618us/step - loss: 0.5795 - accuracy: 0.7135\n",
      "Epoch 118/150\n",
      "77/77 [==============================] - 0s 605us/step - loss: 0.5791 - accuracy: 0.7174\n",
      "Epoch 119/150\n",
      "77/77 [==============================] - 0s 605us/step - loss: 0.5839 - accuracy: 0.6849\n",
      "Epoch 120/150\n",
      "77/77 [==============================] - 0s 592us/step - loss: 0.5767 - accuracy: 0.6888\n",
      "Epoch 121/150\n",
      "77/77 [==============================] - 0s 605us/step - loss: 0.5789 - accuracy: 0.7057\n",
      "Epoch 122/150\n",
      "77/77 [==============================] - 0s 605us/step - loss: 0.5726 - accuracy: 0.7227\n",
      "Epoch 123/150\n",
      "77/77 [==============================] - 0s 618us/step - loss: 0.5713 - accuracy: 0.7083\n",
      "Epoch 124/150\n",
      "77/77 [==============================] - 0s 592us/step - loss: 0.5764 - accuracy: 0.7005\n",
      "Epoch 125/150\n",
      "77/77 [==============================] - 0s 605us/step - loss: 0.5877 - accuracy: 0.6823\n",
      "Epoch 126/150\n",
      "77/77 [==============================] - 0s 593us/step - loss: 0.5896 - accuracy: 0.6758\n",
      "Epoch 127/150\n",
      "77/77 [==============================] - 0s 592us/step - loss: 0.5829 - accuracy: 0.6745\n",
      "Epoch 128/150\n",
      "77/77 [==============================] - 0s 618us/step - loss: 0.5798 - accuracy: 0.6836\n",
      "Epoch 129/150\n",
      "77/77 [==============================] - 0s 605us/step - loss: 0.5843 - accuracy: 0.6927\n",
      "Epoch 130/150\n",
      "77/77 [==============================] - 0s 605us/step - loss: 0.5744 - accuracy: 0.7057\n",
      "Epoch 131/150\n",
      "77/77 [==============================] - 0s 592us/step - loss: 0.5730 - accuracy: 0.7044\n",
      "Epoch 132/150\n",
      "77/77 [==============================] - 0s 605us/step - loss: 0.5773 - accuracy: 0.7070\n",
      "Epoch 133/150\n",
      "77/77 [==============================] - 0s 605us/step - loss: 0.5674 - accuracy: 0.7109\n",
      "Epoch 134/150\n",
      "77/77 [==============================] - 0s 618us/step - loss: 0.5824 - accuracy: 0.6836\n",
      "Epoch 135/150\n",
      "77/77 [==============================] - 0s 592us/step - loss: 0.5694 - accuracy: 0.7109\n",
      "Epoch 136/150\n",
      "77/77 [==============================] - 0s 618us/step - loss: 0.5701 - accuracy: 0.7096\n",
      "Epoch 137/150\n",
      "77/77 [==============================] - 0s 605us/step - loss: 0.5693 - accuracy: 0.7161\n",
      "Epoch 138/150\n",
      "77/77 [==============================] - 0s 619us/step - loss: 0.5716 - accuracy: 0.7174\n",
      "Epoch 139/150\n",
      "77/77 [==============================] - 0s 645us/step - loss: 0.5739 - accuracy: 0.7174\n",
      "Epoch 140/150\n",
      "77/77 [==============================] - 0s 605us/step - loss: 0.5717 - accuracy: 0.6979\n",
      "Epoch 141/150\n",
      "77/77 [==============================] - 0s 605us/step - loss: 0.5725 - accuracy: 0.7148\n",
      "Epoch 142/150\n",
      "77/77 [==============================] - 0s 592us/step - loss: 0.5710 - accuracy: 0.7109\n",
      "Epoch 143/150\n",
      "77/77 [==============================] - 0s 592us/step - loss: 0.5740 - accuracy: 0.6914\n",
      "Epoch 144/150\n",
      "77/77 [==============================] - 0s 605us/step - loss: 0.5701 - accuracy: 0.7070\n",
      "Epoch 145/150\n",
      "77/77 [==============================] - 0s 605us/step - loss: 0.5710 - accuracy: 0.7070\n",
      "Epoch 146/150\n",
      "77/77 [==============================] - 0s 605us/step - loss: 0.5678 - accuracy: 0.7070\n",
      "Epoch 147/150\n",
      "77/77 [==============================] - 0s 592us/step - loss: 0.5742 - accuracy: 0.6953\n",
      "Epoch 148/150\n",
      "77/77 [==============================] - 0s 592us/step - loss: 0.5690 - accuracy: 0.7109\n",
      "Epoch 149/150\n",
      "77/77 [==============================] - 0s 592us/step - loss: 0.5671 - accuracy: 0.7109\n",
      "Epoch 150/150\n",
      "77/77 [==============================] - 0s 592us/step - loss: 0.5693 - accuracy: 0.7122\n"
     ]
    },
    {
     "data": {
      "text/plain": [
       "<keras.callbacks.History at 0x1ba37e2f3d0>"
      ]
     },
     "execution_count": 16,
     "metadata": {},
     "output_type": "execute_result"
    }
   ],
   "source": [
    "model.fit(x,y, epochs=150, batch_size=10)"
   ]
  },
  {
   "cell_type": "code",
   "execution_count": 17,
   "metadata": {
    "scrolled": true
   },
   "outputs": [
    {
     "name": "stdout",
     "output_type": "stream",
     "text": [
      "24/24 [==============================] - 0s 695us/step - loss: 0.5706 - accuracy: 0.6992\n"
     ]
    },
    {
     "data": {
      "text/plain": [
       "[0.5706384181976318, 0.69921875]"
      ]
     },
     "execution_count": 17,
     "metadata": {},
     "output_type": "execute_result"
    }
   ],
   "source": [
    "model.evaluate(x,y)"
   ]
  },
  {
   "cell_type": "markdown",
   "metadata": {},
   "source": [
    "# PyTorch"
   ]
  },
  {
   "cell_type": "code",
   "execution_count": 2,
   "metadata": {},
   "outputs": [],
   "source": [
    "import torch\n",
    "import numpy as np"
   ]
  },
  {
   "cell_type": "code",
   "execution_count": 3,
   "metadata": {},
   "outputs": [
    {
     "name": "stdout",
     "output_type": "stream",
     "text": [
      "tensor([[1, 2],\n",
      "        [3, 4]])\n",
      "<class 'torch.Tensor'>\n"
     ]
    }
   ],
   "source": [
    "#using data\n",
    "data = [ \n",
    " [1,2], \n",
    " [3,4] \n",
    "] \n",
    "x_data = torch.tensor(data) \n",
    "print(x_data)\n",
    "print(type(x_data)) "
   ]
  },
  {
   "cell_type": "code",
   "execution_count": 4,
   "metadata": {},
   "outputs": [
    {
     "name": "stdout",
     "output_type": "stream",
     "text": [
      "tensor([[1, 2],\n",
      "        [3, 4]], dtype=torch.int32)\n",
      "<class 'torch.Tensor'>\n"
     ]
    }
   ],
   "source": [
    "#using numpy array \n",
    "np_array = np.array(data) \n",
    "x_np = torch.from_numpy(np_array) \n",
    "print(x_np) \n",
    "print(type(x_np))"
   ]
  },
  {
   "cell_type": "code",
   "execution_count": 5,
   "metadata": {},
   "outputs": [
    {
     "name": "stdout",
     "output_type": "stream",
     "text": [
      "One Tensor: \n",
      " tensor([[1, 1],\n",
      "        [1, 1]])\n",
      "tensor([[0.3013, 0.7416],\n",
      "        [0.3376, 0.0398]])\n"
     ]
    }
   ],
   "source": [
    "#using another tensor \n",
    "x_ones = torch.ones_like(x_data) \n",
    "print(\"One Tensor: \\n\",x_ones) \n",
    "x_rand = torch.rand_like(x_data,dtype=torch.float) \n",
    "print(x_rand) "
   ]
  },
  {
   "cell_type": "code",
   "execution_count": 8,
   "metadata": {},
   "outputs": [
    {
     "name": "stdout",
     "output_type": "stream",
     "text": [
      "tensor([[0.2072, 0.1619, 0.3673],\n",
      "        [0.3414, 0.1611, 0.1831]])\n",
      "<class 'torch.Tensor'>\n",
      "tensor([[1., 1., 1.],\n",
      "        [1., 1., 1.]])\n",
      "<class 'torch.Tensor'>\n",
      "tensor([[0., 0., 0.],\n",
      "        [0., 0., 0.]])\n",
      "<class 'torch.Tensor'>\n",
      "tensor([[0.6838, 0.5278, 0.5237, 0.5776],\n",
      "        [0.7557, 0.4264, 0.7474, 0.3925],\n",
      "        [0.3442, 0.9778, 0.1214, 0.7322]])\n",
      "<class 'torch.Tensor'>\n"
     ]
    }
   ],
   "source": [
    "# more ways to create tensors \n",
    "shape = (2,3) \n",
    "random_tensor = torch.rand(shape) \n",
    "print(random_tensor) \n",
    "print(type(random_tensor)) \n",
    "ones_tensor = torch.ones(shape) \n",
    "print(ones_tensor) \n",
    "print(type(ones_tensor)) \n",
    "zeros_tensor = torch.zeros(shape) \n",
    "print(zeros_tensor) \n",
    "print(type(zeros_tensor)) \n",
    "tensor = torch.rand(3,4) \n",
    "print(tensor) \n",
    "print(type(tensor))"
   ]
  },
  {
   "cell_type": "code",
   "execution_count": 10,
   "metadata": {},
   "outputs": [
    {
     "name": "stdout",
     "output_type": "stream",
     "text": [
      "tensor([[1., 1., 1., 1.],\n",
      "        [1., 1., 1., 1.],\n",
      "        [1., 1., 1., 1.],\n",
      "        [1., 1., 1., 1.]])\n",
      "tensor([[1., 1., 1., 1.],\n",
      "        [1., 1., 1., 1.],\n",
      "        [1., 1., 1., 1.],\n",
      "        [1., 1., 1., 1.]])\n",
      "tensor([[0., 0., 0., 0.],\n",
      "        [0., 0., 0., 0.],\n",
      "        [0., 0., 0., 0.],\n",
      "        [0., 0., 0., 0.]])\n",
      "tensor([[1., 1., 1., 1.],\n",
      "        [1., 1., 1., 1.],\n",
      "        [1., 1., 1., 1.],\n",
      "        [1., 1., 1., 1.],\n",
      "        [0., 0., 0., 0.],\n",
      "        [0., 0., 0., 0.],\n",
      "        [0., 0., 0., 0.],\n",
      "        [0., 0., 0., 0.]])\n"
     ]
    }
   ],
   "source": [
    "# Indexing, Slicing \n",
    "tensor = torch.ones(4,4)\n",
    "print(tensor) \n",
    "print(tensor) \n",
    "tensor1 = torch.zeros(4,4) \n",
    "print(tensor1) \n",
    "tensor2 = torch.cat([tensor,tensor1]) \n",
    "print(tensor2) "
   ]
  },
  {
   "cell_type": "code",
   "execution_count": 11,
   "metadata": {},
   "outputs": [
    {
     "data": {
      "text/plain": [
       "tensor([[1., 1., 1., 1.],\n",
       "        [1., 1., 1., 1.],\n",
       "        [1., 1., 1., 1.],\n",
       "        [1., 1., 1., 1.]])"
      ]
     },
     "execution_count": 11,
     "metadata": {},
     "output_type": "execute_result"
    }
   ],
   "source": [
    "# Multiply Operation \n",
    "tensor.mul(tensor1) \n",
    "tensor * tensor1 \n",
    "tensor.T"
   ]
  },
  {
   "cell_type": "code",
   "execution_count": 9,
   "metadata": {},
   "outputs": [
    {
     "name": "stdout",
     "output_type": "stream",
     "text": [
      "tensor([[4., 4., 4., 4.],\n",
      "        [4., 4., 4., 4.],\n",
      "        [4., 4., 4., 4.],\n",
      "        [4., 4., 4., 4.]])\n"
     ]
    }
   ],
   "source": [
    "# inplace - change the original tensor \n",
    "tensor.add_(3) \n",
    "print(tensor) "
   ]
  },
  {
   "cell_type": "code",
   "execution_count": 10,
   "metadata": {},
   "outputs": [
    {
     "name": "stdout",
     "output_type": "stream",
     "text": [
      "tensor([1., 1., 1., 1., 1.])\n",
      "[1. 1. 1. 1. 1.]\n",
      "<class 'numpy.ndarray'>\n"
     ]
    }
   ],
   "source": [
    "# from tensor to numpy \n",
    "t = torch.ones(5) \n",
    "print(t) \n",
    "n = t.numpy() \n",
    "print(n) \n",
    "print(type(n)) "
   ]
  }
 ],
 "metadata": {
  "colab": {
   "provenance": []
  },
  "kernelspec": {
   "display_name": "Python 3 (ipykernel)",
   "language": "python",
   "name": "python3"
  },
  "language_info": {
   "codemirror_mode": {
    "name": "ipython",
    "version": 3
   },
   "file_extension": ".py",
   "mimetype": "text/x-python",
   "name": "python",
   "nbconvert_exporter": "python",
   "pygments_lexer": "ipython3",
   "version": "3.9.12"
  }
 },
 "nbformat": 4,
 "nbformat_minor": 1
}
